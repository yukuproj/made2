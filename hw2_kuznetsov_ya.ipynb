{
  "cells": [
    {
      "cell_type": "markdown",
      "metadata": {
        "id": "view-in-github",
        "colab_type": "text"
      },
      "source": [
        "<a href=\"https://colab.research.google.com/github/yukuproj/made2/blob/main/hw2_kuznetsov_ya.ipynb\" target=\"_parent\"><img src=\"https://colab.research.google.com/assets/colab-badge.svg\" alt=\"Open In Colab\"/></a>"
      ]
    },
    {
      "cell_type": "markdown",
      "metadata": {
        "id": "oQzDWsv9fOa_"
      },
      "source": [
        "# Что? Где? Когда? Рейтинги homework 2\n",
        "\n",
        "\n"
      ]
    },
    {
      "cell_type": "code",
      "execution_count": 1,
      "metadata": {
        "id": "gliVGLhUfObE"
      },
      "outputs": [],
      "source": [
        "import numpy as np\n",
        "import pandas as pd\n",
        "import pickle\n",
        "import re\n",
        "import scipy.stats as stats\n",
        "\n",
        "\n",
        "from tqdm import tqdm\n",
        "from sklearn.preprocessing import OneHotEncoder\n",
        "from sklearn.linear_model import LogisticRegression\n",
        "from scipy import sparse as sp\n",
        "from scipy.special import expit\n"
      ]
    },
    {
      "cell_type": "code",
      "source": [
        "ls"
      ],
      "metadata": {
        "colab": {
          "base_uri": "https://localhost:8080/"
        },
        "id": "C9_N8ZOUh3s5",
        "outputId": "f6c25a78-d8dc-431c-ca55-71c1fe2afcb7"
      },
      "execution_count": 2,
      "outputs": [
        {
          "output_type": "stream",
          "name": "stdout",
          "text": [
            "\u001b[0m\u001b[01;34mdrive\u001b[0m/  \u001b[01;34msample_data\u001b[0m/\n"
          ]
        }
      ]
    },
    {
      "cell_type": "code",
      "source": [
        "from google.colab import drive\n",
        "drive.mount('/content/drive')"
      ],
      "metadata": {
        "colab": {
          "base_uri": "https://localhost:8080/"
        },
        "id": "0yd-Gjp7ftIR",
        "outputId": "3a020f22-e9c8-4351-b63f-184557de2f89"
      },
      "execution_count": 47,
      "outputs": [
        {
          "output_type": "stream",
          "name": "stdout",
          "text": [
            "Drive already mounted at /content/drive; to attempt to forcibly remount, call drive.mount(\"/content/drive\", force_remount=True).\n"
          ]
        }
      ]
    },
    {
      "cell_type": "markdown",
      "metadata": {
        "id": "KIfC9bTQfObG"
      },
      "source": [
        "## Read"
      ]
    },
    {
      "cell_type": "code",
      "source": [
        "players_file = \"/content/drive/MyDrive/made2_ml_hw2/players.pkl\"\n",
        "results_file = \"/content/drive/MyDrive/made2_ml_hw2/results.pkl\"\n",
        "tournaments_file = (\"/content/drive/MyDrive/made2_ml_hw2/tournaments.pkl\")\n",
        "\n",
        "with open(players_file, 'rb') as fin:\n",
        "     players_data = pickle.load(fin)\n",
        "\n",
        "with open(tournaments_file, 'rb') as fin:\n",
        "     tournaments_data = pickle.load(fin)\n",
        "\n",
        "with open(results_file, 'rb') as fin:\n",
        "     results_data = pickle.load(fin)     "
      ],
      "metadata": {
        "id": "WxpMudD7gcUT"
      },
      "execution_count": 3,
      "outputs": []
    },
    {
      "cell_type": "markdown",
      "metadata": {
        "id": "lZv3E-rGfObO"
      },
      "source": [
        "Filtering data"
      ]
    },
    {
      "cell_type": "code",
      "execution_count": 6,
      "metadata": {
        "id": "XC7pbJETfObO"
      },
      "outputs": [],
      "source": [
        "def isOk(tr):\n",
        "    rez1 = tr.get('mask') and tr.get('teamMembers')    \n",
        "    rez2 = len(tr.get('teamMembers')) > 0    \n",
        "    rez3 = all(players_data.get(tm['player']['id']) for tm in tr.get('teamMembers'))\n",
        "    if not(rez1 and rez2 and rez3):  ##  нет состава команд или детализации по вопросам\n",
        "      return False\n",
        "    rez4 = not re.findall('[^01]', tr.get('mask'))   ## нет четких ответов\n",
        "    return rez4"
      ]
    },
    {
      "cell_type": "code",
      "execution_count": 7,
      "metadata": {
        "id": "6JAId2yifObP"
      },
      "outputs": [],
      "source": [
        "results_filtered = {}\n",
        "tournaments_filtered = {}\n",
        "\n",
        "for t_id, team_results in results_data.items():\n",
        "    team_results_filtered = [tr for tr in team_results if isOk(tr)]\n",
        "    if (len(team_results_filtered) > 0):\n",
        "        results_filtered[t_id] = team_results_filtered\n",
        "        tournaments_filtered[t_id] = tournaments_data[t_id]"
      ]
    },
    {
      "cell_type": "code",
      "execution_count": 8,
      "metadata": {
        "id": "oySK9EtYfObQ"
      },
      "outputs": [],
      "source": [
        "tournaments_train = {k: v for k, v in tournaments_filtered.items() if v['dateStart'][:4] == '2019'}  ## тестовая выборка -турниры за 2020 год\n",
        "tournaments_test  = {k: v for k, v in tournaments_filtered.items() if v['dateStart'][:4] == '2020'}  ## обучающая выборка - турниры за 2019 год"
      ]
    },
    {
      "cell_type": "code",
      "execution_count": 9,
      "metadata": {
        "id": "Y6xlIDgffObR",
        "outputId": "8fea151f-bc21-4dd5-f82e-2729635cfae8",
        "colab": {
          "base_uri": "https://localhost:8080/"
        }
      },
      "outputs": [
        {
          "output_type": "stream",
          "name": "stdout",
          "text": [
            "Размер обучающей выборки: 616\n",
            "Размер тестовой выборки:  160\n"
          ]
        }
      ],
      "source": [
        "print(f'Размер обучающей выборки: {len(tournaments_train)}')\n",
        "print(f'Размер тестовой выборки:  {len(tournaments_test)}')"
      ]
    },
    {
      "cell_type": "markdown",
      "metadata": {
        "id": "u3xULCXLfObR"
      },
      "source": [
        "## Baseline-модель <a name = \"baseline\"/>"
      ]
    },
    {
      "cell_type": "markdown",
      "metadata": {
        "id": "qJT0nqsEfObS"
      },
      "source": [
        "Будем предполагать что игрок отвечает точно также как и его команда. Т.е. если команда на вопрос ответила, то это значит, что и каждый игрок внутри команды тоже способен был самостоятельно ответить на вопрос. И обратно, более естественное требование, если команда не ответила, то не смог бы ответить и каждый игрок. \n",
        "\n",
        "Будем считать что модель устроена как логистическая регрессия, в которой в качестве аргументов являются метки игрока и метка вопроса. Неизвестными коэффициентами в этой регрессии будут являться \"уровень\" игрока и \"сложность вопроса\". При этом обучаться будем на 0 или 1 в зависимости от того, ответил ли игрок на вопрос или нет.\n",
        "\n",
        "Для определения переменных модели закодируем игрока и вопрос в с помощью OneHotEncoding представления. Входной вектор для обучения тогда - это вектор из нулей и единиц, где единицы соответствуют конкретному игроку и конкретному вопросу на который он отвечает, а ответ - 0 или 1 в зависимости от того, ответил ли игрок на вопрос. \n",
        "\n",
        "\n"
      ]
    },
    {
      "cell_type": "code",
      "execution_count": null,
      "metadata": {
        "id": "CCJHQCGzfObS",
        "outputId": "33a10229-df83-43b9-c4b4-d591f7ae5ec7",
        "colab": {
          "base_uri": "https://localhost:8080/"
        }
      },
      "outputs": [
        {
          "output_type": "stream",
          "name": "stderr",
          "text": [
            "100%|██████████| 616/616 [00:38<00:00, 16.06it/s]\n"
          ]
        }
      ],
      "source": [
        "\n",
        "max_question_id = 0\n",
        "\n",
        "train_table = []\n",
        "\n",
        "for tournament_id, tournament in tqdm(tournaments_train.items()):\n",
        "    for team_result in results_filtered[tournament_id]:\n",
        "        team_id = team_result['team']['id']\n",
        "        mask = np.array([np.int32(answer) for answer in team_result['mask']])\n",
        "        players = team_result['teamMembers']\n",
        "        questions = np.arange(max_question_id, max_question_id + len(mask))\n",
        "        \n",
        "        for player in players:\n",
        "            player_id = player['player']['id']\n",
        "            for i in range(len(mask)):\n",
        "                train_table.append([tournament_id, team_id, player_id, questions[i], mask[i]])\n",
        "    max_question_id += len(mask)    \n",
        "        \n",
        "train_df = pd.DataFrame(train_table, \n",
        "                        columns = ['tournament_id', 'team_id', 'player_id', 'question_id', 'answer'])      "
      ]
    },
    {
      "cell_type": "code",
      "execution_count": null,
      "metadata": {
        "id": "pF8MzHNYfObT"
      },
      "outputs": [],
      "source": [
        "ohe = OneHotEncoder(handle_unknown='ignore')\n",
        "X_train = ohe.fit_transform(train_df[['player_id', 'question_id']])\n",
        "y_train = train_df['answer']"
      ]
    },
    {
      "cell_type": "code",
      "execution_count": null,
      "metadata": {
        "id": "nFn2OqYYfObT",
        "outputId": "05e653fc-fd36-45d5-94e1-ffe46e5598ed",
        "colab": {
          "base_uri": "https://localhost:8080/"
        }
      },
      "outputs": [
        {
          "output_type": "execute_result",
          "data": {
            "text/plain": [
              "LogisticRegression(n_jobs=-1, random_state=42)"
            ]
          },
          "metadata": {},
          "execution_count": 36
        }
      ],
      "source": [
        "lr = LogisticRegression(random_state=random_state, n_jobs=-1)\n",
        "lr.fit(X_train, y_train)"
      ]
    },
    {
      "cell_type": "code",
      "execution_count": null,
      "metadata": {
        "id": "R9eClOiJfObU"
      },
      "outputs": [],
      "source": [
        "active_players = np.unique(train_df['player_id'])\n",
        "rating = pd.DataFrame({'id': active_players,\n",
        "                       'coef': lr.coef_[0][:len(active_players)],\n",
        "                       'name': [(players_data[i]['name'] + ' ' + players_data[i]['surname']) for i in active_players]\n",
        "                      })"
      ]
    },
    {
      "cell_type": "code",
      "execution_count": null,
      "metadata": {
        "id": "pii1g37ZfObU",
        "outputId": "0586da24-c8b9-4324-98c8-065946d13b70",
        "colab": {
          "base_uri": "https://localhost:8080/",
          "height": 424
        }
      },
      "outputs": [
        {
          "output_type": "execute_result",
          "data": {
            "text/plain": [
              "           id      coef                name\n",
              "3803    27403  3.589675        Максим Руссо\n",
              "593      4270  3.537738   Александра Брутер\n",
              "5106    37047  3.384659         Мария Юнгер\n",
              "3991    28751  3.311466        Иван Семушин\n",
              "5289    38196  3.247600    Артём Митрофанов\n",
              "...       ...       ...                 ...\n",
              "7453    66764  2.422163     Эльмира Гулуева\n",
              "2719    19468  2.420859  Виктория Маландина\n",
              "1287     9188  2.417401        Ольга Деркач\n",
              "650      4730  2.417401     Владислав Быков\n",
              "12426  116134  2.414673       Георгий Горев\n",
              "\n",
              "[200 rows x 3 columns]"
            ],
            "text/html": [
              "\n",
              "  <div id=\"df-d2c46676-46ad-45c6-b3ec-9d95b825d824\">\n",
              "    <div class=\"colab-df-container\">\n",
              "      <div>\n",
              "<style scoped>\n",
              "    .dataframe tbody tr th:only-of-type {\n",
              "        vertical-align: middle;\n",
              "    }\n",
              "\n",
              "    .dataframe tbody tr th {\n",
              "        vertical-align: top;\n",
              "    }\n",
              "\n",
              "    .dataframe thead th {\n",
              "        text-align: right;\n",
              "    }\n",
              "</style>\n",
              "<table border=\"1\" class=\"dataframe\">\n",
              "  <thead>\n",
              "    <tr style=\"text-align: right;\">\n",
              "      <th></th>\n",
              "      <th>id</th>\n",
              "      <th>coef</th>\n",
              "      <th>name</th>\n",
              "    </tr>\n",
              "  </thead>\n",
              "  <tbody>\n",
              "    <tr>\n",
              "      <th>3803</th>\n",
              "      <td>27403</td>\n",
              "      <td>3.589675</td>\n",
              "      <td>Максим Руссо</td>\n",
              "    </tr>\n",
              "    <tr>\n",
              "      <th>593</th>\n",
              "      <td>4270</td>\n",
              "      <td>3.537738</td>\n",
              "      <td>Александра Брутер</td>\n",
              "    </tr>\n",
              "    <tr>\n",
              "      <th>5106</th>\n",
              "      <td>37047</td>\n",
              "      <td>3.384659</td>\n",
              "      <td>Мария Юнгер</td>\n",
              "    </tr>\n",
              "    <tr>\n",
              "      <th>3991</th>\n",
              "      <td>28751</td>\n",
              "      <td>3.311466</td>\n",
              "      <td>Иван Семушин</td>\n",
              "    </tr>\n",
              "    <tr>\n",
              "      <th>5289</th>\n",
              "      <td>38196</td>\n",
              "      <td>3.247600</td>\n",
              "      <td>Артём Митрофанов</td>\n",
              "    </tr>\n",
              "    <tr>\n",
              "      <th>...</th>\n",
              "      <td>...</td>\n",
              "      <td>...</td>\n",
              "      <td>...</td>\n",
              "    </tr>\n",
              "    <tr>\n",
              "      <th>7453</th>\n",
              "      <td>66764</td>\n",
              "      <td>2.422163</td>\n",
              "      <td>Эльмира Гулуева</td>\n",
              "    </tr>\n",
              "    <tr>\n",
              "      <th>2719</th>\n",
              "      <td>19468</td>\n",
              "      <td>2.420859</td>\n",
              "      <td>Виктория Маландина</td>\n",
              "    </tr>\n",
              "    <tr>\n",
              "      <th>1287</th>\n",
              "      <td>9188</td>\n",
              "      <td>2.417401</td>\n",
              "      <td>Ольга Деркач</td>\n",
              "    </tr>\n",
              "    <tr>\n",
              "      <th>650</th>\n",
              "      <td>4730</td>\n",
              "      <td>2.417401</td>\n",
              "      <td>Владислав Быков</td>\n",
              "    </tr>\n",
              "    <tr>\n",
              "      <th>12426</th>\n",
              "      <td>116134</td>\n",
              "      <td>2.414673</td>\n",
              "      <td>Георгий Горев</td>\n",
              "    </tr>\n",
              "  </tbody>\n",
              "</table>\n",
              "<p>200 rows × 3 columns</p>\n",
              "</div>\n",
              "      <button class=\"colab-df-convert\" onclick=\"convertToInteractive('df-d2c46676-46ad-45c6-b3ec-9d95b825d824')\"\n",
              "              title=\"Convert this dataframe to an interactive table.\"\n",
              "              style=\"display:none;\">\n",
              "        \n",
              "  <svg xmlns=\"http://www.w3.org/2000/svg\" height=\"24px\"viewBox=\"0 0 24 24\"\n",
              "       width=\"24px\">\n",
              "    <path d=\"M0 0h24v24H0V0z\" fill=\"none\"/>\n",
              "    <path d=\"M18.56 5.44l.94 2.06.94-2.06 2.06-.94-2.06-.94-.94-2.06-.94 2.06-2.06.94zm-11 1L8.5 8.5l.94-2.06 2.06-.94-2.06-.94L8.5 2.5l-.94 2.06-2.06.94zm10 10l.94 2.06.94-2.06 2.06-.94-2.06-.94-.94-2.06-.94 2.06-2.06.94z\"/><path d=\"M17.41 7.96l-1.37-1.37c-.4-.4-.92-.59-1.43-.59-.52 0-1.04.2-1.43.59L10.3 9.45l-7.72 7.72c-.78.78-.78 2.05 0 2.83L4 21.41c.39.39.9.59 1.41.59.51 0 1.02-.2 1.41-.59l7.78-7.78 2.81-2.81c.8-.78.8-2.07 0-2.86zM5.41 20L4 18.59l7.72-7.72 1.47 1.35L5.41 20z\"/>\n",
              "  </svg>\n",
              "      </button>\n",
              "      \n",
              "  <style>\n",
              "    .colab-df-container {\n",
              "      display:flex;\n",
              "      flex-wrap:wrap;\n",
              "      gap: 12px;\n",
              "    }\n",
              "\n",
              "    .colab-df-convert {\n",
              "      background-color: #E8F0FE;\n",
              "      border: none;\n",
              "      border-radius: 50%;\n",
              "      cursor: pointer;\n",
              "      display: none;\n",
              "      fill: #1967D2;\n",
              "      height: 32px;\n",
              "      padding: 0 0 0 0;\n",
              "      width: 32px;\n",
              "    }\n",
              "\n",
              "    .colab-df-convert:hover {\n",
              "      background-color: #E2EBFA;\n",
              "      box-shadow: 0px 1px 2px rgba(60, 64, 67, 0.3), 0px 1px 3px 1px rgba(60, 64, 67, 0.15);\n",
              "      fill: #174EA6;\n",
              "    }\n",
              "\n",
              "    [theme=dark] .colab-df-convert {\n",
              "      background-color: #3B4455;\n",
              "      fill: #D2E3FC;\n",
              "    }\n",
              "\n",
              "    [theme=dark] .colab-df-convert:hover {\n",
              "      background-color: #434B5C;\n",
              "      box-shadow: 0px 1px 3px 1px rgba(0, 0, 0, 0.15);\n",
              "      filter: drop-shadow(0px 1px 2px rgba(0, 0, 0, 0.3));\n",
              "      fill: #FFFFFF;\n",
              "    }\n",
              "  </style>\n",
              "\n",
              "      <script>\n",
              "        const buttonEl =\n",
              "          document.querySelector('#df-d2c46676-46ad-45c6-b3ec-9d95b825d824 button.colab-df-convert');\n",
              "        buttonEl.style.display =\n",
              "          google.colab.kernel.accessAllowed ? 'block' : 'none';\n",
              "\n",
              "        async function convertToInteractive(key) {\n",
              "          const element = document.querySelector('#df-d2c46676-46ad-45c6-b3ec-9d95b825d824');\n",
              "          const dataTable =\n",
              "            await google.colab.kernel.invokeFunction('convertToInteractive',\n",
              "                                                     [key], {});\n",
              "          if (!dataTable) return;\n",
              "\n",
              "          const docLinkHtml = 'Like what you see? Visit the ' +\n",
              "            '<a target=\"_blank\" href=https://colab.research.google.com/notebooks/data_table.ipynb>data table notebook</a>'\n",
              "            + ' to learn more about interactive tables.';\n",
              "          element.innerHTML = '';\n",
              "          dataTable['output_type'] = 'display_data';\n",
              "          await google.colab.output.renderOutput(dataTable, element);\n",
              "          const docLink = document.createElement('div');\n",
              "          docLink.innerHTML = docLinkHtml;\n",
              "          element.appendChild(docLink);\n",
              "        }\n",
              "      </script>\n",
              "    </div>\n",
              "  </div>\n",
              "  "
            ]
          },
          "metadata": {},
          "execution_count": 40
        }
      ],
      "source": [
        "rating.sort_values(by='coef', ascending=False).head(200)"
      ]
    },
    {
      "cell_type": "code",
      "execution_count": null,
      "metadata": {
        "id": "m_pgGq8qfObU"
      },
      "outputs": [],
      "source": [
        ""
      ]
    },
    {
      "cell_type": "markdown",
      "metadata": {
        "id": "Bp1zJKBUfObV"
      },
      "source": [
        "## Оценка качества <a name = \"quality\"/>"
      ]
    },
    {
      "cell_type": "markdown",
      "metadata": {
        "id": "MrelY8NLfObV"
      },
      "source": [
        "Отранжировать команды при оценке качества на тестовой выборке можно, исходя из оценки вероятности того, что хотя бы один участник в команде отвечает на вопрос."
      ]
    },
    {
      "cell_type": "code",
      "execution_count": null,
      "metadata": {
        "id": "lEIYGjQ0fObV",
        "outputId": "9a5039f1-f26f-4a04-82cb-e0cede5e1e8a",
        "colab": {
          "base_uri": "https://localhost:8080/"
        }
      },
      "outputs": [
        {
          "output_type": "stream",
          "name": "stderr",
          "text": [
            "100%|██████████| 160/160 [00:04<00:00, 33.59it/s]\n"
          ]
        }
      ],
      "source": [
        "test_table = []\n",
        "\n",
        "for tournament_id, tournament in tqdm(tournaments_test.items()):\n",
        "    for team_result in results_filtered[tournament_id]:\n",
        "        team_id = team_result['team']['id']\n",
        "        mask = np.array([np.int32(answer) for answer in team_result['mask']])\n",
        "        players = team_result['teamMembers']\n",
        "        \n",
        "        for player in players:\n",
        "            player_id = player['player']['id']\n",
        "            if player_id not in active_players:\n",
        "                continue\n",
        "            test_table.append([tournament_id, team_id, player_id, -1, sum(mask), len(mask)])  \n",
        "        \n",
        "test_df = pd.DataFrame(test_table, \n",
        "                        columns = ['tournament_id', 'team_id', 'player_id', 'question_id', 'correct_answers', 'total_answers'])      "
      ]
    },
    {
      "cell_type": "code",
      "execution_count": null,
      "metadata": {
        "id": "cSJfmbyefObW"
      },
      "outputs": [],
      "source": [
        "X_test = test_df[['player_id', 'question_id']]\n",
        "X_test = ohe.transform(X_test)\n",
        "predictions = lr.predict_proba(X_test)[:, 1]"
      ]
    },
    {
      "cell_type": "code",
      "execution_count": null,
      "metadata": {
        "id": "_XtuEZfKfObW"
      },
      "outputs": [],
      "source": [
        "def compute_scores(data, preds):\n",
        "    data['pred'] = preds\n",
        "    data['score'] = data.groupby(['tournament_id', 'team_id'])['pred'].transform(lambda x: 1 - np.prod(1 - x))\n",
        "    rating = data[['tournament_id', 'team_id', 'correct_answers', 'score']].drop_duplicates().reset_index(drop=True)\n",
        "    \n",
        "    # Считаем реальный рейтинг команд\n",
        "    rating = rating.sort_values(by=['tournament_id', 'correct_answers'], ascending=False)\n",
        "    rating['real_rank'] = rating.groupby('tournament_id')['correct_answers'].transform(lambda x: np.arange(1, len(x) + 1))\n",
        "    \n",
        "    # Считаем предсказанный рейтинг\n",
        "    rating = rating.sort_values(by=['tournament_id', 'score'], ascending=False)\n",
        "    rating['pred_rank'] = rating.groupby('tournament_id')['score'].transform(lambda x: np.arange(1, len(x) + 1))\n",
        "\n",
        "    rating = rating.astype(np.int32)\n",
        "    \n",
        "    print(f\"Корреляция Спирмана: {rating.groupby('tournament_id').apply(lambda x: stats.spearmanr(x['real_rank'], x['pred_rank']).correlation).mean()}\")\n",
        "    print(f\"Корреляция Кендалла: {rating.groupby('tournament_id').apply(lambda x: stats.kendalltau(x['real_rank'], x['pred_rank']).correlation).mean()}\")"
      ]
    },
    {
      "cell_type": "code",
      "execution_count": null,
      "metadata": {
        "id": "ORW6ilbXfObW",
        "outputId": "0e301cd2-162e-4e5e-e03d-64eceb6f5c6f",
        "colab": {
          "base_uri": "https://localhost:8080/"
        }
      },
      "outputs": [
        {
          "output_type": "stream",
          "name": "stdout",
          "text": [
            "Корреляция Спирмана: 0.7672515187411473\n",
            "Корреляция Кендалла: 0.5987298826719607\n"
          ]
        }
      ],
      "source": [
        "compute_scores(test_df, predictions)"
      ]
    },
    {
      "cell_type": "code",
      "execution_count": null,
      "metadata": {
        "id": "NxfsCmwOfObX"
      },
      "outputs": [],
      "source": [
        ""
      ]
    },
    {
      "cell_type": "markdown",
      "metadata": {
        "id": "AwDv7OXSfObX"
      },
      "source": [
        "## EM алгоритм <a name = \"EM\"/>"
      ]
    },
    {
      "cell_type": "markdown",
      "metadata": {
        "id": "ZQoubuzmfObX"
      },
      "source": [
        "Усовершенствуем модель. \n",
        "\n",
        "Прежде всего необходимо учитывать то, что на вопрос отвечают сразу несколько игроков. В baseline мы считали, что если команда ответила на вопрос, то и каждый игрок в команде ответил на вопрос. Однако в реальности это только дает нам право говорить, что если команда не ответила на вопрос, то ни один игрок в команде на него ответил.\n",
        "А так же, если хотя бы один игрок ответил на вопрос, то и команда ответила\n"
      ]
    },
    {
      "cell_type": "markdown",
      "metadata": {
        "id": "Eolt7XEafObY"
      },
      "source": [
        "Введем новые обозначения\n",
        "\n",
        "Пусть \n",
        "$A$ - событие, игрок ответил на вопрос\n",
        "$B$ - команда ответила на вопрос\n",
        "\n",
        "Тогда можем вывести следующие соотношения:\n",
        "\n",
        "$P(B|A) = 1\n",
        "\\\\\n",
        "P(A|\\overline{B}) = 0\n",
        "\\\\\n",
        "P(A|B) = \\frac{P(B|A)P(A)}{P(B)} = \\frac{P(A)}{P(B)}\n",
        "\\\\\n",
        "P(B) = 1 - \\prod(1-P(A))\n",
        "$"
      ]
    },
    {
      "cell_type": "markdown",
      "metadata": {
        "id": "P4_UNoeOfObY"
      },
      "source": [
        "Таким образом реализация EM-алгоритма будет выглядеть следующим образом:\n",
        "\n",
        "E-step - оценка $P(A|B)$\n",
        "\n",
        "M-step - обучение логистической регрессии на таргете с E-step\n",
        "\n",
        "В итоге получаем $P(A)$"
      ]
    },
    {
      "cell_type": "code",
      "execution_count": null,
      "metadata": {
        "id": "bUhwVVG-fObZ"
      },
      "outputs": [],
      "source": [
        "def log_loss(y_true, y_pred):\n",
        "    return - np.mean(y_true * np.log(y_pred) + (1 - y_true) * np.log(1 - y_pred))\n",
        "\n",
        "class EMClassifier:\n",
        "    \n",
        "    def __init__(self, w=None, lr=15, n_iter=10, batch_size=5000, verbose=1):\n",
        "        self.w = w\n",
        "        self.lr = lr\n",
        "        self.n_iter = n_iter\n",
        "        self.batch_size = batch_size\n",
        "        self.verbose = 1\n",
        "        \n",
        "    def _add_intercept(self, X):\n",
        "        return sp.hstack((np.ones((X.shape[0], 1)), X), format='csr')\n",
        "    \n",
        "        \n",
        "    def _E_step(self, data, preds):\n",
        "        team_prob = pd.DataFrame({'team_id': data['team_id'],\n",
        "                                      'question_id': data['question_id'], \n",
        "                                      'team_prob': 1 - preds})\\\n",
        "                        .groupby(['team_id', 'question_id']).agg({'team_prob': 'prod'}).reset_index()\n",
        "\n",
        "        team_prob['team_prob'] = 1 - team_prob['team_prob']\n",
        "        team_prob = data[['team_id', 'question_id']].merge(team_prob)\n",
        "        y = np.clip(preds / team_prob['team_prob'], 0, 1).values\n",
        "        y[data['answer'] == 0] = 0\n",
        "        return y\n",
        "        \n",
        "    def _M_step(self, X, y):\n",
        "        min_loss = np.inf\n",
        "        indices = np.arange(X.shape[0])\n",
        "        for _ in range(100):\n",
        "            indices = np.random.permutation(indices)\n",
        "            for batch_idx in np.array_split(indices, len(indices) // self.batch_size):\n",
        "                x_batch, y_batch = X[batch_idx], y[batch_idx]\n",
        "                grad = x_batch.T.dot(self.predict(x_batch) - y_batch) / len(y_batch)\n",
        "                self.w -= self.lr * grad\n",
        "                \n",
        "            cur_loss = log_loss(y, self.predict(X))\n",
        "            if min_loss - cur_loss < 1e-6:\n",
        "                break\n",
        "                \n",
        "            min_loss = cur_loss\n",
        "                \n",
        "    def fit(self, X_tr, train_data, X_te=None, test_data=None):\n",
        "        X_tr = self._add_intercept(X_tr)\n",
        "        for iter_ in tqdm(range(self.n_iter)): \n",
        "            preds = self.predict(X_tr)\n",
        "            y = self._E_step(train_data, preds)\n",
        "            self._M_step(X_tr, y)\n",
        "            if self.verbose is not None and X_te is not None and test_data is not None and iter_ % self.verbose == 0:\n",
        "                compute_scores(test_data, self.predict(X_te))\n",
        "                         \n",
        "    def predict(self, X):\n",
        "        if len(self.w) != X.shape[1]:\n",
        "            X = self._add_intercept(X)\n",
        "        return expit(X.dot(self.w))"
      ]
    },
    {
      "cell_type": "code",
      "execution_count": null,
      "metadata": {
        "id": "3E_fXxQkfObZ",
        "outputId": "88b36ee0-b4ce-4b0f-e7b0-ec8584b2a558"
      },
      "outputs": [
        {
          "name": "stderr",
          "output_type": "stream",
          "text": [
            " 10%|█         | 1/10 [01:53<17:05, 113.95s/it]"
          ]
        },
        {
          "name": "stdout",
          "output_type": "stream",
          "text": [
            "Корреляция Спирмана: 0.776488395036184\n",
            "Корреляция Кендалла: 0.6090761165465001\n"
          ]
        },
        {
          "name": "stderr",
          "output_type": "stream",
          "text": [
            "\r",
            " 20%|██        | 2/10 [07:22<23:45, 178.20s/it]"
          ]
        },
        {
          "name": "stdout",
          "output_type": "stream",
          "text": [
            "Корреляция Спирмана: 0.7756330734582625\n",
            "Корреляция Кендалла: 0.608241723690095\n"
          ]
        },
        {
          "name": "stderr",
          "output_type": "stream",
          "text": [
            "\r",
            " 30%|███       | 3/10 [11:15<22:42, 194.63s/it]"
          ]
        },
        {
          "name": "stdout",
          "output_type": "stream",
          "text": [
            "Корреляция Спирмана: 0.7764148930894234\n",
            "Корреляция Кендалла: 0.6089804631799911\n"
          ]
        },
        {
          "name": "stderr",
          "output_type": "stream",
          "text": [
            "\r",
            " 40%|████      | 4/10 [16:10<22:29, 224.93s/it]"
          ]
        },
        {
          "name": "stdout",
          "output_type": "stream",
          "text": [
            "Корреляция Спирмана: 0.776312187556244\n",
            "Корреляция Кендалла: 0.6087934922152157\n"
          ]
        },
        {
          "name": "stderr",
          "output_type": "stream",
          "text": [
            "\r",
            " 50%|█████     | 5/10 [25:37<27:17, 327.54s/it]"
          ]
        },
        {
          "name": "stdout",
          "output_type": "stream",
          "text": [
            "Корреляция Спирмана: 0.7767602084871692\n",
            "Корреляция Кендалла: 0.6088599176772973\n"
          ]
        },
        {
          "name": "stderr",
          "output_type": "stream",
          "text": [
            "\r",
            " 60%|██████    | 6/10 [36:07<27:52, 418.23s/it]"
          ]
        },
        {
          "name": "stdout",
          "output_type": "stream",
          "text": [
            "Корреляция Спирмана: 0.7768080736270314\n",
            "Корреляция Кендалла: 0.608662730401632\n"
          ]
        },
        {
          "name": "stderr",
          "output_type": "stream",
          "text": [
            "\r",
            " 70%|███████   | 7/10 [38:06<16:25, 328.52s/it]"
          ]
        },
        {
          "name": "stdout",
          "output_type": "stream",
          "text": [
            "Корреляция Спирмана: 0.777413190709361\n",
            "Корреляция Кендалла: 0.6090807055506128\n"
          ]
        },
        {
          "name": "stderr",
          "output_type": "stream",
          "text": [
            "\r",
            " 80%|████████  | 8/10 [40:06<08:52, 266.01s/it]"
          ]
        },
        {
          "name": "stdout",
          "output_type": "stream",
          "text": [
            "Корреляция Спирмана: 0.7773127277069969\n",
            "Корреляция Кендалла: 0.6092628292823374\n"
          ]
        },
        {
          "name": "stderr",
          "output_type": "stream",
          "text": [
            "\r",
            " 90%|█████████ | 9/10 [42:56<03:57, 237.13s/it]"
          ]
        },
        {
          "name": "stdout",
          "output_type": "stream",
          "text": [
            "Корреляция Спирмана: 0.7774699920471461\n",
            "Корреляция Кендалла: 0.6095793760849213\n"
          ]
        },
        {
          "name": "stderr",
          "output_type": "stream",
          "text": [
            "100%|██████████| 10/10 [46:35<00:00, 279.50s/it]"
          ]
        },
        {
          "name": "stdout",
          "output_type": "stream",
          "text": [
            "Корреляция Спирмана: 0.7780886247425316\n",
            "Корреляция Кендалла: 0.610170353216916\n"
          ]
        },
        {
          "name": "stderr",
          "output_type": "stream",
          "text": [
            "\n"
          ]
        }
      ],
      "source": [
        "# Веса инициализирются предобученной baseline моделью\n",
        "w_init = np.hstack([lr.intercept_, lr.coef_[0]])\n",
        "em_classifier = EMClassifier(w_init)\n",
        "\n",
        "em_classifier.fit(X_train, train_df, X_test, test_df)"
      ]
    },
    {
      "cell_type": "markdown",
      "metadata": {
        "id": "BIdyegOrfObZ"
      },
      "source": [
        "По результатам обучения наблюдается прирост качества, пусть и небольшой."
      ]
    },
    {
      "cell_type": "markdown",
      "metadata": {
        "id": "NshM_BesfOba"
      },
      "source": [
        "## Рейтинг турниров <a name = \"rating_tournaments\"/>"
      ]
    },
    {
      "cell_type": "markdown",
      "metadata": {
        "id": "5Qon-zqFfOba"
      },
      "source": [
        "А что там с вопросами? Постройте “рейтинг-лист” турниров по сложности вопросов. Соответствует ли он интуиции (например, на чемпионате мира в целом должны быть сложные вопросы, а на турнирах для школьников — простые)? Если будет интересно: постройте топ сложных и простых вопросов со ссылками на конкретные записи в базе вопросов ЧГК (это чисто техническое дело, тут никакого ML нету).\n",
        "\n",
        "Сложность турнира можно посчитать как среднюю сложность вопросов в турнире - возьмем средние коэффициенты обученной модели."
      ]
    },
    {
      "cell_type": "code",
      "execution_count": null,
      "metadata": {
        "id": "BO6IM5W8fOba"
      },
      "outputs": [],
      "source": [
        "active_questions = np.unique(train_df['question_id'])\n",
        "q_rating = dict(zip(active_questions, em_classifier.w[-len(active_questions):]))\n",
        "\n",
        "train_df['difficulty'] = train_df['question_id'].map(q_rating)\n",
        "train_df['tournament_name'] = train_df['tournament_id'].map({v['id']: v['name']for k, v in tournaments_data.items()})\n",
        "\n",
        "tournaments_rating = train_df[['tournament_name', 'question_id', 'difficulty']].drop_duplicates()\n",
        "tournaments_rating = tournaments_rating.groupby('tournament_name')['difficulty'].mean().sort_values().reset_index()"
      ]
    },
    {
      "cell_type": "markdown",
      "metadata": {
        "id": "5mycTg34fOba"
      },
      "source": [
        "Ниже расположены рейтинг самых сложных турниров"
      ]
    },
    {
      "cell_type": "code",
      "execution_count": null,
      "metadata": {
        "id": "WjWelQMGfObc",
        "outputId": "9dc713c3-2e92-45f0-af1e-909d10bcb014"
      },
      "outputs": [
        {
          "data": {
            "text/html": [
              "<div>\n",
              "<style scoped>\n",
              "    .dataframe tbody tr th:only-of-type {\n",
              "        vertical-align: middle;\n",
              "    }\n",
              "\n",
              "    .dataframe tbody tr th {\n",
              "        vertical-align: top;\n",
              "    }\n",
              "\n",
              "    .dataframe thead th {\n",
              "        text-align: right;\n",
              "    }\n",
              "</style>\n",
              "<table border=\"1\" class=\"dataframe\">\n",
              "  <thead>\n",
              "    <tr style=\"text-align: right;\">\n",
              "      <th></th>\n",
              "      <th>tournament_name</th>\n",
              "      <th>difficulty</th>\n",
              "    </tr>\n",
              "  </thead>\n",
              "  <tbody>\n",
              "    <tr>\n",
              "      <th>0</th>\n",
              "      <td>Чемпионат Санкт-Петербурга. Первая лига</td>\n",
              "      <td>-3.593347</td>\n",
              "    </tr>\n",
              "    <tr>\n",
              "      <th>1</th>\n",
              "      <td>Угрюмый Ёрш</td>\n",
              "      <td>-2.033586</td>\n",
              "    </tr>\n",
              "    <tr>\n",
              "      <th>2</th>\n",
              "      <td>Первенство правого полушария</td>\n",
              "      <td>-1.848786</td>\n",
              "    </tr>\n",
              "    <tr>\n",
              "      <th>3</th>\n",
              "      <td>Кубок городов</td>\n",
              "      <td>-1.621134</td>\n",
              "    </tr>\n",
              "    <tr>\n",
              "      <th>4</th>\n",
              "      <td>Воображаемый музей</td>\n",
              "      <td>-1.554841</td>\n",
              "    </tr>\n",
              "    <tr>\n",
              "      <th>5</th>\n",
              "      <td>Записки охотника</td>\n",
              "      <td>-1.459090</td>\n",
              "    </tr>\n",
              "    <tr>\n",
              "      <th>6</th>\n",
              "      <td>Чемпионат России</td>\n",
              "      <td>-1.458811</td>\n",
              "    </tr>\n",
              "    <tr>\n",
              "      <th>7</th>\n",
              "      <td>Ускользающая сова</td>\n",
              "      <td>-1.411516</td>\n",
              "    </tr>\n",
              "    <tr>\n",
              "      <th>8</th>\n",
              "      <td>All Cats Are Beautiful</td>\n",
              "      <td>-1.409829</td>\n",
              "    </tr>\n",
              "    <tr>\n",
              "      <th>9</th>\n",
              "      <td>VERSUS: Коробейников vs. Матвеев</td>\n",
              "      <td>-1.393327</td>\n",
              "    </tr>\n",
              "    <tr>\n",
              "      <th>10</th>\n",
              "      <td>Ра-II: синхрон \"Борского корабела\"</td>\n",
              "      <td>-1.359024</td>\n",
              "    </tr>\n",
              "    <tr>\n",
              "      <th>11</th>\n",
              "      <td>Антибинго</td>\n",
              "      <td>-1.347699</td>\n",
              "    </tr>\n",
              "    <tr>\n",
              "      <th>12</th>\n",
              "      <td>Чемпионат Мира. Этап 3. Группа В</td>\n",
              "      <td>-1.304515</td>\n",
              "    </tr>\n",
              "    <tr>\n",
              "      <th>13</th>\n",
              "      <td>Знание – Сила VI</td>\n",
              "      <td>-1.293682</td>\n",
              "    </tr>\n",
              "    <tr>\n",
              "      <th>14</th>\n",
              "      <td>Тихий Донец: омут первый</td>\n",
              "      <td>-1.284754</td>\n",
              "    </tr>\n",
              "    <tr>\n",
              "      <th>15</th>\n",
              "      <td>Кубок Москвы</td>\n",
              "      <td>-1.269396</td>\n",
              "    </tr>\n",
              "    <tr>\n",
              "      <th>16</th>\n",
              "      <td>Линч</td>\n",
              "      <td>-1.266944</td>\n",
              "    </tr>\n",
              "    <tr>\n",
              "      <th>17</th>\n",
              "      <td>Чемпионат Мира. Этап 2. Группа В</td>\n",
              "      <td>-1.259257</td>\n",
              "    </tr>\n",
              "    <tr>\n",
              "      <th>18</th>\n",
              "      <td>Мемориал Дмитрия Коноваленко</td>\n",
              "      <td>-1.240075</td>\n",
              "    </tr>\n",
              "    <tr>\n",
              "      <th>19</th>\n",
              "      <td>Серия Premier. Седьмая печать</td>\n",
              "      <td>-1.211492</td>\n",
              "    </tr>\n",
              "  </tbody>\n",
              "</table>\n",
              "</div>"
            ],
            "text/plain": [
              "                            tournament_name  difficulty\n",
              "0   Чемпионат Санкт-Петербурга. Первая лига   -3.593347\n",
              "1                               Угрюмый Ёрш   -2.033586\n",
              "2              Первенство правого полушария   -1.848786\n",
              "3                             Кубок городов   -1.621134\n",
              "4                        Воображаемый музей   -1.554841\n",
              "5                          Записки охотника   -1.459090\n",
              "6                          Чемпионат России   -1.458811\n",
              "7                         Ускользающая сова   -1.411516\n",
              "8                    All Cats Are Beautiful   -1.409829\n",
              "9          VERSUS: Коробейников vs. Матвеев   -1.393327\n",
              "10       Ра-II: синхрон \"Борского корабела\"   -1.359024\n",
              "11                                Антибинго   -1.347699\n",
              "12         Чемпионат Мира. Этап 3. Группа В   -1.304515\n",
              "13                         Знание – Сила VI   -1.293682\n",
              "14                 Тихий Донец: омут первый   -1.284754\n",
              "15                             Кубок Москвы   -1.269396\n",
              "16                                     Линч   -1.266944\n",
              "17         Чемпионат Мира. Этап 2. Группа В   -1.259257\n",
              "18             Мемориал Дмитрия Коноваленко   -1.240075\n",
              "19            Серия Premier. Седьмая печать   -1.211492"
            ]
          },
          "execution_count": 165,
          "metadata": {},
          "output_type": "execute_result"
        }
      ],
      "source": [
        "tournaments_rating.head(20)"
      ]
    },
    {
      "cell_type": "markdown",
      "metadata": {
        "id": "Qu7j3d40fObc"
      },
      "source": [
        "## Рейтинг игроков <a name = \"rating_players\"/>"
      ]
    },
    {
      "cell_type": "markdown",
      "metadata": {
        "id": "pMLkjQcNfObd"
      },
      "source": [
        "Посмотрим еще раз рейтинг игроков"
      ]
    },
    {
      "cell_type": "code",
      "execution_count": null,
      "metadata": {
        "id": "jwV9N4yZfObd"
      },
      "outputs": [],
      "source": [
        "rating = pd.DataFrame({'id': active_players,\n",
        "                       'coef': em_classifier.w[1:1 + len(active_players)],\n",
        "                       'name': [(players_data[i]['name'] + ' ' + players_data[i]['surname']) for i in active_players]\n",
        "                      })\n",
        "rating['questions_count'] = rating['id'].map(train_df.groupby('player_id')['question_id'].count())"
      ]
    },
    {
      "cell_type": "code",
      "execution_count": null,
      "metadata": {
        "id": "YorcdqOxfObd",
        "outputId": "4a1a2798-418c-4519-c7b4-7362a4752b53"
      },
      "outputs": [
        {
          "data": {
            "text/html": [
              "<div>\n",
              "<style scoped>\n",
              "    .dataframe tbody tr th:only-of-type {\n",
              "        vertical-align: middle;\n",
              "    }\n",
              "\n",
              "    .dataframe tbody tr th {\n",
              "        vertical-align: top;\n",
              "    }\n",
              "\n",
              "    .dataframe thead th {\n",
              "        text-align: right;\n",
              "    }\n",
              "</style>\n",
              "<table border=\"1\" class=\"dataframe\">\n",
              "  <thead>\n",
              "    <tr style=\"text-align: right;\">\n",
              "      <th></th>\n",
              "      <th>id</th>\n",
              "      <th>coef</th>\n",
              "      <th>name</th>\n",
              "      <th>questions_count</th>\n",
              "    </tr>\n",
              "  </thead>\n",
              "  <tbody>\n",
              "    <tr>\n",
              "      <th>56810</th>\n",
              "      <td>222188</td>\n",
              "      <td>3.924734</td>\n",
              "      <td>Арина Гринко</td>\n",
              "      <td>216</td>\n",
              "    </tr>\n",
              "    <tr>\n",
              "      <th>3803</th>\n",
              "      <td>27403</td>\n",
              "      <td>3.763272</td>\n",
              "      <td>Максим Руссо</td>\n",
              "      <td>2075</td>\n",
              "    </tr>\n",
              "    <tr>\n",
              "      <th>9199</th>\n",
              "      <td>87637</td>\n",
              "      <td>3.574147</td>\n",
              "      <td>Антон Саксонов</td>\n",
              "      <td>1179</td>\n",
              "    </tr>\n",
              "    <tr>\n",
              "      <th>54137</th>\n",
              "      <td>216863</td>\n",
              "      <td>3.550071</td>\n",
              "      <td>Глеб Гаврилов</td>\n",
              "      <td>252</td>\n",
              "    </tr>\n",
              "    <tr>\n",
              "      <th>8063</th>\n",
              "      <td>74001</td>\n",
              "      <td>3.521446</td>\n",
              "      <td>Игорь Мокин</td>\n",
              "      <td>1071</td>\n",
              "    </tr>\n",
              "    <tr>\n",
              "      <th>593</th>\n",
              "      <td>4270</td>\n",
              "      <td>3.410755</td>\n",
              "      <td>Александра Брутер</td>\n",
              "      <td>2555</td>\n",
              "    </tr>\n",
              "    <tr>\n",
              "      <th>3844</th>\n",
              "      <td>27622</td>\n",
              "      <td>3.391753</td>\n",
              "      <td>Николай Рябых</td>\n",
              "      <td>321</td>\n",
              "    </tr>\n",
              "    <tr>\n",
              "      <th>4176</th>\n",
              "      <td>30152</td>\n",
              "      <td>3.296343</td>\n",
              "      <td>Артём Сорожкин</td>\n",
              "      <td>4375</td>\n",
              "    </tr>\n",
              "    <tr>\n",
              "      <th>3396</th>\n",
              "      <td>24384</td>\n",
              "      <td>3.271007</td>\n",
              "      <td>Евгений Пашковский</td>\n",
              "      <td>1629</td>\n",
              "    </tr>\n",
              "    <tr>\n",
              "      <th>3991</th>\n",
              "      <td>28751</td>\n",
              "      <td>3.270155</td>\n",
              "      <td>Иван Семушин</td>\n",
              "      <td>3386</td>\n",
              "    </tr>\n",
              "    <tr>\n",
              "      <th>4191</th>\n",
              "      <td>30260</td>\n",
              "      <td>3.250937</td>\n",
              "      <td>Евгений Спектор</td>\n",
              "      <td>233</td>\n",
              "    </tr>\n",
              "    <tr>\n",
              "      <th>4800</th>\n",
              "      <td>34846</td>\n",
              "      <td>3.239409</td>\n",
              "      <td>Антон Чернин</td>\n",
              "      <td>1751</td>\n",
              "    </tr>\n",
              "    <tr>\n",
              "      <th>3160</th>\n",
              "      <td>22660</td>\n",
              "      <td>3.212072</td>\n",
              "      <td>Павел Никитин</td>\n",
              "      <td>252</td>\n",
              "    </tr>\n",
              "    <tr>\n",
              "      <th>4196</th>\n",
              "      <td>30270</td>\n",
              "      <td>3.203064</td>\n",
              "      <td>Сергей Спешков</td>\n",
              "      <td>3440</td>\n",
              "    </tr>\n",
              "    <tr>\n",
              "      <th>3874</th>\n",
              "      <td>27822</td>\n",
              "      <td>3.191496</td>\n",
              "      <td>Михаил Савченков</td>\n",
              "      <td>3107</td>\n",
              "    </tr>\n",
              "    <tr>\n",
              "      <th>5106</th>\n",
              "      <td>37047</td>\n",
              "      <td>3.189511</td>\n",
              "      <td>Мария Юнгер</td>\n",
              "      <td>452</td>\n",
              "    </tr>\n",
              "    <tr>\n",
              "      <th>976</th>\n",
              "      <td>7008</td>\n",
              "      <td>3.178995</td>\n",
              "      <td>Алексей Гилёв</td>\n",
              "      <td>3979</td>\n",
              "    </tr>\n",
              "    <tr>\n",
              "      <th>8774</th>\n",
              "      <td>82688</td>\n",
              "      <td>3.162743</td>\n",
              "      <td>Игорь Калгин</td>\n",
              "      <td>180</td>\n",
              "    </tr>\n",
              "    <tr>\n",
              "      <th>6633</th>\n",
              "      <td>56647</td>\n",
              "      <td>3.147837</td>\n",
              "      <td>Наталья Горелова</td>\n",
              "      <td>2021</td>\n",
              "    </tr>\n",
              "    <tr>\n",
              "      <th>3421</th>\n",
              "      <td>24543</td>\n",
              "      <td>3.145708</td>\n",
              "      <td>Евгений Перпер</td>\n",
              "      <td>1319</td>\n",
              "    </tr>\n",
              "    <tr>\n",
              "      <th>3578</th>\n",
              "      <td>25757</td>\n",
              "      <td>3.139897</td>\n",
              "      <td>Мария Летюхина</td>\n",
              "      <td>363</td>\n",
              "    </tr>\n",
              "    <tr>\n",
              "      <th>2571</th>\n",
              "      <td>18332</td>\n",
              "      <td>3.122868</td>\n",
              "      <td>Александр Либер</td>\n",
              "      <td>3243</td>\n",
              "    </tr>\n",
              "    <tr>\n",
              "      <th>3595</th>\n",
              "      <td>25882</td>\n",
              "      <td>3.105750</td>\n",
              "      <td>Максим Поташев</td>\n",
              "      <td>1802</td>\n",
              "    </tr>\n",
              "    <tr>\n",
              "      <th>2531</th>\n",
              "      <td>18036</td>\n",
              "      <td>3.105406</td>\n",
              "      <td>Михаил Левандовский</td>\n",
              "      <td>1203</td>\n",
              "    </tr>\n",
              "    <tr>\n",
              "      <th>5289</th>\n",
              "      <td>38196</td>\n",
              "      <td>3.102506</td>\n",
              "      <td>Артём Митрофанов</td>\n",
              "      <td>546</td>\n",
              "    </tr>\n",
              "    <tr>\n",
              "      <th>3229</th>\n",
              "      <td>23178</td>\n",
              "      <td>3.097348</td>\n",
              "      <td>Елизавета Овдеенко</td>\n",
              "      <td>2088</td>\n",
              "    </tr>\n",
              "    <tr>\n",
              "      <th>2053</th>\n",
              "      <td>14786</td>\n",
              "      <td>3.094180</td>\n",
              "      <td>Николай Коврижных</td>\n",
              "      <td>2954</td>\n",
              "    </tr>\n",
              "    <tr>\n",
              "      <th>4230</th>\n",
              "      <td>30475</td>\n",
              "      <td>3.084950</td>\n",
              "      <td>Владимир Степанов</td>\n",
              "      <td>1383</td>\n",
              "    </tr>\n",
              "    <tr>\n",
              "      <th>3195</th>\n",
              "      <td>22935</td>\n",
              "      <td>3.072057</td>\n",
              "      <td>Илья Новиков</td>\n",
              "      <td>1311</td>\n",
              "    </tr>\n",
              "    <tr>\n",
              "      <th>3178</th>\n",
              "      <td>22799</td>\n",
              "      <td>3.071238</td>\n",
              "      <td>Сергей Николенко</td>\n",
              "      <td>1896</td>\n",
              "    </tr>\n",
              "  </tbody>\n",
              "</table>\n",
              "</div>"
            ],
            "text/plain": [
              "           id      coef                 name  questions_count\n",
              "56810  222188  3.924734         Арина Гринко              216\n",
              "3803    27403  3.763272         Максим Руссо             2075\n",
              "9199    87637  3.574147       Антон Саксонов             1179\n",
              "54137  216863  3.550071        Глеб Гаврилов              252\n",
              "8063    74001  3.521446          Игорь Мокин             1071\n",
              "593      4270  3.410755    Александра Брутер             2555\n",
              "3844    27622  3.391753        Николай Рябых              321\n",
              "4176    30152  3.296343       Артём Сорожкин             4375\n",
              "3396    24384  3.271007   Евгений Пашковский             1629\n",
              "3991    28751  3.270155         Иван Семушин             3386\n",
              "4191    30260  3.250937      Евгений Спектор              233\n",
              "4800    34846  3.239409         Антон Чернин             1751\n",
              "3160    22660  3.212072        Павел Никитин              252\n",
              "4196    30270  3.203064       Сергей Спешков             3440\n",
              "3874    27822  3.191496     Михаил Савченков             3107\n",
              "5106    37047  3.189511          Мария Юнгер              452\n",
              "976      7008  3.178995        Алексей Гилёв             3979\n",
              "8774    82688  3.162743         Игорь Калгин              180\n",
              "6633    56647  3.147837     Наталья Горелова             2021\n",
              "3421    24543  3.145708       Евгений Перпер             1319\n",
              "3578    25757  3.139897       Мария Летюхина              363\n",
              "2571    18332  3.122868      Александр Либер             3243\n",
              "3595    25882  3.105750       Максим Поташев             1802\n",
              "2531    18036  3.105406  Михаил Левандовский             1203\n",
              "5289    38196  3.102506     Артём Митрофанов              546\n",
              "3229    23178  3.097348   Елизавета Овдеенко             2088\n",
              "2053    14786  3.094180    Николай Коврижных             2954\n",
              "4230    30475  3.084950    Владимир Степанов             1383\n",
              "3195    22935  3.072057         Илья Новиков             1311\n",
              "3178    22799  3.071238     Сергей Николенко             1896"
            ]
          },
          "execution_count": 174,
          "metadata": {},
          "output_type": "execute_result"
        }
      ],
      "source": [
        "rating.sort_values(by='coef', ascending=False).head(30)"
      ]
    },
    {
      "cell_type": "markdown",
      "metadata": {
        "id": "gWy9wj7xfObd"
      },
      "source": [
        "Среди игроков в топе появилось много игроков, у которых довольно мало сыгранных турниров. Попробуем брать в рейтинг только тех игроков у которых сыграно больше 1000 игр.\n"
      ]
    },
    {
      "cell_type": "code",
      "execution_count": null,
      "metadata": {
        "id": "VemHfQS_fObe",
        "outputId": "9fea5877-4e1e-4a36-ce6f-3806d706d471"
      },
      "outputs": [
        {
          "data": {
            "text/html": [
              "<div>\n",
              "<style scoped>\n",
              "    .dataframe tbody tr th:only-of-type {\n",
              "        vertical-align: middle;\n",
              "    }\n",
              "\n",
              "    .dataframe tbody tr th {\n",
              "        vertical-align: top;\n",
              "    }\n",
              "\n",
              "    .dataframe thead th {\n",
              "        text-align: right;\n",
              "    }\n",
              "</style>\n",
              "<table border=\"1\" class=\"dataframe\">\n",
              "  <thead>\n",
              "    <tr style=\"text-align: right;\">\n",
              "      <th></th>\n",
              "      <th>id</th>\n",
              "      <th>coef</th>\n",
              "      <th>name</th>\n",
              "      <th>questions_count</th>\n",
              "    </tr>\n",
              "  </thead>\n",
              "  <tbody>\n",
              "    <tr>\n",
              "      <th>3803</th>\n",
              "      <td>27403</td>\n",
              "      <td>3.763272</td>\n",
              "      <td>Максим Руссо</td>\n",
              "      <td>2075</td>\n",
              "    </tr>\n",
              "    <tr>\n",
              "      <th>9199</th>\n",
              "      <td>87637</td>\n",
              "      <td>3.574147</td>\n",
              "      <td>Антон Саксонов</td>\n",
              "      <td>1179</td>\n",
              "    </tr>\n",
              "    <tr>\n",
              "      <th>8063</th>\n",
              "      <td>74001</td>\n",
              "      <td>3.521446</td>\n",
              "      <td>Игорь Мокин</td>\n",
              "      <td>1071</td>\n",
              "    </tr>\n",
              "    <tr>\n",
              "      <th>593</th>\n",
              "      <td>4270</td>\n",
              "      <td>3.410755</td>\n",
              "      <td>Александра Брутер</td>\n",
              "      <td>2555</td>\n",
              "    </tr>\n",
              "    <tr>\n",
              "      <th>4176</th>\n",
              "      <td>30152</td>\n",
              "      <td>3.296343</td>\n",
              "      <td>Артём Сорожкин</td>\n",
              "      <td>4375</td>\n",
              "    </tr>\n",
              "    <tr>\n",
              "      <th>3396</th>\n",
              "      <td>24384</td>\n",
              "      <td>3.271007</td>\n",
              "      <td>Евгений Пашковский</td>\n",
              "      <td>1629</td>\n",
              "    </tr>\n",
              "    <tr>\n",
              "      <th>3991</th>\n",
              "      <td>28751</td>\n",
              "      <td>3.270155</td>\n",
              "      <td>Иван Семушин</td>\n",
              "      <td>3386</td>\n",
              "    </tr>\n",
              "    <tr>\n",
              "      <th>4800</th>\n",
              "      <td>34846</td>\n",
              "      <td>3.239409</td>\n",
              "      <td>Антон Чернин</td>\n",
              "      <td>1751</td>\n",
              "    </tr>\n",
              "    <tr>\n",
              "      <th>4196</th>\n",
              "      <td>30270</td>\n",
              "      <td>3.203064</td>\n",
              "      <td>Сергей Спешков</td>\n",
              "      <td>3440</td>\n",
              "    </tr>\n",
              "    <tr>\n",
              "      <th>3874</th>\n",
              "      <td>27822</td>\n",
              "      <td>3.191496</td>\n",
              "      <td>Михаил Савченков</td>\n",
              "      <td>3107</td>\n",
              "    </tr>\n",
              "    <tr>\n",
              "      <th>976</th>\n",
              "      <td>7008</td>\n",
              "      <td>3.178995</td>\n",
              "      <td>Алексей Гилёв</td>\n",
              "      <td>3979</td>\n",
              "    </tr>\n",
              "    <tr>\n",
              "      <th>6633</th>\n",
              "      <td>56647</td>\n",
              "      <td>3.147837</td>\n",
              "      <td>Наталья Горелова</td>\n",
              "      <td>2021</td>\n",
              "    </tr>\n",
              "    <tr>\n",
              "      <th>3421</th>\n",
              "      <td>24543</td>\n",
              "      <td>3.145708</td>\n",
              "      <td>Евгений Перпер</td>\n",
              "      <td>1319</td>\n",
              "    </tr>\n",
              "    <tr>\n",
              "      <th>2571</th>\n",
              "      <td>18332</td>\n",
              "      <td>3.122868</td>\n",
              "      <td>Александр Либер</td>\n",
              "      <td>3243</td>\n",
              "    </tr>\n",
              "    <tr>\n",
              "      <th>3595</th>\n",
              "      <td>25882</td>\n",
              "      <td>3.105750</td>\n",
              "      <td>Максим Поташев</td>\n",
              "      <td>1802</td>\n",
              "    </tr>\n",
              "    <tr>\n",
              "      <th>2531</th>\n",
              "      <td>18036</td>\n",
              "      <td>3.105406</td>\n",
              "      <td>Михаил Левандовский</td>\n",
              "      <td>1203</td>\n",
              "    </tr>\n",
              "    <tr>\n",
              "      <th>3229</th>\n",
              "      <td>23178</td>\n",
              "      <td>3.097348</td>\n",
              "      <td>Елизавета Овдеенко</td>\n",
              "      <td>2088</td>\n",
              "    </tr>\n",
              "    <tr>\n",
              "      <th>2053</th>\n",
              "      <td>14786</td>\n",
              "      <td>3.094180</td>\n",
              "      <td>Николай Коврижных</td>\n",
              "      <td>2954</td>\n",
              "    </tr>\n",
              "    <tr>\n",
              "      <th>4230</th>\n",
              "      <td>30475</td>\n",
              "      <td>3.084950</td>\n",
              "      <td>Владимир Степанов</td>\n",
              "      <td>1383</td>\n",
              "    </tr>\n",
              "    <tr>\n",
              "      <th>3195</th>\n",
              "      <td>22935</td>\n",
              "      <td>3.072057</td>\n",
              "      <td>Илья Новиков</td>\n",
              "      <td>1311</td>\n",
              "    </tr>\n",
              "    <tr>\n",
              "      <th>3178</th>\n",
              "      <td>22799</td>\n",
              "      <td>3.071238</td>\n",
              "      <td>Сергей Николенко</td>\n",
              "      <td>1896</td>\n",
              "    </tr>\n",
              "    <tr>\n",
              "      <th>3319</th>\n",
              "      <td>23737</td>\n",
              "      <td>3.051922</td>\n",
              "      <td>Андрей Островский</td>\n",
              "      <td>2322</td>\n",
              "    </tr>\n",
              "    <tr>\n",
              "      <th>8101</th>\n",
              "      <td>74382</td>\n",
              "      <td>3.050298</td>\n",
              "      <td>Михаил Новосёлов</td>\n",
              "      <td>2746</td>\n",
              "    </tr>\n",
              "    <tr>\n",
              "      <th>2198</th>\n",
              "      <td>15727</td>\n",
              "      <td>3.038497</td>\n",
              "      <td>Александр Коробейников</td>\n",
              "      <td>1283</td>\n",
              "    </tr>\n",
              "    <tr>\n",
              "      <th>4953</th>\n",
              "      <td>36035</td>\n",
              "      <td>3.033098</td>\n",
              "      <td>Алексей Шередега</td>\n",
              "      <td>1821</td>\n",
              "    </tr>\n",
              "    <tr>\n",
              "      <th>219</th>\n",
              "      <td>1585</td>\n",
              "      <td>3.029181</td>\n",
              "      <td>Юлия Архангельская</td>\n",
              "      <td>1436</td>\n",
              "    </tr>\n",
              "    <tr>\n",
              "      <th>2359</th>\n",
              "      <td>16837</td>\n",
              "      <td>3.023768</td>\n",
              "      <td>Наталья Кудряшова</td>\n",
              "      <td>2219</td>\n",
              "    </tr>\n",
              "    <tr>\n",
              "      <th>2781</th>\n",
              "      <td>19915</td>\n",
              "      <td>3.007104</td>\n",
              "      <td>Александр Марков</td>\n",
              "      <td>2662</td>\n",
              "    </tr>\n",
              "    <tr>\n",
              "      <th>2884</th>\n",
              "      <td>20691</td>\n",
              "      <td>2.973349</td>\n",
              "      <td>Станислав Мереминский</td>\n",
              "      <td>1514</td>\n",
              "    </tr>\n",
              "    <tr>\n",
              "      <th>1479</th>\n",
              "      <td>10586</td>\n",
              "      <td>2.964756</td>\n",
              "      <td>Павел Ершов</td>\n",
              "      <td>2754</td>\n",
              "    </tr>\n",
              "  </tbody>\n",
              "</table>\n",
              "</div>"
            ],
            "text/plain": [
              "         id      coef                    name  questions_count\n",
              "3803  27403  3.763272            Максим Руссо             2075\n",
              "9199  87637  3.574147          Антон Саксонов             1179\n",
              "8063  74001  3.521446             Игорь Мокин             1071\n",
              "593    4270  3.410755       Александра Брутер             2555\n",
              "4176  30152  3.296343          Артём Сорожкин             4375\n",
              "3396  24384  3.271007      Евгений Пашковский             1629\n",
              "3991  28751  3.270155            Иван Семушин             3386\n",
              "4800  34846  3.239409            Антон Чернин             1751\n",
              "4196  30270  3.203064          Сергей Спешков             3440\n",
              "3874  27822  3.191496        Михаил Савченков             3107\n",
              "976    7008  3.178995           Алексей Гилёв             3979\n",
              "6633  56647  3.147837        Наталья Горелова             2021\n",
              "3421  24543  3.145708          Евгений Перпер             1319\n",
              "2571  18332  3.122868         Александр Либер             3243\n",
              "3595  25882  3.105750          Максим Поташев             1802\n",
              "2531  18036  3.105406     Михаил Левандовский             1203\n",
              "3229  23178  3.097348      Елизавета Овдеенко             2088\n",
              "2053  14786  3.094180       Николай Коврижных             2954\n",
              "4230  30475  3.084950       Владимир Степанов             1383\n",
              "3195  22935  3.072057            Илья Новиков             1311\n",
              "3178  22799  3.071238        Сергей Николенко             1896\n",
              "3319  23737  3.051922       Андрей Островский             2322\n",
              "8101  74382  3.050298        Михаил Новосёлов             2746\n",
              "2198  15727  3.038497  Александр Коробейников             1283\n",
              "4953  36035  3.033098        Алексей Шередега             1821\n",
              "219    1585  3.029181      Юлия Архангельская             1436\n",
              "2359  16837  3.023768       Наталья Кудряшова             2219\n",
              "2781  19915  3.007104        Александр Марков             2662\n",
              "2884  20691  2.973349   Станислав Мереминский             1514\n",
              "1479  10586  2.964756             Павел Ершов             2754"
            ]
          },
          "execution_count": 173,
          "metadata": {},
          "output_type": "execute_result"
        }
      ],
      "source": [
        "rating[rating['questions_count'] > 1000].sort_values(by='coef', ascending=False).head(30)"
      ]
    },
    {
      "cell_type": "markdown",
      "metadata": {
        "id": "8hN6VVLtfObe"
      },
      "source": [
        "Теперь в топ попали действительно хорошие игроки, находящиеся в топе на сайте рейтинга."
      ]
    },
    {
      "cell_type": "code",
      "execution_count": null,
      "metadata": {
        "id": "G2K5cub2fObf"
      },
      "outputs": [],
      "source": [
        ""
      ]
    }
  ],
  "metadata": {
    "kernelspec": {
      "display_name": "Python 3 (ipykernel)",
      "language": "python",
      "name": "python3"
    },
    "language_info": {
      "codemirror_mode": {
        "name": "ipython",
        "version": 3
      },
      "file_extension": ".py",
      "mimetype": "text/x-python",
      "name": "python",
      "nbconvert_exporter": "python",
      "pygments_lexer": "ipython3",
      "version": "3.9.7"
    },
    "colab": {
      "name": "hw2_kuznetsov_ya.ipynb",
      "provenance": [],
      "collapsed_sections": [],
      "include_colab_link": true
    }
  },
  "nbformat": 4,
  "nbformat_minor": 0
}