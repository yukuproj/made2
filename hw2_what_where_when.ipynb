{
  "cells": [
    {
      "cell_type": "markdown",
      "metadata": {
        "id": "view-in-github",
        "colab_type": "text"
      },
      "source": [
        "<a href=\"https://colab.research.google.com/github/yukuproj/made2/blob/main/hw2_what_where_when.ipynb\" target=\"_parent\"><img src=\"https://colab.research.google.com/assets/colab-badge.svg\" alt=\"Open In Colab\"/></a>"
      ]
    },
    {
      "cell_type": "markdown",
      "metadata": {
        "id": "oQzDWsv9fOa_"
      },
      "source": [
        "# Что? Где? Когда? Рейтинги homework 2\n",
        "\n",
        "\n"
      ]
    },
    {
      "cell_type": "code",
      "execution_count": 2,
      "metadata": {
        "id": "gliVGLhUfObE"
      },
      "outputs": [],
      "source": [
        "import numpy as np\n",
        "import pandas as pd\n",
        "import pickle\n",
        "import re\n",
        "import scipy.stats as stats\n",
        "from sklearn.preprocessing import OneHotEncoder\n",
        "from sklearn.linear_model import LogisticRegression\n",
        "from scipy import sparse as sp\n",
        "from scipy.special import expit\n"
      ]
    },
    {
      "cell_type": "code",
      "source": [
        "ls"
      ],
      "metadata": {
        "colab": {
          "base_uri": "https://localhost:8080/"
        },
        "id": "C9_N8ZOUh3s5",
        "outputId": "5097cccb-df3e-4c03-f21b-d5d807c4ee45"
      },
      "execution_count": 3,
      "outputs": [
        {
          "output_type": "stream",
          "name": "stdout",
          "text": [
            "\u001b[0m\u001b[01;34mdrive\u001b[0m/  \u001b[01;34msample_data\u001b[0m/\n"
          ]
        }
      ]
    },
    {
      "cell_type": "code",
      "source": [
        "from google.colab import drive\n",
        "drive.mount('/content/drive')"
      ],
      "metadata": {
        "colab": {
          "base_uri": "https://localhost:8080/"
        },
        "id": "0yd-Gjp7ftIR",
        "outputId": "91e0f2a7-b373-43db-e3a0-6ed850e8c339"
      },
      "execution_count": 4,
      "outputs": [
        {
          "output_type": "stream",
          "name": "stdout",
          "text": [
            "Drive already mounted at /content/drive; to attempt to forcibly remount, call drive.mount(\"/content/drive\", force_remount=True).\n"
          ]
        }
      ]
    },
    {
      "cell_type": "markdown",
      "metadata": {
        "id": "KIfC9bTQfObG"
      },
      "source": [
        "## 1. Чтение"
      ]
    },
    {
      "cell_type": "code",
      "source": [
        "players_file = \"/content/drive/MyDrive/made2_ml_hw2/players.pkl\"\n",
        "results_file = \"/content/drive/MyDrive/made2_ml_hw2/results.pkl\"\n",
        "tournaments_file = (\"/content/drive/MyDrive/made2_ml_hw2/tournaments.pkl\")\n",
        "\n",
        "with open(players_file, 'rb') as fin:\n",
        "     players_data = pickle.load(fin)\n",
        "\n",
        "with open(tournaments_file, 'rb') as fin:\n",
        "     tournaments_data = pickle.load(fin)\n",
        "\n",
        "with open(results_file, 'rb') as fin:\n",
        "     results_data = pickle.load(fin)     "
      ],
      "metadata": {
        "id": "WxpMudD7gcUT"
      },
      "execution_count": 5,
      "outputs": []
    },
    {
      "cell_type": "markdown",
      "metadata": {
        "id": "lZv3E-rGfObO"
      },
      "source": [
        "Filtering data"
      ]
    },
    {
      "cell_type": "code",
      "execution_count": 6,
      "metadata": {
        "id": "XC7pbJETfObO"
      },
      "outputs": [],
      "source": [
        "def isOk(tr):\n",
        "    rez1 = tr.get('mask') and tr.get('teamMembers')    \n",
        "    rez2 = len(tr.get('teamMembers')) > 0    \n",
        "    rez3 = all(players_data.get(tm['player']['id']) for tm in tr.get('teamMembers'))\n",
        "    if not(rez1 and rez2 and rez3):  ##  нет состава команд или детализации по вопросам\n",
        "      return False\n",
        "    rez4 = not re.findall('[^01]', tr.get('mask'))   ## нет четких ответов\n",
        "    return rez4"
      ]
    },
    {
      "cell_type": "code",
      "execution_count": 7,
      "metadata": {
        "id": "6JAId2yifObP"
      },
      "outputs": [],
      "source": [
        "results_filtered = {}\n",
        "tournaments_filtered = {}\n",
        "\n",
        "for t_id, team_results in results_data.items():\n",
        "    team_results_filtered = [tr for tr in team_results if isOk(tr)]\n",
        "    if (len(team_results_filtered) > 0):\n",
        "        results_filtered[t_id] = team_results_filtered\n",
        "        tournaments_filtered[t_id] = tournaments_data[t_id]"
      ]
    },
    {
      "cell_type": "code",
      "execution_count": 8,
      "metadata": {
        "id": "oySK9EtYfObQ"
      },
      "outputs": [],
      "source": [
        "tournaments_train = {k: v for k, v in tournaments_filtered.items() if v['dateStart'][:4] == '2019'}  ## тестовая выборка -турниры за 2020 год\n",
        "tournaments_test  = {k: v for k, v in tournaments_filtered.items() if v['dateStart'][:4] == '2020'}  ## обучающая выборка - турниры за 2019 год"
      ]
    },
    {
      "cell_type": "code",
      "execution_count": 9,
      "metadata": {
        "id": "Y6xlIDgffObR",
        "outputId": "d68ca72c-9d44-4d67-bbe2-78cc040a515d",
        "colab": {
          "base_uri": "https://localhost:8080/"
        }
      },
      "outputs": [
        {
          "output_type": "stream",
          "name": "stdout",
          "text": [
            "Размер обучающей выборки: 616\n",
            "Размер тестовой выборки:  160\n"
          ]
        }
      ],
      "source": [
        "print(f'Размер обучающей выборки: {len(tournaments_train)}')\n",
        "print(f'Размер тестовой выборки:  {len(tournaments_test)}')"
      ]
    },
    {
      "cell_type": "markdown",
      "metadata": {
        "id": "u3xULCXLfObR"
      },
      "source": [
        "## 2. Baseline-модель"
      ]
    },
    {
      "cell_type": "markdown",
      "metadata": {
        "id": "qJT0nqsEfObS"
      },
      "source": [
        "Будем предполагать что игрок отвечает точно также как и его команда. Т.е. если команда на вопрос ответила, то это значит, что и каждый игрок внутри команды тоже способен был самостоятельно ответить на вопрос. И обратно, более естественное требование, если команда не ответила, то не смог бы ответить и каждый игрок. \n",
        "\n",
        "Будем считать что модель устроена как логистическая регрессия, в которой в качестве аргументов являются метки игрока и метка вопроса. Неизвестными коэффициентами в этой регрессии будут являться \"уровень\" игрока и \"сложность вопроса\". При этом обучаться будем на 0 или 1 в зависимости от того, ответил ли игрок на вопрос или нет.\n",
        "\n",
        "Для определения переменных модели закодируем игрока и вопрос в с помощью OneHotEncoding представления. Входной вектор для обучения тогда - это вектор из нулей и единиц, где единицы соответствуют конкретному игроку и конкретному вопросу на который он отвечает, а ответ - 0 или 1 в зависимости от того, ответил ли игрок на вопрос. \n",
        "\n",
        "\n"
      ]
    },
    {
      "cell_type": "code",
      "execution_count": 10,
      "metadata": {
        "id": "CCJHQCGzfObS"
      },
      "outputs": [],
      "source": [
        "\n",
        "train_table = []\n",
        "max_question_id = 0\n",
        "for tour_id, _ in tournaments_train.items():\n",
        "    for team_result in results_filtered[tour_id]:\n",
        "        team_id = team_result['team']['id']\n",
        "        mask = np.array([np.int32(answer) for answer in team_result['mask']])\n",
        "        players = team_result['teamMembers']\n",
        "        questions = np.arange(max_question_id, max_question_id + len(mask))\n",
        "        \n",
        "        for player in players:\n",
        "            player_id = player['player']['id']\n",
        "            for i in range(len(mask)):\n",
        "                train_table.append([tour_id, team_id, player_id, questions[i], mask[i]])\n",
        "    max_question_id += len(mask)    \n",
        "        \n",
        "train_df = pd.DataFrame(train_table, columns = ['tour_id', 'team_id', 'player_id', 'question_id', 'answer'])      "
      ]
    },
    {
      "cell_type": "code",
      "execution_count": 11,
      "metadata": {
        "id": "pF8MzHNYfObT"
      },
      "outputs": [],
      "source": [
        "ohe = OneHotEncoder(handle_unknown='ignore')\n",
        "X_train = ohe.fit_transform(train_df[['player_id', 'question_id']])\n",
        "y_train = train_df['answer']"
      ]
    },
    {
      "cell_type": "code",
      "execution_count": 12,
      "metadata": {
        "id": "nFn2OqYYfObT",
        "outputId": "e86be8df-3c02-4e99-c6e1-f58c6b7d6a8a",
        "colab": {
          "base_uri": "https://localhost:8080/"
        }
      },
      "outputs": [
        {
          "output_type": "execute_result",
          "data": {
            "text/plain": [
              "LogisticRegression(n_jobs=-1)"
            ]
          },
          "metadata": {},
          "execution_count": 12
        }
      ],
      "source": [
        "lr = LogisticRegression(n_jobs = -1)\n",
        "lr.fit(X_train, y_train)"
      ]
    },
    {
      "cell_type": "code",
      "execution_count": 13,
      "metadata": {
        "id": "R9eClOiJfObU"
      },
      "outputs": [],
      "source": [
        "active_players = np.unique(train_df['player_id'])\n",
        "rating = pd.DataFrame({'id': active_players, 'coef': lr.coef_[0][:len(active_players)], 'name': [(players_data[i]['name'] + ' ' + players_data[i]['surname']) for i in active_players]})"
      ]
    },
    {
      "cell_type": "code",
      "execution_count": 14,
      "metadata": {
        "id": "pii1g37ZfObU",
        "outputId": "9fd62d55-1434-4e2c-d598-56bc02e34609",
        "colab": {
          "base_uri": "https://localhost:8080/",
          "height": 1000
        }
      },
      "outputs": [
        {
          "output_type": "execute_result",
          "data": {
            "text/plain": [
              "         id      coef                   name\n",
              "3803  27403  3.589675           Максим Руссо\n",
              "593    4270  3.537738      Александра Брутер\n",
              "5106  37047  3.384659            Мария Юнгер\n",
              "3991  28751  3.311466           Иван Семушин\n",
              "5289  38196  3.247600       Артём Митрофанов\n",
              "513    3671  3.213598   Алексей Богословский\n",
              "3874  27822  3.200231       Михаил Савченков\n",
              "4176  30152  3.135241         Артём Сорожкин\n",
              "583    4226  3.118063         Сусанна Бровер\n",
              "6633  56647  3.102888       Наталья Горелова\n",
              "9499  90664  3.095764          Иван Ермолаев\n",
              "534    3843  3.076998       Светлана Бомешко\n",
              "4196  30270  3.056109         Сергей Спешков\n",
              "1689  12307  3.024707      Светлана Иванцова\n",
              "3622  26089  3.014711       Ирина Прокофьева\n",
              "2359  16837  3.011367      Наталья Кудряшова\n",
              "9199  87637  3.005028         Антон Саксонов\n",
              "3178  22799  3.001048       Сергей Николенко\n",
              "409    2998  2.977524     Алексей Белоглазов\n",
              "2949  21137  2.974952        Кирилл Михайлов\n",
              "3229  23178  2.963567     Елизавета Овдеенко\n",
              "2109  15123  2.959482      Ирина Колесникова\n",
              "1934  14025  2.948539    Александра Киланова\n",
              "2531  18036  2.946829    Михаил Левандовский\n",
              "2884  20691  2.942830  Станислав Мереминский\n",
              "3578  25757  2.941643         Мария Летюхина\n",
              "3026  21698  2.941610      Александр Мосягин\n",
              "2551  18194  2.937883       Мария Кленницкая\n",
              "8063  74001  2.932121            Игорь Мокин\n",
              "4719  34328  2.923112           Михаил Царёв\n",
              "1376   9834  2.919986        Ольга Дубинская\n",
              "3319  23737  2.919912      Андрей Островский\n",
              "4935  35877  2.902910        Богдан Шевченко\n",
              "7073  62252  2.896533            Тимур Боков\n",
              "4800  34846  2.896348           Антон Чернин\n",
              "1889  13689  2.895026        Дмитрий Карякин\n",
              "3195  22935  2.879867           Илья Новиков\n",
              "2781  19915  2.878160       Александр Марков\n",
              "66      505  2.862926      Иделия Айзятулова\n",
              "3396  24384  2.856502     Евгений Пашковский\n",
              "8101  74382  2.854329       Михаил Новосёлов\n",
              "866    6212  2.847590           Юрий Выменец\n",
              "2172  15595  2.835809     Кристина Кораблина\n",
              "2053  14786  2.828725      Николай Коврижных\n",
              "2571  18332  2.828668        Александр Либер\n",
              "3982  28689  2.823008          Инна Семёнова\n",
              "1265   9061  2.816094          Евгений Дёмин\n",
              "3844  27622  2.814434          Николай Рябых\n",
              "2285  16332  2.808570        Николай Крапиль\n",
              "7756  70750  2.804156      Денис Галиакберов"
            ],
            "text/html": [
              "\n",
              "  <div id=\"df-aa60c736-f883-473a-ae65-3d01c1f4ed57\">\n",
              "    <div class=\"colab-df-container\">\n",
              "      <div>\n",
              "<style scoped>\n",
              "    .dataframe tbody tr th:only-of-type {\n",
              "        vertical-align: middle;\n",
              "    }\n",
              "\n",
              "    .dataframe tbody tr th {\n",
              "        vertical-align: top;\n",
              "    }\n",
              "\n",
              "    .dataframe thead th {\n",
              "        text-align: right;\n",
              "    }\n",
              "</style>\n",
              "<table border=\"1\" class=\"dataframe\">\n",
              "  <thead>\n",
              "    <tr style=\"text-align: right;\">\n",
              "      <th></th>\n",
              "      <th>id</th>\n",
              "      <th>coef</th>\n",
              "      <th>name</th>\n",
              "    </tr>\n",
              "  </thead>\n",
              "  <tbody>\n",
              "    <tr>\n",
              "      <th>3803</th>\n",
              "      <td>27403</td>\n",
              "      <td>3.589675</td>\n",
              "      <td>Максим Руссо</td>\n",
              "    </tr>\n",
              "    <tr>\n",
              "      <th>593</th>\n",
              "      <td>4270</td>\n",
              "      <td>3.537738</td>\n",
              "      <td>Александра Брутер</td>\n",
              "    </tr>\n",
              "    <tr>\n",
              "      <th>5106</th>\n",
              "      <td>37047</td>\n",
              "      <td>3.384659</td>\n",
              "      <td>Мария Юнгер</td>\n",
              "    </tr>\n",
              "    <tr>\n",
              "      <th>3991</th>\n",
              "      <td>28751</td>\n",
              "      <td>3.311466</td>\n",
              "      <td>Иван Семушин</td>\n",
              "    </tr>\n",
              "    <tr>\n",
              "      <th>5289</th>\n",
              "      <td>38196</td>\n",
              "      <td>3.247600</td>\n",
              "      <td>Артём Митрофанов</td>\n",
              "    </tr>\n",
              "    <tr>\n",
              "      <th>513</th>\n",
              "      <td>3671</td>\n",
              "      <td>3.213598</td>\n",
              "      <td>Алексей Богословский</td>\n",
              "    </tr>\n",
              "    <tr>\n",
              "      <th>3874</th>\n",
              "      <td>27822</td>\n",
              "      <td>3.200231</td>\n",
              "      <td>Михаил Савченков</td>\n",
              "    </tr>\n",
              "    <tr>\n",
              "      <th>4176</th>\n",
              "      <td>30152</td>\n",
              "      <td>3.135241</td>\n",
              "      <td>Артём Сорожкин</td>\n",
              "    </tr>\n",
              "    <tr>\n",
              "      <th>583</th>\n",
              "      <td>4226</td>\n",
              "      <td>3.118063</td>\n",
              "      <td>Сусанна Бровер</td>\n",
              "    </tr>\n",
              "    <tr>\n",
              "      <th>6633</th>\n",
              "      <td>56647</td>\n",
              "      <td>3.102888</td>\n",
              "      <td>Наталья Горелова</td>\n",
              "    </tr>\n",
              "    <tr>\n",
              "      <th>9499</th>\n",
              "      <td>90664</td>\n",
              "      <td>3.095764</td>\n",
              "      <td>Иван Ермолаев</td>\n",
              "    </tr>\n",
              "    <tr>\n",
              "      <th>534</th>\n",
              "      <td>3843</td>\n",
              "      <td>3.076998</td>\n",
              "      <td>Светлана Бомешко</td>\n",
              "    </tr>\n",
              "    <tr>\n",
              "      <th>4196</th>\n",
              "      <td>30270</td>\n",
              "      <td>3.056109</td>\n",
              "      <td>Сергей Спешков</td>\n",
              "    </tr>\n",
              "    <tr>\n",
              "      <th>1689</th>\n",
              "      <td>12307</td>\n",
              "      <td>3.024707</td>\n",
              "      <td>Светлана Иванцова</td>\n",
              "    </tr>\n",
              "    <tr>\n",
              "      <th>3622</th>\n",
              "      <td>26089</td>\n",
              "      <td>3.014711</td>\n",
              "      <td>Ирина Прокофьева</td>\n",
              "    </tr>\n",
              "    <tr>\n",
              "      <th>2359</th>\n",
              "      <td>16837</td>\n",
              "      <td>3.011367</td>\n",
              "      <td>Наталья Кудряшова</td>\n",
              "    </tr>\n",
              "    <tr>\n",
              "      <th>9199</th>\n",
              "      <td>87637</td>\n",
              "      <td>3.005028</td>\n",
              "      <td>Антон Саксонов</td>\n",
              "    </tr>\n",
              "    <tr>\n",
              "      <th>3178</th>\n",
              "      <td>22799</td>\n",
              "      <td>3.001048</td>\n",
              "      <td>Сергей Николенко</td>\n",
              "    </tr>\n",
              "    <tr>\n",
              "      <th>409</th>\n",
              "      <td>2998</td>\n",
              "      <td>2.977524</td>\n",
              "      <td>Алексей Белоглазов</td>\n",
              "    </tr>\n",
              "    <tr>\n",
              "      <th>2949</th>\n",
              "      <td>21137</td>\n",
              "      <td>2.974952</td>\n",
              "      <td>Кирилл Михайлов</td>\n",
              "    </tr>\n",
              "    <tr>\n",
              "      <th>3229</th>\n",
              "      <td>23178</td>\n",
              "      <td>2.963567</td>\n",
              "      <td>Елизавета Овдеенко</td>\n",
              "    </tr>\n",
              "    <tr>\n",
              "      <th>2109</th>\n",
              "      <td>15123</td>\n",
              "      <td>2.959482</td>\n",
              "      <td>Ирина Колесникова</td>\n",
              "    </tr>\n",
              "    <tr>\n",
              "      <th>1934</th>\n",
              "      <td>14025</td>\n",
              "      <td>2.948539</td>\n",
              "      <td>Александра Киланова</td>\n",
              "    </tr>\n",
              "    <tr>\n",
              "      <th>2531</th>\n",
              "      <td>18036</td>\n",
              "      <td>2.946829</td>\n",
              "      <td>Михаил Левандовский</td>\n",
              "    </tr>\n",
              "    <tr>\n",
              "      <th>2884</th>\n",
              "      <td>20691</td>\n",
              "      <td>2.942830</td>\n",
              "      <td>Станислав Мереминский</td>\n",
              "    </tr>\n",
              "    <tr>\n",
              "      <th>3578</th>\n",
              "      <td>25757</td>\n",
              "      <td>2.941643</td>\n",
              "      <td>Мария Летюхина</td>\n",
              "    </tr>\n",
              "    <tr>\n",
              "      <th>3026</th>\n",
              "      <td>21698</td>\n",
              "      <td>2.941610</td>\n",
              "      <td>Александр Мосягин</td>\n",
              "    </tr>\n",
              "    <tr>\n",
              "      <th>2551</th>\n",
              "      <td>18194</td>\n",
              "      <td>2.937883</td>\n",
              "      <td>Мария Кленницкая</td>\n",
              "    </tr>\n",
              "    <tr>\n",
              "      <th>8063</th>\n",
              "      <td>74001</td>\n",
              "      <td>2.932121</td>\n",
              "      <td>Игорь Мокин</td>\n",
              "    </tr>\n",
              "    <tr>\n",
              "      <th>4719</th>\n",
              "      <td>34328</td>\n",
              "      <td>2.923112</td>\n",
              "      <td>Михаил Царёв</td>\n",
              "    </tr>\n",
              "    <tr>\n",
              "      <th>1376</th>\n",
              "      <td>9834</td>\n",
              "      <td>2.919986</td>\n",
              "      <td>Ольга Дубинская</td>\n",
              "    </tr>\n",
              "    <tr>\n",
              "      <th>3319</th>\n",
              "      <td>23737</td>\n",
              "      <td>2.919912</td>\n",
              "      <td>Андрей Островский</td>\n",
              "    </tr>\n",
              "    <tr>\n",
              "      <th>4935</th>\n",
              "      <td>35877</td>\n",
              "      <td>2.902910</td>\n",
              "      <td>Богдан Шевченко</td>\n",
              "    </tr>\n",
              "    <tr>\n",
              "      <th>7073</th>\n",
              "      <td>62252</td>\n",
              "      <td>2.896533</td>\n",
              "      <td>Тимур Боков</td>\n",
              "    </tr>\n",
              "    <tr>\n",
              "      <th>4800</th>\n",
              "      <td>34846</td>\n",
              "      <td>2.896348</td>\n",
              "      <td>Антон Чернин</td>\n",
              "    </tr>\n",
              "    <tr>\n",
              "      <th>1889</th>\n",
              "      <td>13689</td>\n",
              "      <td>2.895026</td>\n",
              "      <td>Дмитрий Карякин</td>\n",
              "    </tr>\n",
              "    <tr>\n",
              "      <th>3195</th>\n",
              "      <td>22935</td>\n",
              "      <td>2.879867</td>\n",
              "      <td>Илья Новиков</td>\n",
              "    </tr>\n",
              "    <tr>\n",
              "      <th>2781</th>\n",
              "      <td>19915</td>\n",
              "      <td>2.878160</td>\n",
              "      <td>Александр Марков</td>\n",
              "    </tr>\n",
              "    <tr>\n",
              "      <th>66</th>\n",
              "      <td>505</td>\n",
              "      <td>2.862926</td>\n",
              "      <td>Иделия Айзятулова</td>\n",
              "    </tr>\n",
              "    <tr>\n",
              "      <th>3396</th>\n",
              "      <td>24384</td>\n",
              "      <td>2.856502</td>\n",
              "      <td>Евгений Пашковский</td>\n",
              "    </tr>\n",
              "    <tr>\n",
              "      <th>8101</th>\n",
              "      <td>74382</td>\n",
              "      <td>2.854329</td>\n",
              "      <td>Михаил Новосёлов</td>\n",
              "    </tr>\n",
              "    <tr>\n",
              "      <th>866</th>\n",
              "      <td>6212</td>\n",
              "      <td>2.847590</td>\n",
              "      <td>Юрий Выменец</td>\n",
              "    </tr>\n",
              "    <tr>\n",
              "      <th>2172</th>\n",
              "      <td>15595</td>\n",
              "      <td>2.835809</td>\n",
              "      <td>Кристина Кораблина</td>\n",
              "    </tr>\n",
              "    <tr>\n",
              "      <th>2053</th>\n",
              "      <td>14786</td>\n",
              "      <td>2.828725</td>\n",
              "      <td>Николай Коврижных</td>\n",
              "    </tr>\n",
              "    <tr>\n",
              "      <th>2571</th>\n",
              "      <td>18332</td>\n",
              "      <td>2.828668</td>\n",
              "      <td>Александр Либер</td>\n",
              "    </tr>\n",
              "    <tr>\n",
              "      <th>3982</th>\n",
              "      <td>28689</td>\n",
              "      <td>2.823008</td>\n",
              "      <td>Инна Семёнова</td>\n",
              "    </tr>\n",
              "    <tr>\n",
              "      <th>1265</th>\n",
              "      <td>9061</td>\n",
              "      <td>2.816094</td>\n",
              "      <td>Евгений Дёмин</td>\n",
              "    </tr>\n",
              "    <tr>\n",
              "      <th>3844</th>\n",
              "      <td>27622</td>\n",
              "      <td>2.814434</td>\n",
              "      <td>Николай Рябых</td>\n",
              "    </tr>\n",
              "    <tr>\n",
              "      <th>2285</th>\n",
              "      <td>16332</td>\n",
              "      <td>2.808570</td>\n",
              "      <td>Николай Крапиль</td>\n",
              "    </tr>\n",
              "    <tr>\n",
              "      <th>7756</th>\n",
              "      <td>70750</td>\n",
              "      <td>2.804156</td>\n",
              "      <td>Денис Галиакберов</td>\n",
              "    </tr>\n",
              "  </tbody>\n",
              "</table>\n",
              "</div>\n",
              "      <button class=\"colab-df-convert\" onclick=\"convertToInteractive('df-aa60c736-f883-473a-ae65-3d01c1f4ed57')\"\n",
              "              title=\"Convert this dataframe to an interactive table.\"\n",
              "              style=\"display:none;\">\n",
              "        \n",
              "  <svg xmlns=\"http://www.w3.org/2000/svg\" height=\"24px\"viewBox=\"0 0 24 24\"\n",
              "       width=\"24px\">\n",
              "    <path d=\"M0 0h24v24H0V0z\" fill=\"none\"/>\n",
              "    <path d=\"M18.56 5.44l.94 2.06.94-2.06 2.06-.94-2.06-.94-.94-2.06-.94 2.06-2.06.94zm-11 1L8.5 8.5l.94-2.06 2.06-.94-2.06-.94L8.5 2.5l-.94 2.06-2.06.94zm10 10l.94 2.06.94-2.06 2.06-.94-2.06-.94-.94-2.06-.94 2.06-2.06.94z\"/><path d=\"M17.41 7.96l-1.37-1.37c-.4-.4-.92-.59-1.43-.59-.52 0-1.04.2-1.43.59L10.3 9.45l-7.72 7.72c-.78.78-.78 2.05 0 2.83L4 21.41c.39.39.9.59 1.41.59.51 0 1.02-.2 1.41-.59l7.78-7.78 2.81-2.81c.8-.78.8-2.07 0-2.86zM5.41 20L4 18.59l7.72-7.72 1.47 1.35L5.41 20z\"/>\n",
              "  </svg>\n",
              "      </button>\n",
              "      \n",
              "  <style>\n",
              "    .colab-df-container {\n",
              "      display:flex;\n",
              "      flex-wrap:wrap;\n",
              "      gap: 12px;\n",
              "    }\n",
              "\n",
              "    .colab-df-convert {\n",
              "      background-color: #E8F0FE;\n",
              "      border: none;\n",
              "      border-radius: 50%;\n",
              "      cursor: pointer;\n",
              "      display: none;\n",
              "      fill: #1967D2;\n",
              "      height: 32px;\n",
              "      padding: 0 0 0 0;\n",
              "      width: 32px;\n",
              "    }\n",
              "\n",
              "    .colab-df-convert:hover {\n",
              "      background-color: #E2EBFA;\n",
              "      box-shadow: 0px 1px 2px rgba(60, 64, 67, 0.3), 0px 1px 3px 1px rgba(60, 64, 67, 0.15);\n",
              "      fill: #174EA6;\n",
              "    }\n",
              "\n",
              "    [theme=dark] .colab-df-convert {\n",
              "      background-color: #3B4455;\n",
              "      fill: #D2E3FC;\n",
              "    }\n",
              "\n",
              "    [theme=dark] .colab-df-convert:hover {\n",
              "      background-color: #434B5C;\n",
              "      box-shadow: 0px 1px 3px 1px rgba(0, 0, 0, 0.15);\n",
              "      filter: drop-shadow(0px 1px 2px rgba(0, 0, 0, 0.3));\n",
              "      fill: #FFFFFF;\n",
              "    }\n",
              "  </style>\n",
              "\n",
              "      <script>\n",
              "        const buttonEl =\n",
              "          document.querySelector('#df-aa60c736-f883-473a-ae65-3d01c1f4ed57 button.colab-df-convert');\n",
              "        buttonEl.style.display =\n",
              "          google.colab.kernel.accessAllowed ? 'block' : 'none';\n",
              "\n",
              "        async function convertToInteractive(key) {\n",
              "          const element = document.querySelector('#df-aa60c736-f883-473a-ae65-3d01c1f4ed57');\n",
              "          const dataTable =\n",
              "            await google.colab.kernel.invokeFunction('convertToInteractive',\n",
              "                                                     [key], {});\n",
              "          if (!dataTable) return;\n",
              "\n",
              "          const docLinkHtml = 'Like what you see? Visit the ' +\n",
              "            '<a target=\"_blank\" href=https://colab.research.google.com/notebooks/data_table.ipynb>data table notebook</a>'\n",
              "            + ' to learn more about interactive tables.';\n",
              "          element.innerHTML = '';\n",
              "          dataTable['output_type'] = 'display_data';\n",
              "          await google.colab.output.renderOutput(dataTable, element);\n",
              "          const docLink = document.createElement('div');\n",
              "          docLink.innerHTML = docLinkHtml;\n",
              "          element.appendChild(docLink);\n",
              "        }\n",
              "      </script>\n",
              "    </div>\n",
              "  </div>\n",
              "  "
            ]
          },
          "metadata": {},
          "execution_count": 14
        }
      ],
      "source": [
        "rating.sort_values(by='coef', ascending=False).head(50)"
      ]
    },
    {
      "cell_type": "markdown",
      "metadata": {
        "id": "Bp1zJKBUfObV"
      },
      "source": [
        "## 3. Качество рейтинговой системы"
      ]
    },
    {
      "cell_type": "markdown",
      "metadata": {
        "id": "MrelY8NLfObV"
      },
      "source": [
        "Качество рейтинг-системы оценивается качеством предсказаний результатов турниров.\n",
        "\n",
        "Чтобы оценить качество, возьмем тестовую выборку и для каждого вопроса будем считать, что чтобы команда ответила на вопрос надо чтобы хотя бы один игрок ответил на этот вопрос.\n"
      ]
    },
    {
      "cell_type": "code",
      "execution_count": 15,
      "metadata": {
        "id": "lEIYGjQ0fObV"
      },
      "outputs": [],
      "source": [
        "test_table = []\n",
        "\n",
        "for tournament_id, tournament in tournaments_test.items():\n",
        "    for team_result in results_filtered[tournament_id]:\n",
        "        team_id = team_result['team']['id']\n",
        "        mask = np.array([np.int32(answer) for answer in team_result['mask']])\n",
        "        players = team_result['teamMembers']\n",
        "        \n",
        "        for player in players:\n",
        "            player_id = player['player']['id']\n",
        "            if player_id not in active_players:\n",
        "                continue\n",
        "            test_table.append([tournament_id, team_id, player_id, -1, sum(mask), len(mask)])  \n",
        "        \n",
        "test_df = pd.DataFrame(test_table, columns = ['tournament_id', 'team_id', 'player_id', 'question_id', 'correct_answers', 'total_answers'])      "
      ]
    },
    {
      "cell_type": "code",
      "execution_count": 16,
      "metadata": {
        "id": "cSJfmbyefObW"
      },
      "outputs": [],
      "source": [
        "X_test = test_df[['player_id', 'question_id']]\n",
        "X_test = ohe.transform(X_test)\n",
        "predictions = lr.predict_proba(X_test)[:, 1]"
      ]
    },
    {
      "cell_type": "code",
      "execution_count": 17,
      "metadata": {
        "id": "_XtuEZfKfObW"
      },
      "outputs": [],
      "source": [
        "def compute_scores(data, preds):\n",
        "    data['pred'] = preds\n",
        "    data['score'] = data.groupby(['tournament_id', 'team_id'])['pred'].transform(lambda x: 1 - np.prod(1 - x))\n",
        "    rating = data[['tournament_id', 'team_id', 'correct_answers', 'score']].drop_duplicates().reset_index(drop=True)\n",
        "    \n",
        "    # Считаем реальный рейтинг команд\n",
        "    rating = rating.sort_values(by=['tournament_id', 'correct_answers'], ascending=False)\n",
        "    rating['real_rank'] = rating.groupby('tournament_id')['correct_answers'].transform(lambda x: np.arange(1, len(x) + 1))\n",
        "    \n",
        "    # Считаем предсказанный рейтинг\n",
        "    rating = rating.sort_values(by=['tournament_id', 'score'], ascending=False)\n",
        "    rating['pred_rank'] = rating.groupby('tournament_id')['score'].transform(lambda x: np.arange(1, len(x) + 1))\n",
        "\n",
        "    rating = rating.astype(np.int32)\n",
        "    \n",
        "    print(f\"Корреляция Спирмана: {rating.groupby('tournament_id').apply(lambda x: stats.spearmanr(x['real_rank'], x['pred_rank']).correlation).mean()}\")\n",
        "    print(f\"Корреляция Кендалла: {rating.groupby('tournament_id').apply(lambda x: stats.kendalltau(x['real_rank'], x['pred_rank']).correlation).mean()}\")"
      ]
    },
    {
      "cell_type": "code",
      "execution_count": 18,
      "metadata": {
        "id": "ORW6ilbXfObW",
        "outputId": "c8d26275-e819-472d-f4cb-a1f434108083",
        "colab": {
          "base_uri": "https://localhost:8080/"
        }
      },
      "outputs": [
        {
          "output_type": "stream",
          "name": "stdout",
          "text": [
            "Корреляция Спирмана: 0.7672515187411473\n",
            "Корреляция Кендалла: 0.5987298826719607\n"
          ]
        }
      ],
      "source": [
        "compute_scores(test_df, predictions)"
      ]
    },
    {
      "cell_type": "markdown",
      "metadata": {
        "id": "AwDv7OXSfObX"
      },
      "source": [
        "## 4. EM алгоритм"
      ]
    },
    {
      "cell_type": "markdown",
      "metadata": {
        "id": "ZQoubuzmfObX"
      },
      "source": [
        "Будем считать, что теперь все игроки в команде могли отвечать по-разному. Даже если вся команда ответила на вопрос, то будем считать, что это не означает, что каждый ответил на вопрос. Если же команда не ответила на вопрос, то как и ранее будем считать, что каждый из игроков на вопрос не ответил.\n",
        "\n",
        "Формально можно считать, что для каждого вопроса j и каждого игрока i есть некоторая случайная ненаблюдаемая! величина z_i_j, которая принимает два значения 0 или 1 в зависимости от того, смог бы игрок i самостоятельно ответить на вопрос j.\n",
        "\n",
        "Сами значения z_i_j мы непосредственно не наблюдаем, поскольку они замешаны с ответами команды и результаты игрока оказываются зашумлены ответами команды. Однако, ответы команды и ответы игрока коррелированы, что даст возможность через ответы команды получить некоторую информацию об гипотетических ответах самого игрока.\n",
        "\n",
        "Подсчитаем условную вероятность того, что игрок ответит, при условии что его команда не ответила (очевидно эта вероятность 0) и при условии, что его команда ответила: \n",
        "\n",
        " "
      ]
    },
    {
      "cell_type": "markdown",
      "metadata": {
        "id": "Eolt7XEafObY"
      },
      "source": [
        "Введем новые обозначения\n",
        "\n",
        "Пусть \n",
        " $P (z_{i,j}=1| x) $ - условная вероятность того, что игрок ответит на вопрос, при условии что его команда ответит на вопрос либо верно (x=1), либо неверно (x=0).\n",
        "\n",
        "Как уже отмечалось,  $P (z_{i,j}=1| x=0) = 0$ - если команда не ответила на вопрос, то и каждый игрок не стал бы утаивать правильный ответ и значит сам бы не ответил на вопрос.\n",
        "\n",
        "Если же команда ответила на вопрос, условная вероятность сложнее (по формуле полной вероятности):\n",
        " \n",
        " $P (z_{i,j}=1| x=1) = \\frac{P(z_{i,j}=1)}{P(x=0)} = \\frac{P(z_{i,j}=1)} {1-(1-P(z_{i_{1},j }=1))...(1-P(z_{i_{n},j }=1))}$\n",
        "\n",
        " где $z_{i_{k},j }$ - аналогичные события что игрок $i_{k}$ из той же команды что и игрок i ответит верно на вопрос j. Произведение в знаменателе по всем игрокам из команды.\n",
        "\n",
        " Алгоритм выглядит таким образом:\n",
        "\n",
        "На M шаге подбираем коэффициенты в логистической регрессии как и ранее в baseline, только в качестве целей используем не 0 или 1 как ранее, а найденные условные вероятности $P (z_{i,j}=1| x)$.\n",
        "\n",
        "На E шаге обновляем условные вероятности\n",
        "\n",
        " $P (z_{i,j}=1| x=0) = 0$\n",
        " \n",
        " $P (z_{i,j}=1| x=1) = \\frac{P(z_{i,j}=1)}{P(x=0)} = \\frac{P(z_{i,j}=1)} {1-(1-P(z_{i_{1},j }=1))...(1-P(z_{i_{n},j }=1))}$\n",
        "\n",
        "\n",
        "\n"
      ]
    },
    {
      "cell_type": "code",
      "execution_count": 19,
      "metadata": {
        "id": "bUhwVVG-fObZ"
      },
      "outputs": [],
      "source": [
        "def log_loss(y_true, y_pred):\n",
        "    return - np.mean(y_true * np.log(y_pred) + (1 - y_true) * np.log(1 - y_pred))\n",
        "\n",
        "class EMClassifier:\n",
        "    \n",
        "    def __init__(self, w=None, lr=15, n_iter=10, batch_size=5000, verbose=1):\n",
        "        self.w = w\n",
        "        self.lr = lr\n",
        "        self.n_iter = n_iter\n",
        "        self.batch_size = batch_size\n",
        "        self.verbose = 1\n",
        "        \n",
        "    def _add_intercept(self, X):\n",
        "        return sp.hstack((np.ones((X.shape[0], 1)), X), format='csr')\n",
        "    \n",
        "        \n",
        "    def _E_step(self, data, preds):\n",
        "        team_prob = pd.DataFrame({'team_id': data['team_id'], 'question_id': data['question_id'], 'team_prob': 1 - preds}).groupby(['team_id', 'question_id']).agg({'team_prob': 'prod'}).reset_index()\n",
        "\n",
        "        team_prob['team_prob'] = 1 - team_prob['team_prob']\n",
        "        team_prob = data[['team_id', 'question_id']].merge(team_prob)\n",
        "        y = np.clip(preds / team_prob['team_prob'], 0, 1).values\n",
        "        y[data['answer'] == 0] = 0\n",
        "        return y\n",
        "        \n",
        "    def _M_step(self, X, y):\n",
        "        min_loss = np.inf\n",
        "        indices = np.arange(X.shape[0])\n",
        "        for _ in range(100):\n",
        "            indices = np.random.permutation(indices)\n",
        "            for batch_idx in np.array_split(indices, len(indices) // self.batch_size):\n",
        "                x_batch, y_batch = X[batch_idx], y[batch_idx]\n",
        "                grad = x_batch.T.dot(self.predict(x_batch) - y_batch) / len(y_batch)\n",
        "                self.w -= self.lr * grad\n",
        "                \n",
        "            cur_loss = log_loss(y, self.predict(X))\n",
        "            if min_loss - cur_loss < 1e-6:\n",
        "                break\n",
        "                \n",
        "            min_loss = cur_loss\n",
        "                \n",
        "    def fit(self, X_tr, train_data, X_te=None, test_data=None):\n",
        "        X_tr = self._add_intercept(X_tr)\n",
        "        for iter_ in range(self.n_iter): \n",
        "            preds = self.predict(X_tr)\n",
        "            y = self._E_step(train_data, preds)\n",
        "            self._M_step(X_tr, y)\n",
        "            if self.verbose is not None and X_te is not None and test_data is not None and iter_ % self.verbose == 0:\n",
        "                compute_scores(test_data, self.predict(X_te))\n",
        "                         \n",
        "    def predict(self, X):\n",
        "        if len(self.w) != X.shape[1]:\n",
        "            X = self._add_intercept(X)\n",
        "        return expit(X.dot(self.w))"
      ]
    },
    {
      "cell_type": "code",
      "execution_count": 20,
      "metadata": {
        "id": "3E_fXxQkfObZ",
        "outputId": "18d52f48-1587-41ca-8057-bab44ac30e83",
        "colab": {
          "base_uri": "https://localhost:8080/"
        }
      },
      "outputs": [
        {
          "output_type": "stream",
          "name": "stdout",
          "text": [
            "Корреляция Спирмана: 0.7716524230787055\n",
            "Корреляция Кендалла: 0.603905714706942\n",
            "Корреляция Спирмана: 0.7755026286026792\n",
            "Корреляция Кендалла: 0.6083365789573657\n",
            "Корреляция Спирмана: 0.775811579841464\n",
            "Корреляция Кендалла: 0.6082407043712538\n",
            "Корреляция Спирмана: 0.7758907759478948\n",
            "Корреляция Кендалла: 0.6085188808788724\n",
            "Корреляция Спирмана: 0.7757402794919488\n",
            "Корреляция Кендалла: 0.6085573799501848\n",
            "Корреляция Спирмана: 0.7746745799749475\n",
            "Корреляция Кендалла: 0.6073159145151498\n",
            "Корреляция Спирмана: 0.7753439962718177\n",
            "Корреляция Кендалла: 0.6081549668638893\n",
            "Корреляция Спирмана: 0.7770330492665783\n",
            "Корреляция Кендалла: 0.6092810722004044\n",
            "Корреляция Спирмана: 0.7773268284663192\n",
            "Корреляция Кендалла: 0.6094622991336516\n",
            "Корреляция Спирмана: 0.777626231356631\n",
            "Корреляция Кендалла: 0.6100120464562828\n"
          ]
        }
      ],
      "source": [
        "w_init = np.hstack([lr.intercept_, lr.coef_[0]]) # инициализация весов из baseline\n",
        "em_classifier = EMClassifier(w_init)\n",
        "\n",
        "em_classifier.fit(X_train, train_df, X_test, test_df)"
      ]
    },
    {
      "cell_type": "markdown",
      "metadata": {
        "id": "BIdyegOrfObZ"
      },
      "source": [
        "Модель немного лучше чем baseline"
      ]
    },
    {
      "cell_type": "markdown",
      "metadata": {
        "id": "NshM_BesfOba"
      },
      "source": [
        "## 5. Рейтинг лист турниров"
      ]
    },
    {
      "cell_type": "markdown",
      "metadata": {
        "id": "5Qon-zqFfOba"
      },
      "source": [
        "\n",
        "\n",
        "Считаем среднюю сложность вопросов в турнире (среднее коэффициентов в модели)."
      ]
    },
    {
      "cell_type": "code",
      "execution_count": 23,
      "metadata": {
        "id": "BO6IM5W8fOba"
      },
      "outputs": [],
      "source": [
        "active_questions = np.unique(train_df['question_id'])\n",
        "q_rating = dict(zip(active_questions, em_classifier.w[-len(active_questions):]))\n",
        "\n",
        "train_df['difficulty'] = train_df['question_id'].map(q_rating)\n",
        "train_df['tournament_name'] = train_df['tour_id'].map({v['id']: v['name']for k, v in tournaments_data.items()})\n",
        "\n",
        "tournaments_rating = train_df[['tournament_name', 'question_id', 'difficulty']].drop_duplicates()\n",
        "tournaments_rating = tournaments_rating.groupby('tournament_name')['difficulty'].mean().sort_values().reset_index()"
      ]
    },
    {
      "cell_type": "code",
      "execution_count": 25,
      "metadata": {
        "id": "WjWelQMGfObc",
        "outputId": "89dd5473-aac5-4378-d3d8-ced1bfb27a6e",
        "colab": {
          "base_uri": "https://localhost:8080/",
          "height": 363
        }
      },
      "outputs": [
        {
          "output_type": "execute_result",
          "data": {
            "text/plain": [
              "                           tournament_name  difficulty\n",
              "0  Чемпионат Санкт-Петербурга. Первая лига   -3.431736\n",
              "1                              Угрюмый Ёрш   -2.031730\n",
              "2             Первенство правого полушария   -1.867021\n",
              "3                            Кубок городов   -1.644960\n",
              "4                       Воображаемый музей   -1.546082\n",
              "5                         Записки охотника   -1.468422\n",
              "6                         Чемпионат России   -1.468335\n",
              "7                        Ускользающая сова   -1.427819\n",
              "8                   All Cats Are Beautiful   -1.413481\n",
              "9         VERSUS: Коробейников vs. Матвеев   -1.383124"
            ],
            "text/html": [
              "\n",
              "  <div id=\"df-6866b909-b459-4aec-80de-eff0803c8d44\">\n",
              "    <div class=\"colab-df-container\">\n",
              "      <div>\n",
              "<style scoped>\n",
              "    .dataframe tbody tr th:only-of-type {\n",
              "        vertical-align: middle;\n",
              "    }\n",
              "\n",
              "    .dataframe tbody tr th {\n",
              "        vertical-align: top;\n",
              "    }\n",
              "\n",
              "    .dataframe thead th {\n",
              "        text-align: right;\n",
              "    }\n",
              "</style>\n",
              "<table border=\"1\" class=\"dataframe\">\n",
              "  <thead>\n",
              "    <tr style=\"text-align: right;\">\n",
              "      <th></th>\n",
              "      <th>tournament_name</th>\n",
              "      <th>difficulty</th>\n",
              "    </tr>\n",
              "  </thead>\n",
              "  <tbody>\n",
              "    <tr>\n",
              "      <th>0</th>\n",
              "      <td>Чемпионат Санкт-Петербурга. Первая лига</td>\n",
              "      <td>-3.431736</td>\n",
              "    </tr>\n",
              "    <tr>\n",
              "      <th>1</th>\n",
              "      <td>Угрюмый Ёрш</td>\n",
              "      <td>-2.031730</td>\n",
              "    </tr>\n",
              "    <tr>\n",
              "      <th>2</th>\n",
              "      <td>Первенство правого полушария</td>\n",
              "      <td>-1.867021</td>\n",
              "    </tr>\n",
              "    <tr>\n",
              "      <th>3</th>\n",
              "      <td>Кубок городов</td>\n",
              "      <td>-1.644960</td>\n",
              "    </tr>\n",
              "    <tr>\n",
              "      <th>4</th>\n",
              "      <td>Воображаемый музей</td>\n",
              "      <td>-1.546082</td>\n",
              "    </tr>\n",
              "    <tr>\n",
              "      <th>5</th>\n",
              "      <td>Записки охотника</td>\n",
              "      <td>-1.468422</td>\n",
              "    </tr>\n",
              "    <tr>\n",
              "      <th>6</th>\n",
              "      <td>Чемпионат России</td>\n",
              "      <td>-1.468335</td>\n",
              "    </tr>\n",
              "    <tr>\n",
              "      <th>7</th>\n",
              "      <td>Ускользающая сова</td>\n",
              "      <td>-1.427819</td>\n",
              "    </tr>\n",
              "    <tr>\n",
              "      <th>8</th>\n",
              "      <td>All Cats Are Beautiful</td>\n",
              "      <td>-1.413481</td>\n",
              "    </tr>\n",
              "    <tr>\n",
              "      <th>9</th>\n",
              "      <td>VERSUS: Коробейников vs. Матвеев</td>\n",
              "      <td>-1.383124</td>\n",
              "    </tr>\n",
              "  </tbody>\n",
              "</table>\n",
              "</div>\n",
              "      <button class=\"colab-df-convert\" onclick=\"convertToInteractive('df-6866b909-b459-4aec-80de-eff0803c8d44')\"\n",
              "              title=\"Convert this dataframe to an interactive table.\"\n",
              "              style=\"display:none;\">\n",
              "        \n",
              "  <svg xmlns=\"http://www.w3.org/2000/svg\" height=\"24px\"viewBox=\"0 0 24 24\"\n",
              "       width=\"24px\">\n",
              "    <path d=\"M0 0h24v24H0V0z\" fill=\"none\"/>\n",
              "    <path d=\"M18.56 5.44l.94 2.06.94-2.06 2.06-.94-2.06-.94-.94-2.06-.94 2.06-2.06.94zm-11 1L8.5 8.5l.94-2.06 2.06-.94-2.06-.94L8.5 2.5l-.94 2.06-2.06.94zm10 10l.94 2.06.94-2.06 2.06-.94-2.06-.94-.94-2.06-.94 2.06-2.06.94z\"/><path d=\"M17.41 7.96l-1.37-1.37c-.4-.4-.92-.59-1.43-.59-.52 0-1.04.2-1.43.59L10.3 9.45l-7.72 7.72c-.78.78-.78 2.05 0 2.83L4 21.41c.39.39.9.59 1.41.59.51 0 1.02-.2 1.41-.59l7.78-7.78 2.81-2.81c.8-.78.8-2.07 0-2.86zM5.41 20L4 18.59l7.72-7.72 1.47 1.35L5.41 20z\"/>\n",
              "  </svg>\n",
              "      </button>\n",
              "      \n",
              "  <style>\n",
              "    .colab-df-container {\n",
              "      display:flex;\n",
              "      flex-wrap:wrap;\n",
              "      gap: 12px;\n",
              "    }\n",
              "\n",
              "    .colab-df-convert {\n",
              "      background-color: #E8F0FE;\n",
              "      border: none;\n",
              "      border-radius: 50%;\n",
              "      cursor: pointer;\n",
              "      display: none;\n",
              "      fill: #1967D2;\n",
              "      height: 32px;\n",
              "      padding: 0 0 0 0;\n",
              "      width: 32px;\n",
              "    }\n",
              "\n",
              "    .colab-df-convert:hover {\n",
              "      background-color: #E2EBFA;\n",
              "      box-shadow: 0px 1px 2px rgba(60, 64, 67, 0.3), 0px 1px 3px 1px rgba(60, 64, 67, 0.15);\n",
              "      fill: #174EA6;\n",
              "    }\n",
              "\n",
              "    [theme=dark] .colab-df-convert {\n",
              "      background-color: #3B4455;\n",
              "      fill: #D2E3FC;\n",
              "    }\n",
              "\n",
              "    [theme=dark] .colab-df-convert:hover {\n",
              "      background-color: #434B5C;\n",
              "      box-shadow: 0px 1px 3px 1px rgba(0, 0, 0, 0.15);\n",
              "      filter: drop-shadow(0px 1px 2px rgba(0, 0, 0, 0.3));\n",
              "      fill: #FFFFFF;\n",
              "    }\n",
              "  </style>\n",
              "\n",
              "      <script>\n",
              "        const buttonEl =\n",
              "          document.querySelector('#df-6866b909-b459-4aec-80de-eff0803c8d44 button.colab-df-convert');\n",
              "        buttonEl.style.display =\n",
              "          google.colab.kernel.accessAllowed ? 'block' : 'none';\n",
              "\n",
              "        async function convertToInteractive(key) {\n",
              "          const element = document.querySelector('#df-6866b909-b459-4aec-80de-eff0803c8d44');\n",
              "          const dataTable =\n",
              "            await google.colab.kernel.invokeFunction('convertToInteractive',\n",
              "                                                     [key], {});\n",
              "          if (!dataTable) return;\n",
              "\n",
              "          const docLinkHtml = 'Like what you see? Visit the ' +\n",
              "            '<a target=\"_blank\" href=https://colab.research.google.com/notebooks/data_table.ipynb>data table notebook</a>'\n",
              "            + ' to learn more about interactive tables.';\n",
              "          element.innerHTML = '';\n",
              "          dataTable['output_type'] = 'display_data';\n",
              "          await google.colab.output.renderOutput(dataTable, element);\n",
              "          const docLink = document.createElement('div');\n",
              "          docLink.innerHTML = docLinkHtml;\n",
              "          element.appendChild(docLink);\n",
              "        }\n",
              "      </script>\n",
              "    </div>\n",
              "  </div>\n",
              "  "
            ]
          },
          "metadata": {},
          "execution_count": 25
        }
      ],
      "source": [
        "tournaments_rating.head(10)"
      ]
    }
  ],
  "metadata": {
    "kernelspec": {
      "display_name": "Python 3 (ipykernel)",
      "language": "python",
      "name": "python3"
    },
    "language_info": {
      "codemirror_mode": {
        "name": "ipython",
        "version": 3
      },
      "file_extension": ".py",
      "mimetype": "text/x-python",
      "name": "python",
      "nbconvert_exporter": "python",
      "pygments_lexer": "ipython3",
      "version": "3.9.7"
    },
    "colab": {
      "name": "hw2_what where when.ipynb",
      "provenance": [],
      "collapsed_sections": [],
      "include_colab_link": true
    }
  },
  "nbformat": 4,
  "nbformat_minor": 0
}