{
 "cells": [
  {
   "cell_type": "code",
   "execution_count": 52,
   "id": "6f3cb56f",
   "metadata": {},
   "outputs": [],
   "source": [
    "import pandas as pd\n",
    "import math\n",
    "import matplotlib.pyplot as plt\n",
    "from datetime import date\n",
    "from scipy.stats import multivariate_normal"
   ]
  },
  {
   "cell_type": "code",
   "execution_count": 11,
   "id": "5cb40451",
   "metadata": {},
   "outputs": [],
   "source": [
    "data_ = pd.read_csv(r'C:\\downloads\\made2\\2_ml_nikolenko\\owid-covid-data.csv')"
   ]
  },
  {
   "cell_type": "code",
   "execution_count": 12,
   "id": "ea4e7178",
   "metadata": {},
   "outputs": [],
   "source": [
    "data_['date']  = pd.to_datetime(data_['date'])"
   ]
  },
  {
   "cell_type": "code",
   "execution_count": 13,
   "id": "96fe3543",
   "metadata": {},
   "outputs": [],
   "source": [
    "date0 = pd.to_datetime(\"2020-03-03\")"
   ]
  },
  {
   "cell_type": "code",
   "execution_count": 14,
   "id": "32c9f497",
   "metadata": {},
   "outputs": [],
   "source": [
    "data = data_.loc[(data_['location'] == 'Russia') & (data_['date'] >= date0)]"
   ]
  },
  {
   "cell_type": "code",
   "execution_count": 16,
   "id": "dfc4eb83",
   "metadata": {},
   "outputs": [],
   "source": [
    "data.loc[ data['new_cases'] ==0, 'new_cases']= 1 "
   ]
  },
  {
   "cell_type": "code",
   "execution_count": 138,
   "id": "d9c26a12",
   "metadata": {},
   "outputs": [
    {
     "name": "stderr",
     "output_type": "stream",
     "text": [
      "C:\\Users\\comp\\AppData\\Local\\Temp/ipykernel_12844/1785528.py:1: SettingWithCopyWarning: \n",
      "A value is trying to be set on a copy of a slice from a DataFrame.\n",
      "Try using .loc[row_indexer,col_indexer] = value instead\n",
      "\n",
      "See the caveats in the documentation: https://pandas.pydata.org/pandas-docs/stable/user_guide/indexing.html#returning-a-view-versus-a-copy\n",
      "  data['total_cases_log'] = data['total_cases'].apply(math.log)\n",
      "C:\\Users\\comp\\AppData\\Local\\Temp/ipykernel_12844/1785528.py:2: SettingWithCopyWarning: \n",
      "A value is trying to be set on a copy of a slice from a DataFrame.\n",
      "Try using .loc[row_indexer,col_indexer] = value instead\n",
      "\n",
      "See the caveats in the documentation: https://pandas.pydata.org/pandas-docs/stable/user_guide/indexing.html#returning-a-view-versus-a-copy\n",
      "  data['new_cases_log'] = data['new_cases'].apply(math.log)\n",
      "C:\\Users\\comp\\AppData\\Local\\Temp/ipykernel_12844/1785528.py:4: SettingWithCopyWarning: \n",
      "A value is trying to be set on a copy of a slice from a DataFrame.\n",
      "Try using .loc[row_indexer,col_indexer] = value instead\n",
      "\n",
      "See the caveats in the documentation: https://pandas.pydata.org/pandas-docs/stable/user_guide/indexing.html#returning-a-view-versus-a-copy\n",
      "  data['t'] = delta.dt.days\n"
     ]
    }
   ],
   "source": [
    "data['total_cases_log'] = data['total_cases'].apply(math.log) \n",
    "data['new_cases_log'] = data['new_cases'].apply(math.log)\n",
    "delta = data['date'] - date0\n",
    "data['t'] = delta.dt.days\n"
   ]
  },
  {
   "cell_type": "markdown",
   "id": "b86fc904",
   "metadata": {},
   "source": [
    "Для единообразия давайте зафиксируем тренировочный набор в виде первых 50 отсчётов (дней), начиная с 3 марта; остальные данные можно использовать в качестве тестового набора (и он даже будет увеличиваться по мере выполнения задания)."
   ]
  },
  {
   "cell_type": "code",
   "execution_count": 18,
   "id": "b4b3f133",
   "metadata": {},
   "outputs": [],
   "source": [
    "data_train = data.head(50)"
   ]
  },
  {
   "cell_type": "code",
   "execution_count": 19,
   "id": "489ae70f",
   "metadata": {},
   "outputs": [
    {
     "data": {
      "text/html": [
       "<div>\n",
       "<style scoped>\n",
       "    .dataframe tbody tr th:only-of-type {\n",
       "        vertical-align: middle;\n",
       "    }\n",
       "\n",
       "    .dataframe tbody tr th {\n",
       "        vertical-align: top;\n",
       "    }\n",
       "\n",
       "    .dataframe thead th {\n",
       "        text-align: right;\n",
       "    }\n",
       "</style>\n",
       "<table border=\"1\" class=\"dataframe\">\n",
       "  <thead>\n",
       "    <tr style=\"text-align: right;\">\n",
       "      <th></th>\n",
       "      <th>iso_code</th>\n",
       "      <th>continent</th>\n",
       "      <th>location</th>\n",
       "      <th>date</th>\n",
       "      <th>total_cases</th>\n",
       "      <th>new_cases</th>\n",
       "      <th>new_cases_smoothed</th>\n",
       "      <th>total_deaths</th>\n",
       "      <th>new_deaths</th>\n",
       "      <th>new_deaths_smoothed</th>\n",
       "      <th>...</th>\n",
       "      <th>handwashing_facilities</th>\n",
       "      <th>hospital_beds_per_thousand</th>\n",
       "      <th>life_expectancy</th>\n",
       "      <th>human_development_index</th>\n",
       "      <th>excess_mortality_cumulative_absolute</th>\n",
       "      <th>excess_mortality_cumulative</th>\n",
       "      <th>excess_mortality</th>\n",
       "      <th>excess_mortality_cumulative_per_million</th>\n",
       "      <th>total_cases_log</th>\n",
       "      <th>new_cases_log</th>\n",
       "    </tr>\n",
       "  </thead>\n",
       "  <tbody>\n",
       "    <tr>\n",
       "      <th>123786</th>\n",
       "      <td>RUS</td>\n",
       "      <td>Europe</td>\n",
       "      <td>Russia</td>\n",
       "      <td>2020-03-03</td>\n",
       "      <td>3.0</td>\n",
       "      <td>1.0</td>\n",
       "      <td>0.143</td>\n",
       "      <td>NaN</td>\n",
       "      <td>NaN</td>\n",
       "      <td>NaN</td>\n",
       "      <td>...</td>\n",
       "      <td>NaN</td>\n",
       "      <td>8.05</td>\n",
       "      <td>72.58</td>\n",
       "      <td>0.824</td>\n",
       "      <td>NaN</td>\n",
       "      <td>NaN</td>\n",
       "      <td>NaN</td>\n",
       "      <td>NaN</td>\n",
       "      <td>1.098612</td>\n",
       "      <td>0.000000</td>\n",
       "    </tr>\n",
       "    <tr>\n",
       "      <th>123787</th>\n",
       "      <td>RUS</td>\n",
       "      <td>Europe</td>\n",
       "      <td>Russia</td>\n",
       "      <td>2020-03-04</td>\n",
       "      <td>3.0</td>\n",
       "      <td>1.0</td>\n",
       "      <td>0.143</td>\n",
       "      <td>NaN</td>\n",
       "      <td>NaN</td>\n",
       "      <td>NaN</td>\n",
       "      <td>...</td>\n",
       "      <td>NaN</td>\n",
       "      <td>8.05</td>\n",
       "      <td>72.58</td>\n",
       "      <td>0.824</td>\n",
       "      <td>NaN</td>\n",
       "      <td>NaN</td>\n",
       "      <td>NaN</td>\n",
       "      <td>NaN</td>\n",
       "      <td>1.098612</td>\n",
       "      <td>0.000000</td>\n",
       "    </tr>\n",
       "    <tr>\n",
       "      <th>123788</th>\n",
       "      <td>RUS</td>\n",
       "      <td>Europe</td>\n",
       "      <td>Russia</td>\n",
       "      <td>2020-03-05</td>\n",
       "      <td>4.0</td>\n",
       "      <td>1.0</td>\n",
       "      <td>0.286</td>\n",
       "      <td>NaN</td>\n",
       "      <td>NaN</td>\n",
       "      <td>NaN</td>\n",
       "      <td>...</td>\n",
       "      <td>NaN</td>\n",
       "      <td>8.05</td>\n",
       "      <td>72.58</td>\n",
       "      <td>0.824</td>\n",
       "      <td>NaN</td>\n",
       "      <td>NaN</td>\n",
       "      <td>NaN</td>\n",
       "      <td>NaN</td>\n",
       "      <td>1.386294</td>\n",
       "      <td>0.000000</td>\n",
       "    </tr>\n",
       "    <tr>\n",
       "      <th>123789</th>\n",
       "      <td>RUS</td>\n",
       "      <td>Europe</td>\n",
       "      <td>Russia</td>\n",
       "      <td>2020-03-06</td>\n",
       "      <td>13.0</td>\n",
       "      <td>9.0</td>\n",
       "      <td>1.571</td>\n",
       "      <td>NaN</td>\n",
       "      <td>NaN</td>\n",
       "      <td>NaN</td>\n",
       "      <td>...</td>\n",
       "      <td>NaN</td>\n",
       "      <td>8.05</td>\n",
       "      <td>72.58</td>\n",
       "      <td>0.824</td>\n",
       "      <td>NaN</td>\n",
       "      <td>NaN</td>\n",
       "      <td>NaN</td>\n",
       "      <td>NaN</td>\n",
       "      <td>2.564949</td>\n",
       "      <td>2.197225</td>\n",
       "    </tr>\n",
       "    <tr>\n",
       "      <th>123790</th>\n",
       "      <td>RUS</td>\n",
       "      <td>Europe</td>\n",
       "      <td>Russia</td>\n",
       "      <td>2020-03-07</td>\n",
       "      <td>13.0</td>\n",
       "      <td>1.0</td>\n",
       "      <td>1.571</td>\n",
       "      <td>NaN</td>\n",
       "      <td>NaN</td>\n",
       "      <td>NaN</td>\n",
       "      <td>...</td>\n",
       "      <td>NaN</td>\n",
       "      <td>8.05</td>\n",
       "      <td>72.58</td>\n",
       "      <td>0.824</td>\n",
       "      <td>NaN</td>\n",
       "      <td>NaN</td>\n",
       "      <td>NaN</td>\n",
       "      <td>NaN</td>\n",
       "      <td>2.564949</td>\n",
       "      <td>0.000000</td>\n",
       "    </tr>\n",
       "    <tr>\n",
       "      <th>123791</th>\n",
       "      <td>RUS</td>\n",
       "      <td>Europe</td>\n",
       "      <td>Russia</td>\n",
       "      <td>2020-03-08</td>\n",
       "      <td>17.0</td>\n",
       "      <td>4.0</td>\n",
       "      <td>2.143</td>\n",
       "      <td>NaN</td>\n",
       "      <td>NaN</td>\n",
       "      <td>NaN</td>\n",
       "      <td>...</td>\n",
       "      <td>NaN</td>\n",
       "      <td>8.05</td>\n",
       "      <td>72.58</td>\n",
       "      <td>0.824</td>\n",
       "      <td>NaN</td>\n",
       "      <td>NaN</td>\n",
       "      <td>NaN</td>\n",
       "      <td>NaN</td>\n",
       "      <td>2.833213</td>\n",
       "      <td>1.386294</td>\n",
       "    </tr>\n",
       "    <tr>\n",
       "      <th>123792</th>\n",
       "      <td>RUS</td>\n",
       "      <td>Europe</td>\n",
       "      <td>Russia</td>\n",
       "      <td>2020-03-09</td>\n",
       "      <td>17.0</td>\n",
       "      <td>1.0</td>\n",
       "      <td>2.000</td>\n",
       "      <td>NaN</td>\n",
       "      <td>NaN</td>\n",
       "      <td>NaN</td>\n",
       "      <td>...</td>\n",
       "      <td>NaN</td>\n",
       "      <td>8.05</td>\n",
       "      <td>72.58</td>\n",
       "      <td>0.824</td>\n",
       "      <td>NaN</td>\n",
       "      <td>NaN</td>\n",
       "      <td>NaN</td>\n",
       "      <td>NaN</td>\n",
       "      <td>2.833213</td>\n",
       "      <td>0.000000</td>\n",
       "    </tr>\n",
       "    <tr>\n",
       "      <th>123793</th>\n",
       "      <td>RUS</td>\n",
       "      <td>Europe</td>\n",
       "      <td>Russia</td>\n",
       "      <td>2020-03-10</td>\n",
       "      <td>20.0</td>\n",
       "      <td>3.0</td>\n",
       "      <td>2.429</td>\n",
       "      <td>NaN</td>\n",
       "      <td>NaN</td>\n",
       "      <td>NaN</td>\n",
       "      <td>...</td>\n",
       "      <td>NaN</td>\n",
       "      <td>8.05</td>\n",
       "      <td>72.58</td>\n",
       "      <td>0.824</td>\n",
       "      <td>NaN</td>\n",
       "      <td>NaN</td>\n",
       "      <td>NaN</td>\n",
       "      <td>NaN</td>\n",
       "      <td>2.995732</td>\n",
       "      <td>1.098612</td>\n",
       "    </tr>\n",
       "    <tr>\n",
       "      <th>123794</th>\n",
       "      <td>RUS</td>\n",
       "      <td>Europe</td>\n",
       "      <td>Russia</td>\n",
       "      <td>2020-03-11</td>\n",
       "      <td>20.0</td>\n",
       "      <td>1.0</td>\n",
       "      <td>2.429</td>\n",
       "      <td>NaN</td>\n",
       "      <td>NaN</td>\n",
       "      <td>NaN</td>\n",
       "      <td>...</td>\n",
       "      <td>NaN</td>\n",
       "      <td>8.05</td>\n",
       "      <td>72.58</td>\n",
       "      <td>0.824</td>\n",
       "      <td>NaN</td>\n",
       "      <td>NaN</td>\n",
       "      <td>NaN</td>\n",
       "      <td>NaN</td>\n",
       "      <td>2.995732</td>\n",
       "      <td>0.000000</td>\n",
       "    </tr>\n",
       "    <tr>\n",
       "      <th>123795</th>\n",
       "      <td>RUS</td>\n",
       "      <td>Europe</td>\n",
       "      <td>Russia</td>\n",
       "      <td>2020-03-12</td>\n",
       "      <td>28.0</td>\n",
       "      <td>8.0</td>\n",
       "      <td>3.429</td>\n",
       "      <td>NaN</td>\n",
       "      <td>NaN</td>\n",
       "      <td>NaN</td>\n",
       "      <td>...</td>\n",
       "      <td>NaN</td>\n",
       "      <td>8.05</td>\n",
       "      <td>72.58</td>\n",
       "      <td>0.824</td>\n",
       "      <td>NaN</td>\n",
       "      <td>NaN</td>\n",
       "      <td>NaN</td>\n",
       "      <td>NaN</td>\n",
       "      <td>3.332205</td>\n",
       "      <td>2.079442</td>\n",
       "    </tr>\n",
       "    <tr>\n",
       "      <th>123796</th>\n",
       "      <td>RUS</td>\n",
       "      <td>Europe</td>\n",
       "      <td>Russia</td>\n",
       "      <td>2020-03-13</td>\n",
       "      <td>45.0</td>\n",
       "      <td>17.0</td>\n",
       "      <td>4.571</td>\n",
       "      <td>NaN</td>\n",
       "      <td>NaN</td>\n",
       "      <td>NaN</td>\n",
       "      <td>...</td>\n",
       "      <td>NaN</td>\n",
       "      <td>8.05</td>\n",
       "      <td>72.58</td>\n",
       "      <td>0.824</td>\n",
       "      <td>NaN</td>\n",
       "      <td>NaN</td>\n",
       "      <td>NaN</td>\n",
       "      <td>NaN</td>\n",
       "      <td>3.806662</td>\n",
       "      <td>2.833213</td>\n",
       "    </tr>\n",
       "    <tr>\n",
       "      <th>123797</th>\n",
       "      <td>RUS</td>\n",
       "      <td>Europe</td>\n",
       "      <td>Russia</td>\n",
       "      <td>2020-03-14</td>\n",
       "      <td>59.0</td>\n",
       "      <td>14.0</td>\n",
       "      <td>6.571</td>\n",
       "      <td>NaN</td>\n",
       "      <td>NaN</td>\n",
       "      <td>NaN</td>\n",
       "      <td>...</td>\n",
       "      <td>NaN</td>\n",
       "      <td>8.05</td>\n",
       "      <td>72.58</td>\n",
       "      <td>0.824</td>\n",
       "      <td>NaN</td>\n",
       "      <td>NaN</td>\n",
       "      <td>NaN</td>\n",
       "      <td>NaN</td>\n",
       "      <td>4.077537</td>\n",
       "      <td>2.639057</td>\n",
       "    </tr>\n",
       "    <tr>\n",
       "      <th>123798</th>\n",
       "      <td>RUS</td>\n",
       "      <td>Europe</td>\n",
       "      <td>Russia</td>\n",
       "      <td>2020-03-15</td>\n",
       "      <td>63.0</td>\n",
       "      <td>4.0</td>\n",
       "      <td>6.571</td>\n",
       "      <td>NaN</td>\n",
       "      <td>NaN</td>\n",
       "      <td>NaN</td>\n",
       "      <td>...</td>\n",
       "      <td>NaN</td>\n",
       "      <td>8.05</td>\n",
       "      <td>72.58</td>\n",
       "      <td>0.824</td>\n",
       "      <td>NaN</td>\n",
       "      <td>NaN</td>\n",
       "      <td>NaN</td>\n",
       "      <td>NaN</td>\n",
       "      <td>4.143135</td>\n",
       "      <td>1.386294</td>\n",
       "    </tr>\n",
       "    <tr>\n",
       "      <th>123799</th>\n",
       "      <td>RUS</td>\n",
       "      <td>Europe</td>\n",
       "      <td>Russia</td>\n",
       "      <td>2020-03-16</td>\n",
       "      <td>90.0</td>\n",
       "      <td>27.0</td>\n",
       "      <td>10.429</td>\n",
       "      <td>NaN</td>\n",
       "      <td>NaN</td>\n",
       "      <td>NaN</td>\n",
       "      <td>...</td>\n",
       "      <td>NaN</td>\n",
       "      <td>8.05</td>\n",
       "      <td>72.58</td>\n",
       "      <td>0.824</td>\n",
       "      <td>NaN</td>\n",
       "      <td>NaN</td>\n",
       "      <td>NaN</td>\n",
       "      <td>NaN</td>\n",
       "      <td>4.499810</td>\n",
       "      <td>3.295837</td>\n",
       "    </tr>\n",
       "    <tr>\n",
       "      <th>123800</th>\n",
       "      <td>RUS</td>\n",
       "      <td>Europe</td>\n",
       "      <td>Russia</td>\n",
       "      <td>2020-03-17</td>\n",
       "      <td>114.0</td>\n",
       "      <td>24.0</td>\n",
       "      <td>13.429</td>\n",
       "      <td>NaN</td>\n",
       "      <td>NaN</td>\n",
       "      <td>NaN</td>\n",
       "      <td>...</td>\n",
       "      <td>NaN</td>\n",
       "      <td>8.05</td>\n",
       "      <td>72.58</td>\n",
       "      <td>0.824</td>\n",
       "      <td>NaN</td>\n",
       "      <td>NaN</td>\n",
       "      <td>NaN</td>\n",
       "      <td>NaN</td>\n",
       "      <td>4.736198</td>\n",
       "      <td>3.178054</td>\n",
       "    </tr>\n",
       "    <tr>\n",
       "      <th>123801</th>\n",
       "      <td>RUS</td>\n",
       "      <td>Europe</td>\n",
       "      <td>Russia</td>\n",
       "      <td>2020-03-18</td>\n",
       "      <td>147.0</td>\n",
       "      <td>33.0</td>\n",
       "      <td>18.143</td>\n",
       "      <td>NaN</td>\n",
       "      <td>NaN</td>\n",
       "      <td>NaN</td>\n",
       "      <td>...</td>\n",
       "      <td>NaN</td>\n",
       "      <td>8.05</td>\n",
       "      <td>72.58</td>\n",
       "      <td>0.824</td>\n",
       "      <td>NaN</td>\n",
       "      <td>NaN</td>\n",
       "      <td>NaN</td>\n",
       "      <td>NaN</td>\n",
       "      <td>4.990433</td>\n",
       "      <td>3.496508</td>\n",
       "    </tr>\n",
       "    <tr>\n",
       "      <th>123802</th>\n",
       "      <td>RUS</td>\n",
       "      <td>Europe</td>\n",
       "      <td>Russia</td>\n",
       "      <td>2020-03-19</td>\n",
       "      <td>199.0</td>\n",
       "      <td>52.0</td>\n",
       "      <td>24.429</td>\n",
       "      <td>1.0</td>\n",
       "      <td>1.0</td>\n",
       "      <td>NaN</td>\n",
       "      <td>...</td>\n",
       "      <td>NaN</td>\n",
       "      <td>8.05</td>\n",
       "      <td>72.58</td>\n",
       "      <td>0.824</td>\n",
       "      <td>NaN</td>\n",
       "      <td>NaN</td>\n",
       "      <td>NaN</td>\n",
       "      <td>NaN</td>\n",
       "      <td>5.293305</td>\n",
       "      <td>3.951244</td>\n",
       "    </tr>\n",
       "    <tr>\n",
       "      <th>123803</th>\n",
       "      <td>RUS</td>\n",
       "      <td>Europe</td>\n",
       "      <td>Russia</td>\n",
       "      <td>2020-03-20</td>\n",
       "      <td>253.0</td>\n",
       "      <td>54.0</td>\n",
       "      <td>29.714</td>\n",
       "      <td>1.0</td>\n",
       "      <td>0.0</td>\n",
       "      <td>NaN</td>\n",
       "      <td>...</td>\n",
       "      <td>NaN</td>\n",
       "      <td>8.05</td>\n",
       "      <td>72.58</td>\n",
       "      <td>0.824</td>\n",
       "      <td>NaN</td>\n",
       "      <td>NaN</td>\n",
       "      <td>NaN</td>\n",
       "      <td>NaN</td>\n",
       "      <td>5.533389</td>\n",
       "      <td>3.988984</td>\n",
       "    </tr>\n",
       "    <tr>\n",
       "      <th>123804</th>\n",
       "      <td>RUS</td>\n",
       "      <td>Europe</td>\n",
       "      <td>Russia</td>\n",
       "      <td>2020-03-21</td>\n",
       "      <td>306.0</td>\n",
       "      <td>53.0</td>\n",
       "      <td>35.286</td>\n",
       "      <td>1.0</td>\n",
       "      <td>0.0</td>\n",
       "      <td>NaN</td>\n",
       "      <td>...</td>\n",
       "      <td>NaN</td>\n",
       "      <td>8.05</td>\n",
       "      <td>72.58</td>\n",
       "      <td>0.824</td>\n",
       "      <td>NaN</td>\n",
       "      <td>NaN</td>\n",
       "      <td>NaN</td>\n",
       "      <td>NaN</td>\n",
       "      <td>5.723585</td>\n",
       "      <td>3.970292</td>\n",
       "    </tr>\n",
       "    <tr>\n",
       "      <th>123805</th>\n",
       "      <td>RUS</td>\n",
       "      <td>Europe</td>\n",
       "      <td>Russia</td>\n",
       "      <td>2020-03-22</td>\n",
       "      <td>367.0</td>\n",
       "      <td>61.0</td>\n",
       "      <td>43.429</td>\n",
       "      <td>1.0</td>\n",
       "      <td>0.0</td>\n",
       "      <td>NaN</td>\n",
       "      <td>...</td>\n",
       "      <td>NaN</td>\n",
       "      <td>8.05</td>\n",
       "      <td>72.58</td>\n",
       "      <td>0.824</td>\n",
       "      <td>NaN</td>\n",
       "      <td>NaN</td>\n",
       "      <td>NaN</td>\n",
       "      <td>NaN</td>\n",
       "      <td>5.905362</td>\n",
       "      <td>4.110874</td>\n",
       "    </tr>\n",
       "    <tr>\n",
       "      <th>123806</th>\n",
       "      <td>RUS</td>\n",
       "      <td>Europe</td>\n",
       "      <td>Russia</td>\n",
       "      <td>2020-03-23</td>\n",
       "      <td>438.0</td>\n",
       "      <td>71.0</td>\n",
       "      <td>49.714</td>\n",
       "      <td>1.0</td>\n",
       "      <td>0.0</td>\n",
       "      <td>NaN</td>\n",
       "      <td>...</td>\n",
       "      <td>NaN</td>\n",
       "      <td>8.05</td>\n",
       "      <td>72.58</td>\n",
       "      <td>0.824</td>\n",
       "      <td>NaN</td>\n",
       "      <td>NaN</td>\n",
       "      <td>NaN</td>\n",
       "      <td>NaN</td>\n",
       "      <td>6.082219</td>\n",
       "      <td>4.262680</td>\n",
       "    </tr>\n",
       "    <tr>\n",
       "      <th>123807</th>\n",
       "      <td>RUS</td>\n",
       "      <td>Europe</td>\n",
       "      <td>Russia</td>\n",
       "      <td>2020-03-24</td>\n",
       "      <td>495.0</td>\n",
       "      <td>57.0</td>\n",
       "      <td>54.429</td>\n",
       "      <td>1.0</td>\n",
       "      <td>0.0</td>\n",
       "      <td>NaN</td>\n",
       "      <td>...</td>\n",
       "      <td>NaN</td>\n",
       "      <td>8.05</td>\n",
       "      <td>72.58</td>\n",
       "      <td>0.824</td>\n",
       "      <td>NaN</td>\n",
       "      <td>NaN</td>\n",
       "      <td>NaN</td>\n",
       "      <td>NaN</td>\n",
       "      <td>6.204558</td>\n",
       "      <td>4.043051</td>\n",
       "    </tr>\n",
       "    <tr>\n",
       "      <th>123808</th>\n",
       "      <td>RUS</td>\n",
       "      <td>Europe</td>\n",
       "      <td>Russia</td>\n",
       "      <td>2020-03-25</td>\n",
       "      <td>658.0</td>\n",
       "      <td>163.0</td>\n",
       "      <td>73.000</td>\n",
       "      <td>3.0</td>\n",
       "      <td>2.0</td>\n",
       "      <td>0.429</td>\n",
       "      <td>...</td>\n",
       "      <td>NaN</td>\n",
       "      <td>8.05</td>\n",
       "      <td>72.58</td>\n",
       "      <td>0.824</td>\n",
       "      <td>NaN</td>\n",
       "      <td>NaN</td>\n",
       "      <td>NaN</td>\n",
       "      <td>NaN</td>\n",
       "      <td>6.489205</td>\n",
       "      <td>5.093750</td>\n",
       "    </tr>\n",
       "    <tr>\n",
       "      <th>123809</th>\n",
       "      <td>RUS</td>\n",
       "      <td>Europe</td>\n",
       "      <td>Russia</td>\n",
       "      <td>2020-03-26</td>\n",
       "      <td>840.0</td>\n",
       "      <td>182.0</td>\n",
       "      <td>91.571</td>\n",
       "      <td>3.0</td>\n",
       "      <td>0.0</td>\n",
       "      <td>0.286</td>\n",
       "      <td>...</td>\n",
       "      <td>NaN</td>\n",
       "      <td>8.05</td>\n",
       "      <td>72.58</td>\n",
       "      <td>0.824</td>\n",
       "      <td>NaN</td>\n",
       "      <td>NaN</td>\n",
       "      <td>NaN</td>\n",
       "      <td>NaN</td>\n",
       "      <td>6.733402</td>\n",
       "      <td>5.204007</td>\n",
       "    </tr>\n",
       "    <tr>\n",
       "      <th>123810</th>\n",
       "      <td>RUS</td>\n",
       "      <td>Europe</td>\n",
       "      <td>Russia</td>\n",
       "      <td>2020-03-27</td>\n",
       "      <td>1036.0</td>\n",
       "      <td>196.0</td>\n",
       "      <td>111.857</td>\n",
       "      <td>4.0</td>\n",
       "      <td>1.0</td>\n",
       "      <td>0.429</td>\n",
       "      <td>...</td>\n",
       "      <td>NaN</td>\n",
       "      <td>8.05</td>\n",
       "      <td>72.58</td>\n",
       "      <td>0.824</td>\n",
       "      <td>NaN</td>\n",
       "      <td>NaN</td>\n",
       "      <td>NaN</td>\n",
       "      <td>NaN</td>\n",
       "      <td>6.943122</td>\n",
       "      <td>5.278115</td>\n",
       "    </tr>\n",
       "    <tr>\n",
       "      <th>123811</th>\n",
       "      <td>RUS</td>\n",
       "      <td>Europe</td>\n",
       "      <td>Russia</td>\n",
       "      <td>2020-03-28</td>\n",
       "      <td>1264.0</td>\n",
       "      <td>228.0</td>\n",
       "      <td>136.857</td>\n",
       "      <td>4.0</td>\n",
       "      <td>0.0</td>\n",
       "      <td>0.429</td>\n",
       "      <td>...</td>\n",
       "      <td>NaN</td>\n",
       "      <td>8.05</td>\n",
       "      <td>72.58</td>\n",
       "      <td>0.824</td>\n",
       "      <td>NaN</td>\n",
       "      <td>NaN</td>\n",
       "      <td>NaN</td>\n",
       "      <td>NaN</td>\n",
       "      <td>7.142037</td>\n",
       "      <td>5.429346</td>\n",
       "    </tr>\n",
       "    <tr>\n",
       "      <th>123812</th>\n",
       "      <td>RUS</td>\n",
       "      <td>Europe</td>\n",
       "      <td>Russia</td>\n",
       "      <td>2020-03-29</td>\n",
       "      <td>1534.0</td>\n",
       "      <td>270.0</td>\n",
       "      <td>166.714</td>\n",
       "      <td>8.0</td>\n",
       "      <td>4.0</td>\n",
       "      <td>1.000</td>\n",
       "      <td>...</td>\n",
       "      <td>NaN</td>\n",
       "      <td>8.05</td>\n",
       "      <td>72.58</td>\n",
       "      <td>0.824</td>\n",
       "      <td>NaN</td>\n",
       "      <td>NaN</td>\n",
       "      <td>NaN</td>\n",
       "      <td>NaN</td>\n",
       "      <td>7.335634</td>\n",
       "      <td>5.598422</td>\n",
       "    </tr>\n",
       "    <tr>\n",
       "      <th>123813</th>\n",
       "      <td>RUS</td>\n",
       "      <td>Europe</td>\n",
       "      <td>Russia</td>\n",
       "      <td>2020-03-30</td>\n",
       "      <td>1836.0</td>\n",
       "      <td>302.0</td>\n",
       "      <td>199.714</td>\n",
       "      <td>9.0</td>\n",
       "      <td>1.0</td>\n",
       "      <td>1.143</td>\n",
       "      <td>...</td>\n",
       "      <td>NaN</td>\n",
       "      <td>8.05</td>\n",
       "      <td>72.58</td>\n",
       "      <td>0.824</td>\n",
       "      <td>NaN</td>\n",
       "      <td>NaN</td>\n",
       "      <td>NaN</td>\n",
       "      <td>NaN</td>\n",
       "      <td>7.515345</td>\n",
       "      <td>5.710427</td>\n",
       "    </tr>\n",
       "    <tr>\n",
       "      <th>123814</th>\n",
       "      <td>RUS</td>\n",
       "      <td>Europe</td>\n",
       "      <td>Russia</td>\n",
       "      <td>2020-03-31</td>\n",
       "      <td>2337.0</td>\n",
       "      <td>501.0</td>\n",
       "      <td>263.143</td>\n",
       "      <td>17.0</td>\n",
       "      <td>8.0</td>\n",
       "      <td>2.286</td>\n",
       "      <td>...</td>\n",
       "      <td>NaN</td>\n",
       "      <td>8.05</td>\n",
       "      <td>72.58</td>\n",
       "      <td>0.824</td>\n",
       "      <td>-2714.8</td>\n",
       "      <td>-0.58</td>\n",
       "      <td>-0.59</td>\n",
       "      <td>-18.605732</td>\n",
       "      <td>7.756623</td>\n",
       "      <td>6.216606</td>\n",
       "    </tr>\n",
       "    <tr>\n",
       "      <th>123815</th>\n",
       "      <td>RUS</td>\n",
       "      <td>Europe</td>\n",
       "      <td>Russia</td>\n",
       "      <td>2020-04-01</td>\n",
       "      <td>2777.0</td>\n",
       "      <td>440.0</td>\n",
       "      <td>302.714</td>\n",
       "      <td>24.0</td>\n",
       "      <td>7.0</td>\n",
       "      <td>3.000</td>\n",
       "      <td>...</td>\n",
       "      <td>NaN</td>\n",
       "      <td>8.05</td>\n",
       "      <td>72.58</td>\n",
       "      <td>0.824</td>\n",
       "      <td>NaN</td>\n",
       "      <td>NaN</td>\n",
       "      <td>NaN</td>\n",
       "      <td>NaN</td>\n",
       "      <td>7.929126</td>\n",
       "      <td>6.086775</td>\n",
       "    </tr>\n",
       "    <tr>\n",
       "      <th>123816</th>\n",
       "      <td>RUS</td>\n",
       "      <td>Europe</td>\n",
       "      <td>Russia</td>\n",
       "      <td>2020-04-02</td>\n",
       "      <td>3548.0</td>\n",
       "      <td>771.0</td>\n",
       "      <td>386.857</td>\n",
       "      <td>30.0</td>\n",
       "      <td>6.0</td>\n",
       "      <td>3.857</td>\n",
       "      <td>...</td>\n",
       "      <td>NaN</td>\n",
       "      <td>8.05</td>\n",
       "      <td>72.58</td>\n",
       "      <td>0.824</td>\n",
       "      <td>NaN</td>\n",
       "      <td>NaN</td>\n",
       "      <td>NaN</td>\n",
       "      <td>NaN</td>\n",
       "      <td>8.174139</td>\n",
       "      <td>6.647688</td>\n",
       "    </tr>\n",
       "    <tr>\n",
       "      <th>123817</th>\n",
       "      <td>RUS</td>\n",
       "      <td>Europe</td>\n",
       "      <td>Russia</td>\n",
       "      <td>2020-04-03</td>\n",
       "      <td>4149.0</td>\n",
       "      <td>601.0</td>\n",
       "      <td>444.714</td>\n",
       "      <td>34.0</td>\n",
       "      <td>4.0</td>\n",
       "      <td>4.286</td>\n",
       "      <td>...</td>\n",
       "      <td>NaN</td>\n",
       "      <td>8.05</td>\n",
       "      <td>72.58</td>\n",
       "      <td>0.824</td>\n",
       "      <td>NaN</td>\n",
       "      <td>NaN</td>\n",
       "      <td>NaN</td>\n",
       "      <td>NaN</td>\n",
       "      <td>8.330623</td>\n",
       "      <td>6.398595</td>\n",
       "    </tr>\n",
       "    <tr>\n",
       "      <th>123818</th>\n",
       "      <td>RUS</td>\n",
       "      <td>Europe</td>\n",
       "      <td>Russia</td>\n",
       "      <td>2020-04-04</td>\n",
       "      <td>4731.0</td>\n",
       "      <td>582.0</td>\n",
       "      <td>495.286</td>\n",
       "      <td>43.0</td>\n",
       "      <td>9.0</td>\n",
       "      <td>5.571</td>\n",
       "      <td>...</td>\n",
       "      <td>NaN</td>\n",
       "      <td>8.05</td>\n",
       "      <td>72.58</td>\n",
       "      <td>0.824</td>\n",
       "      <td>NaN</td>\n",
       "      <td>NaN</td>\n",
       "      <td>NaN</td>\n",
       "      <td>NaN</td>\n",
       "      <td>8.461892</td>\n",
       "      <td>6.366470</td>\n",
       "    </tr>\n",
       "    <tr>\n",
       "      <th>123819</th>\n",
       "      <td>RUS</td>\n",
       "      <td>Europe</td>\n",
       "      <td>Russia</td>\n",
       "      <td>2020-04-05</td>\n",
       "      <td>5389.0</td>\n",
       "      <td>658.0</td>\n",
       "      <td>550.714</td>\n",
       "      <td>45.0</td>\n",
       "      <td>2.0</td>\n",
       "      <td>5.286</td>\n",
       "      <td>...</td>\n",
       "      <td>NaN</td>\n",
       "      <td>8.05</td>\n",
       "      <td>72.58</td>\n",
       "      <td>0.824</td>\n",
       "      <td>NaN</td>\n",
       "      <td>NaN</td>\n",
       "      <td>NaN</td>\n",
       "      <td>NaN</td>\n",
       "      <td>8.592115</td>\n",
       "      <td>6.489205</td>\n",
       "    </tr>\n",
       "    <tr>\n",
       "      <th>123820</th>\n",
       "      <td>RUS</td>\n",
       "      <td>Europe</td>\n",
       "      <td>Russia</td>\n",
       "      <td>2020-04-06</td>\n",
       "      <td>6343.0</td>\n",
       "      <td>954.0</td>\n",
       "      <td>643.857</td>\n",
       "      <td>47.0</td>\n",
       "      <td>2.0</td>\n",
       "      <td>5.429</td>\n",
       "      <td>...</td>\n",
       "      <td>NaN</td>\n",
       "      <td>8.05</td>\n",
       "      <td>72.58</td>\n",
       "      <td>0.824</td>\n",
       "      <td>NaN</td>\n",
       "      <td>NaN</td>\n",
       "      <td>NaN</td>\n",
       "      <td>NaN</td>\n",
       "      <td>8.755107</td>\n",
       "      <td>6.860664</td>\n",
       "    </tr>\n",
       "    <tr>\n",
       "      <th>123821</th>\n",
       "      <td>RUS</td>\n",
       "      <td>Europe</td>\n",
       "      <td>Russia</td>\n",
       "      <td>2020-04-07</td>\n",
       "      <td>7497.0</td>\n",
       "      <td>1154.0</td>\n",
       "      <td>737.143</td>\n",
       "      <td>58.0</td>\n",
       "      <td>11.0</td>\n",
       "      <td>5.857</td>\n",
       "      <td>...</td>\n",
       "      <td>NaN</td>\n",
       "      <td>8.05</td>\n",
       "      <td>72.58</td>\n",
       "      <td>0.824</td>\n",
       "      <td>NaN</td>\n",
       "      <td>NaN</td>\n",
       "      <td>NaN</td>\n",
       "      <td>NaN</td>\n",
       "      <td>8.922258</td>\n",
       "      <td>7.050989</td>\n",
       "    </tr>\n",
       "    <tr>\n",
       "      <th>123822</th>\n",
       "      <td>RUS</td>\n",
       "      <td>Europe</td>\n",
       "      <td>Russia</td>\n",
       "      <td>2020-04-08</td>\n",
       "      <td>8672.0</td>\n",
       "      <td>1175.0</td>\n",
       "      <td>842.143</td>\n",
       "      <td>63.0</td>\n",
       "      <td>5.0</td>\n",
       "      <td>5.571</td>\n",
       "      <td>...</td>\n",
       "      <td>NaN</td>\n",
       "      <td>8.05</td>\n",
       "      <td>72.58</td>\n",
       "      <td>0.824</td>\n",
       "      <td>NaN</td>\n",
       "      <td>NaN</td>\n",
       "      <td>NaN</td>\n",
       "      <td>NaN</td>\n",
       "      <td>9.067855</td>\n",
       "      <td>7.069023</td>\n",
       "    </tr>\n",
       "    <tr>\n",
       "      <th>123823</th>\n",
       "      <td>RUS</td>\n",
       "      <td>Europe</td>\n",
       "      <td>Russia</td>\n",
       "      <td>2020-04-09</td>\n",
       "      <td>10131.0</td>\n",
       "      <td>1459.0</td>\n",
       "      <td>940.429</td>\n",
       "      <td>76.0</td>\n",
       "      <td>13.0</td>\n",
       "      <td>6.571</td>\n",
       "      <td>...</td>\n",
       "      <td>NaN</td>\n",
       "      <td>8.05</td>\n",
       "      <td>72.58</td>\n",
       "      <td>0.824</td>\n",
       "      <td>NaN</td>\n",
       "      <td>NaN</td>\n",
       "      <td>NaN</td>\n",
       "      <td>NaN</td>\n",
       "      <td>9.223355</td>\n",
       "      <td>7.285507</td>\n",
       "    </tr>\n",
       "    <tr>\n",
       "      <th>123824</th>\n",
       "      <td>RUS</td>\n",
       "      <td>Europe</td>\n",
       "      <td>Russia</td>\n",
       "      <td>2020-04-10</td>\n",
       "      <td>11917.0</td>\n",
       "      <td>1786.0</td>\n",
       "      <td>1109.714</td>\n",
       "      <td>94.0</td>\n",
       "      <td>18.0</td>\n",
       "      <td>8.571</td>\n",
       "      <td>...</td>\n",
       "      <td>NaN</td>\n",
       "      <td>8.05</td>\n",
       "      <td>72.58</td>\n",
       "      <td>0.824</td>\n",
       "      <td>NaN</td>\n",
       "      <td>NaN</td>\n",
       "      <td>NaN</td>\n",
       "      <td>NaN</td>\n",
       "      <td>9.385721</td>\n",
       "      <td>7.487734</td>\n",
       "    </tr>\n",
       "    <tr>\n",
       "      <th>123825</th>\n",
       "      <td>RUS</td>\n",
       "      <td>Europe</td>\n",
       "      <td>Russia</td>\n",
       "      <td>2020-04-11</td>\n",
       "      <td>13584.0</td>\n",
       "      <td>1667.0</td>\n",
       "      <td>1264.714</td>\n",
       "      <td>106.0</td>\n",
       "      <td>12.0</td>\n",
       "      <td>9.000</td>\n",
       "      <td>...</td>\n",
       "      <td>NaN</td>\n",
       "      <td>8.05</td>\n",
       "      <td>72.58</td>\n",
       "      <td>0.824</td>\n",
       "      <td>NaN</td>\n",
       "      <td>NaN</td>\n",
       "      <td>NaN</td>\n",
       "      <td>NaN</td>\n",
       "      <td>9.516648</td>\n",
       "      <td>7.418781</td>\n",
       "    </tr>\n",
       "    <tr>\n",
       "      <th>123826</th>\n",
       "      <td>RUS</td>\n",
       "      <td>Europe</td>\n",
       "      <td>Russia</td>\n",
       "      <td>2020-04-12</td>\n",
       "      <td>15770.0</td>\n",
       "      <td>2186.0</td>\n",
       "      <td>1483.000</td>\n",
       "      <td>130.0</td>\n",
       "      <td>24.0</td>\n",
       "      <td>12.143</td>\n",
       "      <td>...</td>\n",
       "      <td>NaN</td>\n",
       "      <td>8.05</td>\n",
       "      <td>72.58</td>\n",
       "      <td>0.824</td>\n",
       "      <td>NaN</td>\n",
       "      <td>NaN</td>\n",
       "      <td>NaN</td>\n",
       "      <td>NaN</td>\n",
       "      <td>9.665865</td>\n",
       "      <td>7.689829</td>\n",
       "    </tr>\n",
       "    <tr>\n",
       "      <th>123827</th>\n",
       "      <td>RUS</td>\n",
       "      <td>Europe</td>\n",
       "      <td>Russia</td>\n",
       "      <td>2020-04-13</td>\n",
       "      <td>18328.0</td>\n",
       "      <td>2558.0</td>\n",
       "      <td>1712.143</td>\n",
       "      <td>148.0</td>\n",
       "      <td>18.0</td>\n",
       "      <td>14.429</td>\n",
       "      <td>...</td>\n",
       "      <td>NaN</td>\n",
       "      <td>8.05</td>\n",
       "      <td>72.58</td>\n",
       "      <td>0.824</td>\n",
       "      <td>NaN</td>\n",
       "      <td>NaN</td>\n",
       "      <td>NaN</td>\n",
       "      <td>NaN</td>\n",
       "      <td>9.816185</td>\n",
       "      <td>7.846981</td>\n",
       "    </tr>\n",
       "    <tr>\n",
       "      <th>123828</th>\n",
       "      <td>RUS</td>\n",
       "      <td>Europe</td>\n",
       "      <td>Russia</td>\n",
       "      <td>2020-04-14</td>\n",
       "      <td>21102.0</td>\n",
       "      <td>2774.0</td>\n",
       "      <td>1943.571</td>\n",
       "      <td>170.0</td>\n",
       "      <td>22.0</td>\n",
       "      <td>16.000</td>\n",
       "      <td>...</td>\n",
       "      <td>NaN</td>\n",
       "      <td>8.05</td>\n",
       "      <td>72.58</td>\n",
       "      <td>0.824</td>\n",
       "      <td>NaN</td>\n",
       "      <td>NaN</td>\n",
       "      <td>NaN</td>\n",
       "      <td>NaN</td>\n",
       "      <td>9.957123</td>\n",
       "      <td>7.928046</td>\n",
       "    </tr>\n",
       "    <tr>\n",
       "      <th>123829</th>\n",
       "      <td>RUS</td>\n",
       "      <td>Europe</td>\n",
       "      <td>Russia</td>\n",
       "      <td>2020-04-15</td>\n",
       "      <td>24490.0</td>\n",
       "      <td>3388.0</td>\n",
       "      <td>2259.714</td>\n",
       "      <td>198.0</td>\n",
       "      <td>28.0</td>\n",
       "      <td>19.286</td>\n",
       "      <td>...</td>\n",
       "      <td>NaN</td>\n",
       "      <td>8.05</td>\n",
       "      <td>72.58</td>\n",
       "      <td>0.824</td>\n",
       "      <td>NaN</td>\n",
       "      <td>NaN</td>\n",
       "      <td>NaN</td>\n",
       "      <td>NaN</td>\n",
       "      <td>10.106020</td>\n",
       "      <td>8.127995</td>\n",
       "    </tr>\n",
       "    <tr>\n",
       "      <th>123830</th>\n",
       "      <td>RUS</td>\n",
       "      <td>Europe</td>\n",
       "      <td>Russia</td>\n",
       "      <td>2020-04-16</td>\n",
       "      <td>27938.0</td>\n",
       "      <td>3448.0</td>\n",
       "      <td>2543.857</td>\n",
       "      <td>232.0</td>\n",
       "      <td>34.0</td>\n",
       "      <td>22.286</td>\n",
       "      <td>...</td>\n",
       "      <td>NaN</td>\n",
       "      <td>8.05</td>\n",
       "      <td>72.58</td>\n",
       "      <td>0.824</td>\n",
       "      <td>NaN</td>\n",
       "      <td>NaN</td>\n",
       "      <td>NaN</td>\n",
       "      <td>NaN</td>\n",
       "      <td>10.237743</td>\n",
       "      <td>8.145550</td>\n",
       "    </tr>\n",
       "    <tr>\n",
       "      <th>123831</th>\n",
       "      <td>RUS</td>\n",
       "      <td>Europe</td>\n",
       "      <td>Russia</td>\n",
       "      <td>2020-04-17</td>\n",
       "      <td>32008.0</td>\n",
       "      <td>4070.0</td>\n",
       "      <td>2870.143</td>\n",
       "      <td>273.0</td>\n",
       "      <td>41.0</td>\n",
       "      <td>25.571</td>\n",
       "      <td>...</td>\n",
       "      <td>NaN</td>\n",
       "      <td>8.05</td>\n",
       "      <td>72.58</td>\n",
       "      <td>0.824</td>\n",
       "      <td>NaN</td>\n",
       "      <td>NaN</td>\n",
       "      <td>NaN</td>\n",
       "      <td>NaN</td>\n",
       "      <td>10.373741</td>\n",
       "      <td>8.311398</td>\n",
       "    </tr>\n",
       "    <tr>\n",
       "      <th>123832</th>\n",
       "      <td>RUS</td>\n",
       "      <td>Europe</td>\n",
       "      <td>Russia</td>\n",
       "      <td>2020-04-18</td>\n",
       "      <td>36793.0</td>\n",
       "      <td>4785.0</td>\n",
       "      <td>3315.571</td>\n",
       "      <td>313.0</td>\n",
       "      <td>40.0</td>\n",
       "      <td>29.571</td>\n",
       "      <td>...</td>\n",
       "      <td>NaN</td>\n",
       "      <td>8.05</td>\n",
       "      <td>72.58</td>\n",
       "      <td>0.824</td>\n",
       "      <td>NaN</td>\n",
       "      <td>NaN</td>\n",
       "      <td>NaN</td>\n",
       "      <td>NaN</td>\n",
       "      <td>10.513063</td>\n",
       "      <td>8.473241</td>\n",
       "    </tr>\n",
       "    <tr>\n",
       "      <th>123833</th>\n",
       "      <td>RUS</td>\n",
       "      <td>Europe</td>\n",
       "      <td>Russia</td>\n",
       "      <td>2020-04-19</td>\n",
       "      <td>42853.0</td>\n",
       "      <td>6060.0</td>\n",
       "      <td>3869.000</td>\n",
       "      <td>361.0</td>\n",
       "      <td>48.0</td>\n",
       "      <td>33.000</td>\n",
       "      <td>...</td>\n",
       "      <td>NaN</td>\n",
       "      <td>8.05</td>\n",
       "      <td>72.58</td>\n",
       "      <td>0.824</td>\n",
       "      <td>NaN</td>\n",
       "      <td>NaN</td>\n",
       "      <td>NaN</td>\n",
       "      <td>NaN</td>\n",
       "      <td>10.665531</td>\n",
       "      <td>8.709465</td>\n",
       "    </tr>\n",
       "    <tr>\n",
       "      <th>123834</th>\n",
       "      <td>RUS</td>\n",
       "      <td>Europe</td>\n",
       "      <td>Russia</td>\n",
       "      <td>2020-04-20</td>\n",
       "      <td>47121.0</td>\n",
       "      <td>4268.0</td>\n",
       "      <td>4113.286</td>\n",
       "      <td>405.0</td>\n",
       "      <td>44.0</td>\n",
       "      <td>36.714</td>\n",
       "      <td>...</td>\n",
       "      <td>NaN</td>\n",
       "      <td>8.05</td>\n",
       "      <td>72.58</td>\n",
       "      <td>0.824</td>\n",
       "      <td>NaN</td>\n",
       "      <td>NaN</td>\n",
       "      <td>NaN</td>\n",
       "      <td>NaN</td>\n",
       "      <td>10.760474</td>\n",
       "      <td>8.358901</td>\n",
       "    </tr>\n",
       "    <tr>\n",
       "      <th>123835</th>\n",
       "      <td>RUS</td>\n",
       "      <td>Europe</td>\n",
       "      <td>Russia</td>\n",
       "      <td>2020-04-21</td>\n",
       "      <td>52763.0</td>\n",
       "      <td>5642.0</td>\n",
       "      <td>4523.000</td>\n",
       "      <td>456.0</td>\n",
       "      <td>51.0</td>\n",
       "      <td>40.857</td>\n",
       "      <td>...</td>\n",
       "      <td>NaN</td>\n",
       "      <td>8.05</td>\n",
       "      <td>72.58</td>\n",
       "      <td>0.824</td>\n",
       "      <td>NaN</td>\n",
       "      <td>NaN</td>\n",
       "      <td>NaN</td>\n",
       "      <td>NaN</td>\n",
       "      <td>10.873565</td>\n",
       "      <td>8.637994</td>\n",
       "    </tr>\n",
       "  </tbody>\n",
       "</table>\n",
       "<p>50 rows × 69 columns</p>\n",
       "</div>"
      ],
      "text/plain": [
       "       iso_code continent location       date  total_cases  new_cases  \\\n",
       "123786      RUS    Europe   Russia 2020-03-03          3.0        1.0   \n",
       "123787      RUS    Europe   Russia 2020-03-04          3.0        1.0   \n",
       "123788      RUS    Europe   Russia 2020-03-05          4.0        1.0   \n",
       "123789      RUS    Europe   Russia 2020-03-06         13.0        9.0   \n",
       "123790      RUS    Europe   Russia 2020-03-07         13.0        1.0   \n",
       "123791      RUS    Europe   Russia 2020-03-08         17.0        4.0   \n",
       "123792      RUS    Europe   Russia 2020-03-09         17.0        1.0   \n",
       "123793      RUS    Europe   Russia 2020-03-10         20.0        3.0   \n",
       "123794      RUS    Europe   Russia 2020-03-11         20.0        1.0   \n",
       "123795      RUS    Europe   Russia 2020-03-12         28.0        8.0   \n",
       "123796      RUS    Europe   Russia 2020-03-13         45.0       17.0   \n",
       "123797      RUS    Europe   Russia 2020-03-14         59.0       14.0   \n",
       "123798      RUS    Europe   Russia 2020-03-15         63.0        4.0   \n",
       "123799      RUS    Europe   Russia 2020-03-16         90.0       27.0   \n",
       "123800      RUS    Europe   Russia 2020-03-17        114.0       24.0   \n",
       "123801      RUS    Europe   Russia 2020-03-18        147.0       33.0   \n",
       "123802      RUS    Europe   Russia 2020-03-19        199.0       52.0   \n",
       "123803      RUS    Europe   Russia 2020-03-20        253.0       54.0   \n",
       "123804      RUS    Europe   Russia 2020-03-21        306.0       53.0   \n",
       "123805      RUS    Europe   Russia 2020-03-22        367.0       61.0   \n",
       "123806      RUS    Europe   Russia 2020-03-23        438.0       71.0   \n",
       "123807      RUS    Europe   Russia 2020-03-24        495.0       57.0   \n",
       "123808      RUS    Europe   Russia 2020-03-25        658.0      163.0   \n",
       "123809      RUS    Europe   Russia 2020-03-26        840.0      182.0   \n",
       "123810      RUS    Europe   Russia 2020-03-27       1036.0      196.0   \n",
       "123811      RUS    Europe   Russia 2020-03-28       1264.0      228.0   \n",
       "123812      RUS    Europe   Russia 2020-03-29       1534.0      270.0   \n",
       "123813      RUS    Europe   Russia 2020-03-30       1836.0      302.0   \n",
       "123814      RUS    Europe   Russia 2020-03-31       2337.0      501.0   \n",
       "123815      RUS    Europe   Russia 2020-04-01       2777.0      440.0   \n",
       "123816      RUS    Europe   Russia 2020-04-02       3548.0      771.0   \n",
       "123817      RUS    Europe   Russia 2020-04-03       4149.0      601.0   \n",
       "123818      RUS    Europe   Russia 2020-04-04       4731.0      582.0   \n",
       "123819      RUS    Europe   Russia 2020-04-05       5389.0      658.0   \n",
       "123820      RUS    Europe   Russia 2020-04-06       6343.0      954.0   \n",
       "123821      RUS    Europe   Russia 2020-04-07       7497.0     1154.0   \n",
       "123822      RUS    Europe   Russia 2020-04-08       8672.0     1175.0   \n",
       "123823      RUS    Europe   Russia 2020-04-09      10131.0     1459.0   \n",
       "123824      RUS    Europe   Russia 2020-04-10      11917.0     1786.0   \n",
       "123825      RUS    Europe   Russia 2020-04-11      13584.0     1667.0   \n",
       "123826      RUS    Europe   Russia 2020-04-12      15770.0     2186.0   \n",
       "123827      RUS    Europe   Russia 2020-04-13      18328.0     2558.0   \n",
       "123828      RUS    Europe   Russia 2020-04-14      21102.0     2774.0   \n",
       "123829      RUS    Europe   Russia 2020-04-15      24490.0     3388.0   \n",
       "123830      RUS    Europe   Russia 2020-04-16      27938.0     3448.0   \n",
       "123831      RUS    Europe   Russia 2020-04-17      32008.0     4070.0   \n",
       "123832      RUS    Europe   Russia 2020-04-18      36793.0     4785.0   \n",
       "123833      RUS    Europe   Russia 2020-04-19      42853.0     6060.0   \n",
       "123834      RUS    Europe   Russia 2020-04-20      47121.0     4268.0   \n",
       "123835      RUS    Europe   Russia 2020-04-21      52763.0     5642.0   \n",
       "\n",
       "        new_cases_smoothed  total_deaths  new_deaths  new_deaths_smoothed  \\\n",
       "123786               0.143           NaN         NaN                  NaN   \n",
       "123787               0.143           NaN         NaN                  NaN   \n",
       "123788               0.286           NaN         NaN                  NaN   \n",
       "123789               1.571           NaN         NaN                  NaN   \n",
       "123790               1.571           NaN         NaN                  NaN   \n",
       "123791               2.143           NaN         NaN                  NaN   \n",
       "123792               2.000           NaN         NaN                  NaN   \n",
       "123793               2.429           NaN         NaN                  NaN   \n",
       "123794               2.429           NaN         NaN                  NaN   \n",
       "123795               3.429           NaN         NaN                  NaN   \n",
       "123796               4.571           NaN         NaN                  NaN   \n",
       "123797               6.571           NaN         NaN                  NaN   \n",
       "123798               6.571           NaN         NaN                  NaN   \n",
       "123799              10.429           NaN         NaN                  NaN   \n",
       "123800              13.429           NaN         NaN                  NaN   \n",
       "123801              18.143           NaN         NaN                  NaN   \n",
       "123802              24.429           1.0         1.0                  NaN   \n",
       "123803              29.714           1.0         0.0                  NaN   \n",
       "123804              35.286           1.0         0.0                  NaN   \n",
       "123805              43.429           1.0         0.0                  NaN   \n",
       "123806              49.714           1.0         0.0                  NaN   \n",
       "123807              54.429           1.0         0.0                  NaN   \n",
       "123808              73.000           3.0         2.0                0.429   \n",
       "123809              91.571           3.0         0.0                0.286   \n",
       "123810             111.857           4.0         1.0                0.429   \n",
       "123811             136.857           4.0         0.0                0.429   \n",
       "123812             166.714           8.0         4.0                1.000   \n",
       "123813             199.714           9.0         1.0                1.143   \n",
       "123814             263.143          17.0         8.0                2.286   \n",
       "123815             302.714          24.0         7.0                3.000   \n",
       "123816             386.857          30.0         6.0                3.857   \n",
       "123817             444.714          34.0         4.0                4.286   \n",
       "123818             495.286          43.0         9.0                5.571   \n",
       "123819             550.714          45.0         2.0                5.286   \n",
       "123820             643.857          47.0         2.0                5.429   \n",
       "123821             737.143          58.0        11.0                5.857   \n",
       "123822             842.143          63.0         5.0                5.571   \n",
       "123823             940.429          76.0        13.0                6.571   \n",
       "123824            1109.714          94.0        18.0                8.571   \n",
       "123825            1264.714         106.0        12.0                9.000   \n",
       "123826            1483.000         130.0        24.0               12.143   \n",
       "123827            1712.143         148.0        18.0               14.429   \n",
       "123828            1943.571         170.0        22.0               16.000   \n",
       "123829            2259.714         198.0        28.0               19.286   \n",
       "123830            2543.857         232.0        34.0               22.286   \n",
       "123831            2870.143         273.0        41.0               25.571   \n",
       "123832            3315.571         313.0        40.0               29.571   \n",
       "123833            3869.000         361.0        48.0               33.000   \n",
       "123834            4113.286         405.0        44.0               36.714   \n",
       "123835            4523.000         456.0        51.0               40.857   \n",
       "\n",
       "        ...  handwashing_facilities  hospital_beds_per_thousand  \\\n",
       "123786  ...                     NaN                        8.05   \n",
       "123787  ...                     NaN                        8.05   \n",
       "123788  ...                     NaN                        8.05   \n",
       "123789  ...                     NaN                        8.05   \n",
       "123790  ...                     NaN                        8.05   \n",
       "123791  ...                     NaN                        8.05   \n",
       "123792  ...                     NaN                        8.05   \n",
       "123793  ...                     NaN                        8.05   \n",
       "123794  ...                     NaN                        8.05   \n",
       "123795  ...                     NaN                        8.05   \n",
       "123796  ...                     NaN                        8.05   \n",
       "123797  ...                     NaN                        8.05   \n",
       "123798  ...                     NaN                        8.05   \n",
       "123799  ...                     NaN                        8.05   \n",
       "123800  ...                     NaN                        8.05   \n",
       "123801  ...                     NaN                        8.05   \n",
       "123802  ...                     NaN                        8.05   \n",
       "123803  ...                     NaN                        8.05   \n",
       "123804  ...                     NaN                        8.05   \n",
       "123805  ...                     NaN                        8.05   \n",
       "123806  ...                     NaN                        8.05   \n",
       "123807  ...                     NaN                        8.05   \n",
       "123808  ...                     NaN                        8.05   \n",
       "123809  ...                     NaN                        8.05   \n",
       "123810  ...                     NaN                        8.05   \n",
       "123811  ...                     NaN                        8.05   \n",
       "123812  ...                     NaN                        8.05   \n",
       "123813  ...                     NaN                        8.05   \n",
       "123814  ...                     NaN                        8.05   \n",
       "123815  ...                     NaN                        8.05   \n",
       "123816  ...                     NaN                        8.05   \n",
       "123817  ...                     NaN                        8.05   \n",
       "123818  ...                     NaN                        8.05   \n",
       "123819  ...                     NaN                        8.05   \n",
       "123820  ...                     NaN                        8.05   \n",
       "123821  ...                     NaN                        8.05   \n",
       "123822  ...                     NaN                        8.05   \n",
       "123823  ...                     NaN                        8.05   \n",
       "123824  ...                     NaN                        8.05   \n",
       "123825  ...                     NaN                        8.05   \n",
       "123826  ...                     NaN                        8.05   \n",
       "123827  ...                     NaN                        8.05   \n",
       "123828  ...                     NaN                        8.05   \n",
       "123829  ...                     NaN                        8.05   \n",
       "123830  ...                     NaN                        8.05   \n",
       "123831  ...                     NaN                        8.05   \n",
       "123832  ...                     NaN                        8.05   \n",
       "123833  ...                     NaN                        8.05   \n",
       "123834  ...                     NaN                        8.05   \n",
       "123835  ...                     NaN                        8.05   \n",
       "\n",
       "        life_expectancy  human_development_index  \\\n",
       "123786            72.58                    0.824   \n",
       "123787            72.58                    0.824   \n",
       "123788            72.58                    0.824   \n",
       "123789            72.58                    0.824   \n",
       "123790            72.58                    0.824   \n",
       "123791            72.58                    0.824   \n",
       "123792            72.58                    0.824   \n",
       "123793            72.58                    0.824   \n",
       "123794            72.58                    0.824   \n",
       "123795            72.58                    0.824   \n",
       "123796            72.58                    0.824   \n",
       "123797            72.58                    0.824   \n",
       "123798            72.58                    0.824   \n",
       "123799            72.58                    0.824   \n",
       "123800            72.58                    0.824   \n",
       "123801            72.58                    0.824   \n",
       "123802            72.58                    0.824   \n",
       "123803            72.58                    0.824   \n",
       "123804            72.58                    0.824   \n",
       "123805            72.58                    0.824   \n",
       "123806            72.58                    0.824   \n",
       "123807            72.58                    0.824   \n",
       "123808            72.58                    0.824   \n",
       "123809            72.58                    0.824   \n",
       "123810            72.58                    0.824   \n",
       "123811            72.58                    0.824   \n",
       "123812            72.58                    0.824   \n",
       "123813            72.58                    0.824   \n",
       "123814            72.58                    0.824   \n",
       "123815            72.58                    0.824   \n",
       "123816            72.58                    0.824   \n",
       "123817            72.58                    0.824   \n",
       "123818            72.58                    0.824   \n",
       "123819            72.58                    0.824   \n",
       "123820            72.58                    0.824   \n",
       "123821            72.58                    0.824   \n",
       "123822            72.58                    0.824   \n",
       "123823            72.58                    0.824   \n",
       "123824            72.58                    0.824   \n",
       "123825            72.58                    0.824   \n",
       "123826            72.58                    0.824   \n",
       "123827            72.58                    0.824   \n",
       "123828            72.58                    0.824   \n",
       "123829            72.58                    0.824   \n",
       "123830            72.58                    0.824   \n",
       "123831            72.58                    0.824   \n",
       "123832            72.58                    0.824   \n",
       "123833            72.58                    0.824   \n",
       "123834            72.58                    0.824   \n",
       "123835            72.58                    0.824   \n",
       "\n",
       "        excess_mortality_cumulative_absolute  excess_mortality_cumulative  \\\n",
       "123786                                   NaN                          NaN   \n",
       "123787                                   NaN                          NaN   \n",
       "123788                                   NaN                          NaN   \n",
       "123789                                   NaN                          NaN   \n",
       "123790                                   NaN                          NaN   \n",
       "123791                                   NaN                          NaN   \n",
       "123792                                   NaN                          NaN   \n",
       "123793                                   NaN                          NaN   \n",
       "123794                                   NaN                          NaN   \n",
       "123795                                   NaN                          NaN   \n",
       "123796                                   NaN                          NaN   \n",
       "123797                                   NaN                          NaN   \n",
       "123798                                   NaN                          NaN   \n",
       "123799                                   NaN                          NaN   \n",
       "123800                                   NaN                          NaN   \n",
       "123801                                   NaN                          NaN   \n",
       "123802                                   NaN                          NaN   \n",
       "123803                                   NaN                          NaN   \n",
       "123804                                   NaN                          NaN   \n",
       "123805                                   NaN                          NaN   \n",
       "123806                                   NaN                          NaN   \n",
       "123807                                   NaN                          NaN   \n",
       "123808                                   NaN                          NaN   \n",
       "123809                                   NaN                          NaN   \n",
       "123810                                   NaN                          NaN   \n",
       "123811                                   NaN                          NaN   \n",
       "123812                                   NaN                          NaN   \n",
       "123813                                   NaN                          NaN   \n",
       "123814                               -2714.8                        -0.58   \n",
       "123815                                   NaN                          NaN   \n",
       "123816                                   NaN                          NaN   \n",
       "123817                                   NaN                          NaN   \n",
       "123818                                   NaN                          NaN   \n",
       "123819                                   NaN                          NaN   \n",
       "123820                                   NaN                          NaN   \n",
       "123821                                   NaN                          NaN   \n",
       "123822                                   NaN                          NaN   \n",
       "123823                                   NaN                          NaN   \n",
       "123824                                   NaN                          NaN   \n",
       "123825                                   NaN                          NaN   \n",
       "123826                                   NaN                          NaN   \n",
       "123827                                   NaN                          NaN   \n",
       "123828                                   NaN                          NaN   \n",
       "123829                                   NaN                          NaN   \n",
       "123830                                   NaN                          NaN   \n",
       "123831                                   NaN                          NaN   \n",
       "123832                                   NaN                          NaN   \n",
       "123833                                   NaN                          NaN   \n",
       "123834                                   NaN                          NaN   \n",
       "123835                                   NaN                          NaN   \n",
       "\n",
       "        excess_mortality  excess_mortality_cumulative_per_million  \\\n",
       "123786               NaN                                      NaN   \n",
       "123787               NaN                                      NaN   \n",
       "123788               NaN                                      NaN   \n",
       "123789               NaN                                      NaN   \n",
       "123790               NaN                                      NaN   \n",
       "123791               NaN                                      NaN   \n",
       "123792               NaN                                      NaN   \n",
       "123793               NaN                                      NaN   \n",
       "123794               NaN                                      NaN   \n",
       "123795               NaN                                      NaN   \n",
       "123796               NaN                                      NaN   \n",
       "123797               NaN                                      NaN   \n",
       "123798               NaN                                      NaN   \n",
       "123799               NaN                                      NaN   \n",
       "123800               NaN                                      NaN   \n",
       "123801               NaN                                      NaN   \n",
       "123802               NaN                                      NaN   \n",
       "123803               NaN                                      NaN   \n",
       "123804               NaN                                      NaN   \n",
       "123805               NaN                                      NaN   \n",
       "123806               NaN                                      NaN   \n",
       "123807               NaN                                      NaN   \n",
       "123808               NaN                                      NaN   \n",
       "123809               NaN                                      NaN   \n",
       "123810               NaN                                      NaN   \n",
       "123811               NaN                                      NaN   \n",
       "123812               NaN                                      NaN   \n",
       "123813               NaN                                      NaN   \n",
       "123814             -0.59                               -18.605732   \n",
       "123815               NaN                                      NaN   \n",
       "123816               NaN                                      NaN   \n",
       "123817               NaN                                      NaN   \n",
       "123818               NaN                                      NaN   \n",
       "123819               NaN                                      NaN   \n",
       "123820               NaN                                      NaN   \n",
       "123821               NaN                                      NaN   \n",
       "123822               NaN                                      NaN   \n",
       "123823               NaN                                      NaN   \n",
       "123824               NaN                                      NaN   \n",
       "123825               NaN                                      NaN   \n",
       "123826               NaN                                      NaN   \n",
       "123827               NaN                                      NaN   \n",
       "123828               NaN                                      NaN   \n",
       "123829               NaN                                      NaN   \n",
       "123830               NaN                                      NaN   \n",
       "123831               NaN                                      NaN   \n",
       "123832               NaN                                      NaN   \n",
       "123833               NaN                                      NaN   \n",
       "123834               NaN                                      NaN   \n",
       "123835               NaN                                      NaN   \n",
       "\n",
       "        total_cases_log  new_cases_log  \n",
       "123786         1.098612       0.000000  \n",
       "123787         1.098612       0.000000  \n",
       "123788         1.386294       0.000000  \n",
       "123789         2.564949       2.197225  \n",
       "123790         2.564949       0.000000  \n",
       "123791         2.833213       1.386294  \n",
       "123792         2.833213       0.000000  \n",
       "123793         2.995732       1.098612  \n",
       "123794         2.995732       0.000000  \n",
       "123795         3.332205       2.079442  \n",
       "123796         3.806662       2.833213  \n",
       "123797         4.077537       2.639057  \n",
       "123798         4.143135       1.386294  \n",
       "123799         4.499810       3.295837  \n",
       "123800         4.736198       3.178054  \n",
       "123801         4.990433       3.496508  \n",
       "123802         5.293305       3.951244  \n",
       "123803         5.533389       3.988984  \n",
       "123804         5.723585       3.970292  \n",
       "123805         5.905362       4.110874  \n",
       "123806         6.082219       4.262680  \n",
       "123807         6.204558       4.043051  \n",
       "123808         6.489205       5.093750  \n",
       "123809         6.733402       5.204007  \n",
       "123810         6.943122       5.278115  \n",
       "123811         7.142037       5.429346  \n",
       "123812         7.335634       5.598422  \n",
       "123813         7.515345       5.710427  \n",
       "123814         7.756623       6.216606  \n",
       "123815         7.929126       6.086775  \n",
       "123816         8.174139       6.647688  \n",
       "123817         8.330623       6.398595  \n",
       "123818         8.461892       6.366470  \n",
       "123819         8.592115       6.489205  \n",
       "123820         8.755107       6.860664  \n",
       "123821         8.922258       7.050989  \n",
       "123822         9.067855       7.069023  \n",
       "123823         9.223355       7.285507  \n",
       "123824         9.385721       7.487734  \n",
       "123825         9.516648       7.418781  \n",
       "123826         9.665865       7.689829  \n",
       "123827         9.816185       7.846981  \n",
       "123828         9.957123       7.928046  \n",
       "123829        10.106020       8.127995  \n",
       "123830        10.237743       8.145550  \n",
       "123831        10.373741       8.311398  \n",
       "123832        10.513063       8.473241  \n",
       "123833        10.665531       8.709465  \n",
       "123834        10.760474       8.358901  \n",
       "123835        10.873565       8.637994  \n",
       "\n",
       "[50 rows x 69 columns]"
      ]
     },
     "execution_count": 19,
     "metadata": {},
     "output_type": "execute_result"
    }
   ],
   "source": [
    "data_train"
   ]
  },
  {
   "cell_type": "code",
   "execution_count": 21,
   "id": "2da7344e",
   "metadata": {},
   "outputs": [
    {
     "data": {
      "text/plain": [
       "123786   2020-03-03\n",
       "123787   2020-03-04\n",
       "123788   2020-03-05\n",
       "123789   2020-03-06\n",
       "123790   2020-03-07\n",
       "            ...    \n",
       "124514   2022-03-01\n",
       "124515   2022-03-02\n",
       "124516   2022-03-03\n",
       "124517   2022-03-04\n",
       "124518   2022-03-05\n",
       "Name: date, Length: 733, dtype: datetime64[ns]"
      ]
     },
     "execution_count": 21,
     "metadata": {},
     "output_type": "execute_result"
    }
   ],
   "source": [
    "data['date']"
   ]
  },
  {
   "cell_type": "code",
   "execution_count": 22,
   "id": "44e6e3d2",
   "metadata": {},
   "outputs": [
    {
     "data": {
      "text/plain": [
       "True"
      ]
     },
     "execution_count": 22,
     "metadata": {},
     "output_type": "execute_result"
    }
   ],
   "source": [
    "pd.Index(data['date']).is_monotonic"
   ]
  },
  {
   "cell_type": "code",
   "execution_count": 23,
   "id": "48a1ee28",
   "metadata": {},
   "outputs": [],
   "source": [
    "data_test = data.loc[ ~data.index.isin(data_train.index)] "
   ]
  },
  {
   "cell_type": "code",
   "execution_count": 24,
   "id": "7882c923",
   "metadata": {},
   "outputs": [
    {
     "data": {
      "text/plain": [
       "(683, 69)"
      ]
     },
     "execution_count": 24,
     "metadata": {},
     "output_type": "execute_result"
    }
   ],
   "source": [
    "data_test.shape"
   ]
  },
  {
   "cell_type": "code",
   "execution_count": 25,
   "id": "3e20746c",
   "metadata": {},
   "outputs": [
    {
     "data": {
      "text/plain": [
       "(733, 69)"
      ]
     },
     "execution_count": 25,
     "metadata": {},
     "output_type": "execute_result"
    }
   ],
   "source": [
    "data.shape"
   ]
  },
  {
   "cell_type": "markdown",
   "id": "1b168896",
   "metadata": {},
   "source": [
    "Постройте графики целевых переменных. Вы увидите, что число заболевших растёт очень быстро, на первый взгляд экспоненциально. Для первого подхода к снаряду давайте это и используем."
   ]
  },
  {
   "cell_type": "code",
   "execution_count": 27,
   "id": "fb5cf7df",
   "metadata": {},
   "outputs": [
    {
     "data": {
      "image/png": "[encoded data removed]",
      "text/plain": [
       "<Figure size 432x288 with 1 Axes>"
      ]
     },
     "metadata": {
      "needs_background": "light"
     },
     "output_type": "display_data"
    }
   ],
   "source": [
    "data.plot(kind='scatter',x='date',y='total_cases',color='green')\n",
    "plt.show()"
   ]
  },
  {
   "cell_type": "code",
   "execution_count": 28,
   "id": "16008636",
   "metadata": {},
   "outputs": [
    {
     "data": {
      "image/png": "[encoded data removed]",
      "text/plain": [
       "<Figure size 432x288 with 1 Axes>"
      ]
     },
     "metadata": {
      "needs_background": "light"
     },
     "output_type": "display_data"
    }
   ],
   "source": [
    "data.plot(kind='scatter',x='date',y='new_cases',color='red')\n",
    "plt.show()"
   ]
  },
  {
   "cell_type": "code",
   "execution_count": 29,
   "id": "bce9d78c",
   "metadata": {},
   "outputs": [
    {
     "data": {
      "image/png": "[encoded data removed]",
      "text/plain": [
       "<Figure size 432x288 with 1 Axes>"
      ]
     },
     "metadata": {
      "needs_background": "light"
     },
     "output_type": "display_data"
    }
   ],
   "source": [
    "data_train.plot(kind='scatter',x='date',y='new_cases',color='red')\n",
    "plt.show()"
   ]
  },
  {
   "cell_type": "markdown",
   "id": "d93cd965",
   "metadata": {},
   "source": [
    "Используя линейную регрессию, обучите модель с экспоненциальным ростом числа заболевших: y ~ exp(линейная функция от x), где x — номер текущего дня."
   ]
  },
  {
   "cell_type": "code",
   "execution_count": 139,
   "id": "951a9bd4",
   "metadata": {},
   "outputs": [
    {
     "data": {
      "image/png": "[encoded data removed]",
      "text/plain": [
       "<Figure size 432x288 with 1 Axes>"
      ]
     },
     "metadata": {
      "needs_background": "light"
     },
     "output_type": "display_data"
    }
   ],
   "source": [
    "data_train.plot(kind='scatter',x='t',y='total_cases',color='green')\n",
    "plt.show()"
   ]
  },
  {
   "cell_type": "code",
   "execution_count": 33,
   "id": "dc3900f5",
   "metadata": {},
   "outputs": [
    {
     "data": {
      "image/png": "[encoded data removed]",
      "text/plain": [
       "<Figure size 432x288 with 1 Axes>"
      ]
     },
     "metadata": {
      "needs_background": "light"
     },
     "output_type": "display_data"
    }
   ],
   "source": [
    "data_train.plot(kind='scatter',x='t',y='total_cases_log',color='green')\n",
    "plt.show()"
   ]
  },
  {
   "cell_type": "code",
   "execution_count": 35,
   "id": "3ac9acd9",
   "metadata": {},
   "outputs": [],
   "source": [
    "import numpy as np\n",
    "from sklearn.linear_model import LinearRegression\n",
    "X = data_train['t'].values\n",
    "ln_y = data_train['total_cases_log'].values\n",
    "X = X.reshape(-1, 1)\n",
    "ln_y= ln_y.reshape(-1, 1)\n",
    "reg = LinearRegression().fit(X, ln_y)"
   ]
  },
  {
   "cell_type": "code",
   "execution_count": 36,
   "id": "23b77f9b",
   "metadata": {},
   "outputs": [
    {
     "name": "stdout",
     "output_type": "stream",
     "text": [
      "log regressin result a= [1.82073715]\n"
     ]
    }
   ],
   "source": [
    "print(\"log regressin result a= \" + str(reg.intercept_ ))"
   ]
  },
  {
   "cell_type": "code",
   "execution_count": 37,
   "id": "14e69889",
   "metadata": {},
   "outputs": [
    {
     "name": "stdout",
     "output_type": "stream",
     "text": [
      "log regressin result b= [[0.19829091]]\n"
     ]
    }
   ],
   "source": [
    "print(\"log regressin result b= \" + str(reg.coef_ )) "
   ]
  },
  {
   "cell_type": "code",
   "execution_count": 38,
   "id": "9bea60a0",
   "metadata": {},
   "outputs": [
    {
     "name": "stderr",
     "output_type": "stream",
     "text": [
      "C:\\Users\\comp\\AppData\\Local\\Temp/ipykernel_12844/3272263488.py:5: DeprecationWarning: `np.float` is a deprecated alias for the builtin `float`. To silence this warning, use `float` by itself. Doing this will not modify any behavior and is safe. If you specifically wanted the numpy scalar type, use `np.float64` here.\n",
      "Deprecated in NumPy 1.20; for more details and guidance: https://numpy.org/devdocs/release/1.20.0-notes.html#deprecations\n",
      "  X_with_intercept = np.empty(shape=(N, p), dtype=np.float)\n"
     ]
    },
    {
     "data": {
      "text/html": [
       "<table class=\"simpletable\">\n",
       "<caption>OLS Regression Results</caption>\n",
       "<tr>\n",
       "  <th>Dep. Variable:</th>            <td>y</td>        <th>  R-squared:         </th> <td>   0.985</td>\n",
       "</tr>\n",
       "<tr>\n",
       "  <th>Model:</th>                   <td>OLS</td>       <th>  Adj. R-squared:    </th> <td>   0.985</td>\n",
       "</tr>\n",
       "<tr>\n",
       "  <th>Method:</th>             <td>Least Squares</td>  <th>  F-statistic:       </th> <td>   3226.</td>\n",
       "</tr>\n",
       "<tr>\n",
       "  <th>Date:</th>             <td>Mon, 07 Mar 2022</td> <th>  Prob (F-statistic):</th> <td>1.12e-45</td>\n",
       "</tr>\n",
       "<tr>\n",
       "  <th>Time:</th>                 <td>21:23:45</td>     <th>  Log-Likelihood:    </th> <td> -18.319</td>\n",
       "</tr>\n",
       "<tr>\n",
       "  <th>No. Observations:</th>      <td>    50</td>      <th>  AIC:               </th> <td>   40.64</td>\n",
       "</tr>\n",
       "<tr>\n",
       "  <th>Df Residuals:</th>          <td>    48</td>      <th>  BIC:               </th> <td>   44.46</td>\n",
       "</tr>\n",
       "<tr>\n",
       "  <th>Df Model:</th>              <td>     1</td>      <th>                     </th>     <td> </td>   \n",
       "</tr>\n",
       "<tr>\n",
       "  <th>Covariance Type:</th>      <td>nonrobust</td>    <th>                     </th>     <td> </td>   \n",
       "</tr>\n",
       "</table>\n",
       "<table class=\"simpletable\">\n",
       "<tr>\n",
       "    <td></td>       <th>coef</th>     <th>std err</th>      <th>t</th>      <th>P>|t|</th>  <th>[0.025</th>    <th>0.975]</th>  \n",
       "</tr>\n",
       "<tr>\n",
       "  <th>const</th> <td>    1.8207</td> <td>    0.099</td> <td>   18.342</td> <td> 0.000</td> <td>    1.621</td> <td>    2.020</td>\n",
       "</tr>\n",
       "<tr>\n",
       "  <th>x1</th>    <td>    0.1983</td> <td>    0.003</td> <td>   56.799</td> <td> 0.000</td> <td>    0.191</td> <td>    0.205</td>\n",
       "</tr>\n",
       "</table>\n",
       "<table class=\"simpletable\">\n",
       "<tr>\n",
       "  <th>Omnibus:</th>       <td> 6.787</td> <th>  Durbin-Watson:     </th> <td>   0.227</td>\n",
       "</tr>\n",
       "<tr>\n",
       "  <th>Prob(Omnibus):</th> <td> 0.034</td> <th>  Jarque-Bera (JB):  </th> <td>   6.684</td>\n",
       "</tr>\n",
       "<tr>\n",
       "  <th>Skew:</th>          <td>-0.895</td> <th>  Prob(JB):          </th> <td>  0.0354</td>\n",
       "</tr>\n",
       "<tr>\n",
       "  <th>Kurtosis:</th>      <td> 2.921</td> <th>  Cond. No.          </th> <td>    56.1</td>\n",
       "</tr>\n",
       "</table><br/><br/>Notes:<br/>[1] Standard Errors assume that the covariance matrix of the errors is correctly specified."
      ],
      "text/plain": [
       "<class 'statsmodels.iolib.summary.Summary'>\n",
       "\"\"\"\n",
       "                            OLS Regression Results                            \n",
       "==============================================================================\n",
       "Dep. Variable:                      y   R-squared:                       0.985\n",
       "Model:                            OLS   Adj. R-squared:                  0.985\n",
       "Method:                 Least Squares   F-statistic:                     3226.\n",
       "Date:                Mon, 07 Mar 2022   Prob (F-statistic):           1.12e-45\n",
       "Time:                        21:23:45   Log-Likelihood:                -18.319\n",
       "No. Observations:                  50   AIC:                             40.64\n",
       "Df Residuals:                      48   BIC:                             44.46\n",
       "Df Model:                           1                                         \n",
       "Covariance Type:            nonrobust                                         \n",
       "==============================================================================\n",
       "                 coef    std err          t      P>|t|      [0.025      0.975]\n",
       "------------------------------------------------------------------------------\n",
       "const          1.8207      0.099     18.342      0.000       1.621       2.020\n",
       "x1             0.1983      0.003     56.799      0.000       0.191       0.205\n",
       "==============================================================================\n",
       "Omnibus:                        6.787   Durbin-Watson:                   0.227\n",
       "Prob(Omnibus):                  0.034   Jarque-Bera (JB):                6.684\n",
       "Skew:                          -0.895   Prob(JB):                       0.0354\n",
       "Kurtosis:                       2.921   Cond. No.                         56.1\n",
       "==============================================================================\n",
       "\n",
       "Notes:\n",
       "[1] Standard Errors assume that the covariance matrix of the errors is correctly specified.\n",
       "\"\"\""
      ]
     },
     "execution_count": 38,
     "metadata": {},
     "output_type": "execute_result"
    }
   ],
   "source": [
    "import statsmodels.api as sm\n",
    "N = len(X)\n",
    "p = 1 + 1  # plus one because LinearRegression adds an intercept term\n",
    "\n",
    "X_with_intercept = np.empty(shape=(N, p), dtype=np.float)\n",
    "X_with_intercept[:, 0] = 1\n",
    "X_with_intercept[:, 1:p] = X\n",
    "ols = sm.OLS(ln_y, X_with_intercept)\n",
    "ols_result = ols.fit()\n",
    "ols_result.summary()"
   ]
  },
  {
   "cell_type": "code",
   "execution_count": 42,
   "id": "6555af90",
   "metadata": {},
   "outputs": [],
   "source": [
    "ln_y_pred = reg.predict(X)"
   ]
  },
  {
   "cell_type": "code",
   "execution_count": 43,
   "id": "e78aac1b",
   "metadata": {},
   "outputs": [
    {
     "data": {
      "image/png": "[encoded data removed]",
      "text/plain": [
       "<Figure size 432x288 with 1 Axes>"
      ]
     },
     "metadata": {
      "needs_background": "light"
     },
     "output_type": "display_data"
    }
   ],
   "source": [
    "plt.plot(X, ln_y,color='green')\n",
    "plt.show()"
   ]
  },
  {
   "cell_type": "code",
   "execution_count": 44,
   "id": "964bd53e",
   "metadata": {},
   "outputs": [
    {
     "data": {
      "image/png": "[encoded data removed]",
      "text/plain": [
       "<Figure size 432x288 with 1 Axes>"
      ]
     },
     "metadata": {
      "needs_background": "light"
     },
     "output_type": "display_data"
    }
   ],
   "source": [
    "plt.plot(X, ln_y_pred,color='green')\n",
    "plt.show()"
   ]
  },
  {
   "cell_type": "raw",
   "id": "cb7392a0",
   "metadata": {},
   "source": [
    "Найдите апостериорное распределение параметров этой модели для достаточно широкого априорного распределения."
   ]
  },
  {
   "cell_type": "markdown",
   "id": "d908e8d1",
   "metadata": {},
   "source": [
    "априорное распрделение - нормальное с параметрами \n",
    "log y = a+ bt + e\n",
    "a, b, e - имеет многомерное нормальное распределение\n",
    "\n"
   ]
  },
  {
   "cell_type": "markdown",
   "id": "d70328d6",
   "metadata": {},
   "source": [
    "как получить оценку дисперсии - берём максимумальную апостериорную модель - а это модель максимального правдоподобия и её вид известен\n",
    "\n"
   ]
  },
  {
   "cell_type": "markdown",
   "id": "bce537d5",
   "metadata": {},
   "source": [
    "Если делать с помощью нахождения апостериорного распределения и потом для оценки дисперсии шума взять оптимальную модель по методу максимума правдоподобия, то получается не очень здорово - по видимому не хватает одного шага байесовского вывода"
   ]
  },
  {
   "cell_type": "markdown",
   "id": "357c2186",
   "metadata": {},
   "source": [
    "Но чтобы всётаки проделать по предложенной схеме, то шаги следующие"
   ]
  },
  {
   "cell_type": "markdown",
   "id": "bd9df1a7",
   "metadata": {},
   "source": [
    "Выбираем произвольно начальную матрицу ковариаций параметров и матрицу самих параметров"
   ]
  },
  {
   "cell_type": "code",
   "execution_count": 47,
   "id": "04261f07",
   "metadata": {},
   "outputs": [],
   "source": [
    "sigma_0 = np.diag((1,1))"
   ]
  },
  {
   "cell_type": "code",
   "execution_count": 48,
   "id": "2ee9abe7",
   "metadata": {},
   "outputs": [],
   "source": [
    "mu_0 = np.array((1,1)).reshape(-1, 1)"
   ]
  },
  {
   "cell_type": "markdown",
   "id": "f1d83ec2",
   "metadata": {},
   "source": [
    "В качестве объясняющих параметров в модели - время, берём его и добавляем единицы поскольку есть и свободный член"
   ]
  },
  {
   "cell_type": "code",
   "execution_count": 49,
   "id": "27110411",
   "metadata": {},
   "outputs": [],
   "source": [
    "F = np.vstack((np.ones(50), X.T)).T  "
   ]
  },
  {
   "cell_type": "markdown",
   "id": "0082a58b",
   "metadata": {},
   "source": [
    "Пишем функцию выдающую минус логарифм функции правдоподобия"
   ]
  },
  {
   "cell_type": "code",
   "execution_count": 50,
   "id": "9fdf30ed",
   "metadata": {},
   "outputs": [],
   "source": [
    "def lik(a,b,sigma, mu_0, sigma_0, F, ln_y):\n",
    "    if sigma == 0:\n",
    "        return 100\n",
    "    sigma_n = np.linalg.inv (np.linalg.inv(sigma_0) + 1/(sigma **2) * F.T @ F)\n",
    "    mu_n = sigma_n @ ( np.linalg.inv(sigma_0) @ mu_0 + 1/(sigma **2) * F.T @ ln_y)\n",
    "    mu_n= mu_n.reshape((1,-1))[0]\n",
    "    \n",
    "    rez = multivariate_normal.logpdf( (a,b) , mean=mu_n, cov=sigma_n)\n",
    "     \n",
    "    return  -rez\n",
    "\n",
    "def lik2(params):\n",
    "    a,b,sigma = params\n",
    "    \n",
    "    return lik(a,b,sigma, mu_0, sigma_0, F, ln_y)"
   ]
  },
  {
   "cell_type": "code",
   "execution_count": 59,
   "id": "b8331f38",
   "metadata": {},
   "outputs": [],
   "source": [
    "from scipy import optimize\n",
    "\n",
    "initial_guess = [5, 5, 111]\n",
    "result = optimize.minimize(lik2, initial_guess, method = 'Nelder-Mead')"
   ]
  },
  {
   "cell_type": "code",
   "execution_count": 60,
   "id": "b9571796",
   "metadata": {},
   "outputs": [
    {
     "data": {
      "text/plain": [
       " final_simplex: (array([[1.82073715e+00, 1.98290912e-01, 1.76184600e-11],\n",
       "       [1.82073715e+00, 1.98290912e-01, 2.25319946e-11],\n",
       "       [1.82073715e+00, 1.98290912e-01, 2.74053976e-11],\n",
       "       [1.82073715e+00, 1.98290912e-01, 2.92916725e-11]]), array([-53.7613229 , -53.57067651, -53.27038695, -53.24198186]))\n",
       "           fun: -53.76132290339821\n",
       "       message: 'Maximum number of function evaluations has been exceeded.'\n",
       "          nfev: 601\n",
       "           nit: 326\n",
       "        status: 1\n",
       "       success: False\n",
       "             x: array([1.82073715e+00, 1.98290912e-01, 1.76184600e-11])"
      ]
     },
     "execution_count": 60,
     "metadata": {},
     "output_type": "execute_result"
    }
   ],
   "source": [
    "result"
   ]
  },
  {
   "cell_type": "markdown",
   "id": "8b5d7fb4",
   "metadata": {},
   "source": [
    "По этому оптимизатору дисперсия ошибки получается очень маленькой, поэтому логичнее всё-таки оценивать её не с помощью выбора оптимального апостериорного распредления (алгоритм не сходится, но при других начальных параметрах хоть и сходился, всё равно дисперсия ошибок была слишком маленькой). Попробуем оценить диспресию ошибок из обычной линейной модели, и потом уже найденное значение подставим в оптимизатор и найдем оптимальный коэффициенты в модели"
   ]
  },
  {
   "cell_type": "code",
   "execution_count": 79,
   "id": "ffb11ab5",
   "metadata": {},
   "outputs": [],
   "source": [
    "a_opt_classic = reg.intercept_[0] \n",
    "b_opt_classic = (reg.coef_)[0][0]\n",
    "sigma_opt_empirical = np.sqrt(sum ((F @ np.array([a_opt_classic, b_opt_classic]).reshape(-1,1) - ln_y) **2)/50)[0]"
   ]
  },
  {
   "cell_type": "code",
   "execution_count": 80,
   "id": "f7b9404f",
   "metadata": {},
   "outputs": [
    {
     "data": {
      "text/plain": [
       "0.3490422059635658"
      ]
     },
     "execution_count": 80,
     "metadata": {},
     "output_type": "execute_result"
    }
   ],
   "source": [
    "sigma_opt_empirical"
   ]
  },
  {
   "cell_type": "markdown",
   "id": "4961919f",
   "metadata": {},
   "source": [
    "Это значение больше похоже на правду и его будем использовать для нахождения оптимальных параметров в модели"
   ]
  },
  {
   "cell_type": "code",
   "execution_count": 90,
   "id": "3838b7d8",
   "metadata": {},
   "outputs": [],
   "source": [
    "def lik_empirical(a,b,sigma, mu_0, sigma_0, F, ln_y):\n",
    "    if sigma == 0:\n",
    "        return 100\n",
    "    sigma_n = np.linalg.inv (np.linalg.inv(sigma_0) + 1/(sigma **2) * F.T @ F)\n",
    "    mu_n = sigma_n @ ( np.linalg.inv(sigma_0) @ mu_0 + 1/(sigma **2) * F.T @ ln_y)\n",
    "    mu_n= mu_n.reshape((1,-1))[0]\n",
    "    \n",
    "    rez = multivariate_normal.logpdf( (a,b) , mean=mu_n, cov=sigma_n)\n",
    "     \n",
    "    return  -rez\n",
    "\n",
    "def lik2(params):\n",
    "    a,b = params\n",
    "    \n",
    "    return lik_empirical(a,b,sigma_opt_empirical, mu_0, sigma_0, F, ln_y)"
   ]
  },
  {
   "cell_type": "code",
   "execution_count": 91,
   "id": "91246530",
   "metadata": {},
   "outputs": [],
   "source": [
    "initial_guess = [1, 1]\n",
    "result = optimize.minimize(lik2, initial_guess, method = 'Nelder-Mead')"
   ]
  },
  {
   "cell_type": "code",
   "execution_count": 92,
   "id": "08eef890",
   "metadata": {},
   "outputs": [
    {
     "data": {
      "text/plain": [
       " final_simplex: (array([[1.81284054, 0.19853324],\n",
       "       [1.81277529, 0.19853455],\n",
       "       [1.81287827, 0.19853134]]), array([-6.85335382, -6.85335381, -6.85335371]))\n",
       "           fun: -6.853353815907827\n",
       "       message: 'Optimization terminated successfully.'\n",
       "          nfev: 99\n",
       "           nit: 52\n",
       "        status: 0\n",
       "       success: True\n",
       "             x: array([1.81284054, 0.19853324])"
      ]
     },
     "execution_count": 92,
     "metadata": {},
     "output_type": "execute_result"
    }
   ],
   "source": [
    "result"
   ]
  },
  {
   "cell_type": "code",
   "execution_count": 93,
   "id": "d1ff4c11",
   "metadata": {},
   "outputs": [],
   "source": [
    "a_opt = result.x[0]\n",
    "b_opt = result.x[0]"
   ]
  },
  {
   "cell_type": "code",
   "execution_count": 94,
   "id": "28013c37",
   "metadata": {},
   "outputs": [],
   "source": [
    "sigma_opt = sigma_opt_empirical"
   ]
  },
  {
   "cell_type": "markdown",
   "id": "8bf72196",
   "metadata": {},
   "source": [
    "Находим апостериорное распределение согласно формулам"
   ]
  },
  {
   "cell_type": "code",
   "execution_count": 95,
   "id": "60af7080",
   "metadata": {},
   "outputs": [],
   "source": [
    "sigma_n = np.linalg.inv (np.linalg.inv(sigma_0) + 1/(sigma_opt **2) * F.T @ F)\n",
    "mu_n = sigma_n @ ( np.linalg.inv(sigma_0) @ mu_0 + 1/(sigma_opt **2) * F.T @ ln_y)\n",
    "mu_n= mu_n.reshape((1,-1))[0]"
   ]
  },
  {
   "cell_type": "code",
   "execution_count": 96,
   "id": "1fa5e071",
   "metadata": {},
   "outputs": [
    {
     "data": {
      "text/plain": [
       "array([[ 9.37104759e-03, -2.83970283e-04],\n",
       "       [-2.83970283e-04,  1.16188656e-05]])"
      ]
     },
     "execution_count": 96,
     "metadata": {},
     "output_type": "execute_result"
    }
   ],
   "source": [
    "sigma_n"
   ]
  },
  {
   "cell_type": "raw",
   "id": "d94251aa",
   "metadata": {},
   "source": [
    "Посэмплируйте много разных экспонент, постройте графики."
   ]
  },
  {
   "cell_type": "code",
   "execution_count": 97,
   "id": "ebbfe6f0",
   "metadata": {},
   "outputs": [],
   "source": [
    "def myplot_sample_lines(mu_n, sigma_n, n=20, points=None):\n",
    "    # Посэмплируем и порисуем прямые\n",
    "    my_w = np.random.multivariate_normal(mu_n, sigma_n, n)\n",
    "    print(my_w)\n",
    "    # plt.axis('equal')\n",
    "    for w in my_w:\n",
    "        plt.plot(X, np.exp(w[0] + w[1]*X), 'k-', lw=.4)\n",
    "        #plt.plot(X,  (w[0] + w[1]*X), 'k-', lw=.4)\n",
    "    plt.ylim((-3, 60000))\n",
    "    #plt.ylim((0, 14))\n",
    "    plt.xlim((-1, 51))\n",
    "    if not points is None:\n",
    "        plt.scatter(points[0], points[1], marker='*', s=200)\n",
    "    return my_w"
   ]
  },
  {
   "cell_type": "code",
   "execution_count": 98,
   "id": "cf4e6203",
   "metadata": {},
   "outputs": [
    {
     "name": "stdout",
     "output_type": "stream",
     "text": [
      "[[1.77593302 0.20060027]\n",
      " [1.82505652 0.19465877]\n",
      " [1.76218506 0.2004421 ]\n",
      " [1.74955912 0.20051151]\n",
      " [1.71051016 0.20131347]\n",
      " [1.80504384 0.19705795]\n",
      " [1.76193585 0.20085636]\n",
      " [1.98038336 0.19276524]\n",
      " [1.91522576 0.19540804]\n",
      " [1.79588927 0.19877437]]\n"
     ]
    },
    {
     "data": {
      "image/png": "[encoded data removed]",
      "text/plain": [
       "<Figure size 576x576 with 1 Axes>"
      ]
     },
     "metadata": {
      "needs_background": "light"
     },
     "output_type": "display_data"
    }
   ],
   "source": [
    "fig = plt.figure(figsize=(8, 8))\n",
    "ax = fig.add_subplot(111)\n",
    "ax.set_xlim((X[0], X[-1]))\n",
    "ax.set_ylim((-3, 60000))\n",
    "simAB = myplot_sample_lines(mu_n, sigma_n, 10)"
   ]
  },
  {
   "cell_type": "raw",
   "id": "8684b317",
   "metadata": {},
   "source": [
    "Сколько, исходя из этих сэмплов, предсказывается случаев коронавируса в России к 1 мая? к 1 июня? к 1 сентября?"
   ]
  },
  {
   "cell_type": "code",
   "execution_count": 99,
   "id": "354a2333",
   "metadata": {},
   "outputs": [],
   "source": [
    "dateMay1 = pd.to_datetime(\"2020-05-01\")\n",
    "dateJune1 = pd.to_datetime(\"2020-06-01\")\n",
    "dateSeptember1 = pd.to_datetime(\"2020-09-01\")\n",
    "indexMay1 =    (dateMay1 - date0).days\n",
    "indexJune1 = (dateJune1 - date0).days\n",
    "indexSeptember1 = (dateSeptember1 - date0).days"
   ]
  },
  {
   "cell_type": "code",
   "execution_count": 100,
   "id": "3fef1ced",
   "metadata": {},
   "outputs": [
    {
     "data": {
      "text/plain": [
       "59"
      ]
     },
     "execution_count": 100,
     "metadata": {},
     "output_type": "execute_result"
    }
   ],
   "source": [
    "indexMay1"
   ]
  },
  {
   "cell_type": "markdown",
   "id": "02d5815c",
   "metadata": {},
   "source": [
    "Предсказания слишком большие:"
   ]
  },
  {
   "cell_type": "code",
   "execution_count": 107,
   "id": "ac08ca54",
   "metadata": {},
   "outputs": [],
   "source": [
    "dateMay1_y = np.exp( a_opt + b_opt *indexMay1 )"
   ]
  },
  {
   "cell_type": "code",
   "execution_count": 108,
   "id": "fb52649b",
   "metadata": {},
   "outputs": [
    {
     "data": {
      "text/plain": [
       "1.7314048249186562e+47"
      ]
     },
     "execution_count": 108,
     "metadata": {},
     "output_type": "execute_result"
    }
   ],
   "source": [
    "dateMay1_y"
   ]
  },
  {
   "cell_type": "code",
   "execution_count": 109,
   "id": "3d6383ae",
   "metadata": {},
   "outputs": [],
   "source": [
    "dateJune1_y = np.exp( a_opt + b_opt *indexJune1 )"
   ]
  },
  {
   "cell_type": "code",
   "execution_count": 110,
   "id": "0d63b11e",
   "metadata": {},
   "outputs": [
    {
     "data": {
      "text/plain": [
       "4.4147343824608374e+71"
      ]
     },
     "execution_count": 110,
     "metadata": {},
     "output_type": "execute_result"
    }
   ],
   "source": [
    "dateJune1_y"
   ]
  },
  {
   "cell_type": "code",
   "execution_count": 111,
   "id": "05d29ebb",
   "metadata": {},
   "outputs": [],
   "source": [
    "dateSeptember1_y = np.exp( a_opt + b_opt *indexSeptember1 )"
   ]
  },
  {
   "cell_type": "code",
   "execution_count": 112,
   "id": "15958853",
   "metadata": {},
   "outputs": [
    {
     "data": {
      "text/plain": [
       "1.1943065151865817e+144"
      ]
     },
     "execution_count": 112,
     "metadata": {},
     "output_type": "execute_result"
    }
   ],
   "source": [
    "dateSeptember1_y"
   ]
  },
  {
   "cell_type": "raw",
   "id": "21ac775e",
   "metadata": {},
   "source": [
    "Постройте предсказательные распределения (можно эмпирически, исходя из данных сэмплирования)"
   ]
  },
  {
   "cell_type": "code",
   "execution_count": 113,
   "id": "b2f4d430",
   "metadata": {},
   "outputs": [
    {
     "data": {
      "text/plain": [
       "array([[1.77593302, 0.20060027],\n",
       "       [1.82505652, 0.19465877],\n",
       "       [1.76218506, 0.2004421 ],\n",
       "       [1.74955912, 0.20051151],\n",
       "       [1.71051016, 0.20131347],\n",
       "       [1.80504384, 0.19705795],\n",
       "       [1.76193585, 0.20085636],\n",
       "       [1.98038336, 0.19276524],\n",
       "       [1.91522576, 0.19540804],\n",
       "       [1.79588927, 0.19877437]])"
      ]
     },
     "execution_count": 113,
     "metadata": {},
     "output_type": "execute_result"
    }
   ],
   "source": [
    "simAB"
   ]
  },
  {
   "cell_type": "code",
   "execution_count": 126,
   "id": "20fe64b3",
   "metadata": {},
   "outputs": [],
   "source": [
    "def simul(dateIndex):\n",
    "    simData = []\n",
    "    for a, b in simAB:\n",
    "        curr = np.exp( a + b *dateIndex )\n",
    "        simData.append(curr)\n",
    "    return simData"
   ]
  },
  {
   "cell_type": "code",
   "execution_count": 131,
   "id": "034bb771",
   "metadata": {},
   "outputs": [],
   "source": [
    "rez1 =simul(indexMay1)"
   ]
  },
  {
   "cell_type": "code",
   "execution_count": 132,
   "id": "ea9e6f4f",
   "metadata": {},
   "outputs": [
    {
     "data": {
      "text/plain": [
       "[815330.6242355491,\n",
       " 603151.7678454618,\n",
       " 796728.1118482312,\n",
       " 789960.3731611928,\n",
       " 796517.7794676137,\n",
       " 681098.991854048,\n",
       " 816237.625688819,\n",
       " 630036.2471602841,\n",
       " 689898.600514356,\n",
       " 746818.4111805945]"
      ]
     },
     "execution_count": 132,
     "metadata": {},
     "output_type": "execute_result"
    }
   ],
   "source": [
    "rez1"
   ]
  },
  {
   "cell_type": "code",
   "execution_count": 133,
   "id": "e20f6a71",
   "metadata": {},
   "outputs": [],
   "source": [
    "def ploo(rez1) :\n",
    "    import matplotlib.pyplot as plt\n",
    "    import numpy as np\n",
    "    %matplotlib inline\n",
    "\n",
    "    np.random.seed(42)\n",
    "    x = rez1\n",
    "\n",
    "    plt.hist(x, density=True, bins=30)  # density=False would make counts\n",
    "    plt.ylabel('Probability')\n",
    "    plt.xlabel('Data');\n"
   ]
  },
  {
   "cell_type": "code",
   "execution_count": 134,
   "id": "a05b2073",
   "metadata": {},
   "outputs": [
    {
     "data": {
      "image/png": "[encoded data removed]",
      "text/plain": [
       "<Figure size 432x288 with 1 Axes>"
      ]
     },
     "metadata": {
      "needs_background": "light"
     },
     "output_type": "display_data"
    }
   ],
   "source": [
    "ploo(rez1)"
   ]
  },
  {
   "cell_type": "code",
   "execution_count": 135,
   "id": "15bee53c",
   "metadata": {},
   "outputs": [
    {
     "data": {
      "image/png": "[encoded data removed]",
      "text/plain": [
       "<Figure size 432x288 with 1 Axes>"
      ]
     },
     "metadata": {
      "needs_background": "light"
     },
     "output_type": "display_data"
    }
   ],
   "source": [
    "ploo(simul(indexJune1))"
   ]
  },
  {
   "cell_type": "code",
   "execution_count": 136,
   "id": "e86f0c28",
   "metadata": {},
   "outputs": [
    {
     "data": {
      "image/png": "[encoded data removed]",
      "text/plain": [
       "<Figure size 432x288 with 1 Axes>"
      ]
     },
     "metadata": {
      "needs_background": "light"
     },
     "output_type": "display_data"
    }
   ],
   "source": [
    "ploo(simul(indexSeptember1))"
   ]
  },
  {
   "cell_type": "markdown",
   "id": "e0877d7c",
   "metadata": {},
   "source": [
    "# Вторая часть задачи"
   ]
  },
  {
   "cell_type": "raw",
   "id": "6aefd989",
   "metadata": {},
   "source": [
    "Предложите способ обучать параметры такой сигмоидальной функции при помощи линейной регрессии."
   ]
  },
  {
   "cell_type": "markdown",
   "id": "a8e0d4ee",
   "metadata": {},
   "source": [
    "Посколько в качестве сигмоиды выбран интеграл от плотности, то чтобы избавиться от интеграла, надо взять от него производную, и это также согласуется и имеющумися данными, поскольку дневной прирост может аппроксимировать производную.\n"
   ]
  },
  {
   "cell_type": "code",
   "execution_count": null,
   "id": "b3cfd51d",
   "metadata": {},
   "outputs": [],
   "source": [
    "#task2_X = task2_X.reshape(-1, 1)\n",
    "task2_ln_y= task2_ln_y.reshape(-1, 1)\n",
    "task2_ln_yreg = LinearRegression().fit(np.array([task2_X,task2_X2]) , task2_ln_y)"
   ]
  },
  {
   "cell_type": "code",
   "execution_count": 141,
   "id": "0ca53c05",
   "metadata": {},
   "outputs": [
    {
     "data": {
      "image/png": "[encoded data removed]",
      "text/plain": [
       "<Figure size 432x288 with 1 Axes>"
      ]
     },
     "metadata": {
      "needs_background": "light"
     },
     "output_type": "display_data"
    }
   ],
   "source": [
    "plt.plot(task2_X, task2_ln_y,color='green')\n",
    "plt.show()"
   ]
  },
  {
   "cell_type": "code",
   "execution_count": 142,
   "id": "28d5457e",
   "metadata": {},
   "outputs": [
    {
     "data": {
      "image/png": "[encoded data removed]",
      "text/plain": [
       "<Figure size 432x288 with 1 Axes>"
      ]
     },
     "metadata": {
      "needs_background": "light"
     },
     "output_type": "display_data"
    }
   ],
   "source": [
    "plt.plot(task2_X[0:100], task2_ln_y[0:100],color='green')\n",
    "plt.show()"
   ]
  },
  {
   "cell_type": "markdown",
   "id": "113b583a",
   "metadata": {},
   "source": [
    "В показателе экспоненты уже может стоять квадратичная функция от времени, поэтому к матрице F из предыдущей задачи добавится столбец с квадратами времени"
   ]
  },
  {
   "cell_type": "code",
   "execution_count": 146,
   "id": "32630a59",
   "metadata": {},
   "outputs": [],
   "source": [
    "task2_F = np.vstack((np.ones(733), task2_X.T, task2_X.T**2)).T  "
   ]
  },
  {
   "cell_type": "code",
   "execution_count": 170,
   "id": "dd5108f3",
   "metadata": {},
   "outputs": [
    {
     "name": "stdout",
     "output_type": "stream",
     "text": [
      "Intercept    6.733178\n",
      "task2_X      0.011617\n",
      "task2_X2    -0.000009\n",
      "dtype: float64\n"
     ]
    }
   ],
   "source": [
    "task2_X = data['t'].values\n",
    "task2_X2 = task2_X **2\n",
    "task2_ln_y = data['new_cases_log'].values\n",
    "import statsmodels.formula.api as sm\n",
    "df = pd.DataFrame({\"task2_X\": task2_X, \"task2_X2\": task2_X2, \"task2_ln_y\": task2_ln_y})\n",
    "result = sm.ols(formula=\"task2_ln_y ~ task2_X + task2_X2\", data=df).fit()\n",
    "print(result.params)"
   ]
  },
  {
   "cell_type": "code",
   "execution_count": 281,
   "id": "a888d1d9",
   "metadata": {},
   "outputs": [],
   "source": [
    "task2_a_opt_classic = result.params[0] \n",
    "task2_b_opt_classic = result.params[1]\n",
    "task2_с_opt_classic = result.params[2] "
   ]
  },
  {
   "cell_type": "code",
   "execution_count": 282,
   "id": "491969e1",
   "metadata": {},
   "outputs": [],
   "source": [
    "task2_sigma_opt_empirical = np.sqrt(sum ((task2_F @ np.array([task2_a_opt_classic, task2_b_opt_classic,task2_с_opt_classic ]).reshape(-1,1) - task2_ln_y) **2)/733)[0]"
   ]
  },
  {
   "cell_type": "code",
   "execution_count": 283,
   "id": "3a2b690e",
   "metadata": {},
   "outputs": [
    {
     "data": {
      "text/plain": [
       "1.1588377111895514"
      ]
     },
     "execution_count": 283,
     "metadata": {},
     "output_type": "execute_result"
    }
   ],
   "source": [
    "task2_sigma_opt_empirical"
   ]
  },
  {
   "cell_type": "markdown",
   "id": "e3a7ac99",
   "metadata": {},
   "source": [
    "Выбираем произвольно начальную матрицу ковариаций параметров и матрицу самих параметров"
   ]
  },
  {
   "cell_type": "code",
   "execution_count": 320,
   "id": "ea97d1e9",
   "metadata": {},
   "outputs": [],
   "source": [
    "task2_sigma_0 = np.diag((1,0.0001,0.0001))"
   ]
  },
  {
   "cell_type": "code",
   "execution_count": 321,
   "id": "0c808a5b",
   "metadata": {},
   "outputs": [],
   "source": [
    "task2_mu_0 = np.array((6,0.011617,-0.000009)).reshape(-1, 1) "
   ]
  },
  {
   "cell_type": "code",
   "execution_count": 322,
   "id": "0ec42dac",
   "metadata": {},
   "outputs": [],
   "source": [
    "task2_ln_y  = task2_ln_y.reshape(-1, 1)"
   ]
  },
  {
   "cell_type": "code",
   "execution_count": 356,
   "id": "1d4ad3b3",
   "metadata": {},
   "outputs": [],
   "source": [
    "def task2_lik_empirical(a,b,c,task2_sigma_opt_empirical, task2_mu_0, task2_sigma_0, task2_F, task2_ln_y):\n",
    " \n",
    "    sigma_n = np.linalg.inv (np.linalg.inv(task2_sigma_0) + 1/(task2_sigma_opt_empirical **2) * task2_F.T @ task2_F)\n",
    "    mu_n = sigma_n @ ( np.linalg.inv(task2_sigma_0) @ task2_mu_0 + 1/(task2_sigma_opt_empirical **2) * task2_F.T @ task2_ln_y)\n",
    "    mu_n= mu_n.reshape((1,-1))[0]\n",
    "    sigma_n = sigma_n  + 0.000000001 * np.eye(3)\n",
    "    rez = multivariate_normal.logpdf( (a,b,c) , mean=mu_n, cov=sigma_n)\n",
    "     \n",
    "    return  -rez\n",
    "\n",
    "def task2_lik2(params):\n",
    "    a,b,c  = params\n",
    "    \n",
    "    return task2_lik_empirical(a,b,c,task2_sigma_opt_empirical, task2_mu_0, task2_sigma_0, task2_F, task2_ln_y)"
   ]
  },
  {
   "cell_type": "code",
   "execution_count": 357,
   "id": "6d59da16",
   "metadata": {},
   "outputs": [],
   "source": [
    "task2_initial_guess = [1,1,-0.000005 ]\n",
    "#task2_a, task2_b, task2_c  = task2_initial_guess\n",
    "\n",
    "#task2_sigma = task2_initial_guess[3]\n",
    "task2_result = optimize.minimize(task2_lik2, task2_initial_guess, method = 'Nelder-Mead')"
   ]
  },
  {
   "cell_type": "code",
   "execution_count": 358,
   "id": "c181806f",
   "metadata": {},
   "outputs": [
    {
     "data": {
      "text/plain": [
       " final_simplex: (array([[ 6.72144373e+00,  1.16810424e-02, -9.12550484e-06],\n",
       "       [ 6.72138463e+00,  1.16815339e-02, -9.15674840e-06],\n",
       "       [ 6.72146032e+00,  1.16811030e-02, -9.15528887e-06],\n",
       "       [ 6.72140966e+00,  1.16811318e-02, -9.15545139e-06]]), array([-17.4800483 , -17.4800481 , -17.48004805, -17.48004804]))\n",
       "           fun: -17.480048297041765\n",
       "       message: 'Optimization terminated successfully.'\n",
       "          nfev: 313\n",
       "           nit: 174\n",
       "        status: 0\n",
       "       success: True\n",
       "             x: array([ 6.72144373e+00,  1.16810424e-02, -9.12550484e-06])"
      ]
     },
     "execution_count": 358,
     "metadata": {},
     "output_type": "execute_result"
    }
   ],
   "source": [
    "task2_result"
   ]
  },
  {
   "cell_type": "code",
   "execution_count": 359,
   "id": "ddcccab5",
   "metadata": {},
   "outputs": [],
   "source": [
    "task2_a_opt = task2_result.x[0]\n",
    "task2_b_opt =task2_result.x[1]\n",
    "task2_c_opt =task2_result.x[2]\n",
    "task2_sigma_opt = task2_sigma_opt_empirical"
   ]
  },
  {
   "cell_type": "code",
   "execution_count": 360,
   "id": "264f84fe",
   "metadata": {},
   "outputs": [],
   "source": [
    "task2_sigma_n = np.linalg.inv (np.linalg.inv(task2_sigma_0) + 1/(task2_sigma_opt **2) * task2_F.T @ task2_F)\n",
    "task2_mu_n = task2_sigma_n @ ( np.linalg.inv(task2_sigma_0) @ task2_mu_0 + 1/(task2_sigma_opt **2) * task2_F.T @ task2_ln_y)\n",
    "task2_mu_n= task2_mu_n.reshape((1,-1))[0]"
   ]
  },
  {
   "cell_type": "raw",
   "id": "900b20d4",
   "metadata": {},
   "source": [
    "Посэмплируйте много разных сигмоид из апостериорного распределения, постройте графики. Сколько, исходя из этих сэмплов, будет всего случаев коронавируса в России? Постройте эмпирическое предсказательное распределение, нарисуйте графики. Каков ваш прогноз числа случаев коронавируса в пессимистичном сценарии (90-й процентиль в выборке числа случаев)? В оптимистичном сценарии (10-й процентиль)?"
   ]
  },
  {
   "cell_type": "code",
   "execution_count": 363,
   "id": "463215c8",
   "metadata": {},
   "outputs": [],
   "source": [
    "def task2_myplot_sample_lines(mu_n, sigma_n, n=20, points=None):\n",
    "    # Посэмплируем и порисуем прямые\n",
    "    my_w = np.random.multivariate_normal(mu_n, sigma_n, n)\n",
    "    print(my_w)\n",
    "    # plt.axis('equal')\n",
    "    for w in my_w:\n",
    "        task2_new_cases = np.exp(w[0] + w[1]*task2_X + w[2]* task2_X**2)\n",
    "        task2_all_cases = np.cumsum(task2_new_cases) \n",
    "        plt.plot(task2_X, task2_all_cases , 'k-', lw=.4)\n",
    "        #plt.plot(X,  (w[0] + w[1]*X), 'k-', lw=.4)\n",
    "    plt.ylim((-3, 60000))\n",
    "    #plt.ylim((0, 14))\n",
    "    plt.xlim((-1, 51))\n",
    "    if not points is None:\n",
    "        plt.scatter(points[0], points[1], marker='*', s=200)\n",
    "    return my_w"
   ]
  },
  {
   "cell_type": "code",
   "execution_count": 364,
   "id": "eb037751",
   "metadata": {},
   "outputs": [
    {
     "name": "stdout",
     "output_type": "stream",
     "text": [
      "[[ 6.62117016e+00  1.25957911e-02 -1.01323420e-05]\n",
      " [ 6.89904271e+00  1.04754177e-02 -7.23654246e-06]\n",
      " [ 6.84692463e+00  1.12261785e-02 -8.72889451e-06]\n",
      " [ 6.78520787e+00  1.19609705e-02 -9.79664748e-06]\n",
      " [ 6.85601649e+00  1.07558219e-02 -8.13632156e-06]\n",
      " [ 6.52500393e+00  1.30690356e-02 -1.09489932e-05]\n",
      " [ 6.61832160e+00  1.27414054e-02 -1.05817076e-05]\n",
      " [ 6.55577161e+00  1.32348170e-02 -1.12370545e-05]\n",
      " [ 6.68847212e+00  1.15445258e-02 -9.01846063e-06]\n",
      " [ 6.88872878e+00  1.05579151e-02 -7.68315403e-06]]\n"
     ]
    },
    {
     "data": {
      "image/png": "[encoded data removed]",
      "text/plain": [
       "<Figure size 576x576 with 1 Axes>"
      ]
     },
     "metadata": {
      "needs_background": "light"
     },
     "output_type": "display_data"
    }
   ],
   "source": [
    "task2_fig = plt.figure(figsize=(8, 8))\n",
    "ax = task2_fig.add_subplot(111)\n",
    "ax.set_xlim((task2_X[0], task2_X[-1]))\n",
    "ax.set_ylim((-3, 60000))\n",
    "task2_simABC = task2_myplot_sample_lines(task2_mu_n, task2_sigma_n, 10)"
   ]
  },
  {
   "cell_type": "code",
   "execution_count": null,
   "id": "7295617a",
   "metadata": {},
   "outputs": [],
   "source": []
  }
 ],
 "metadata": {
  "kernelspec": {
   "display_name": "Python 3 (ipykernel)",
   "language": "python",
   "name": "python3"
  },
  "language_info": {
   "codemirror_mode": {
    "name": "ipython",
    "version": 3
   },
   "file_extension": ".py",
   "mimetype": "text/x-python",
   "name": "python",
   "nbconvert_exporter": "python",
   "pygments_lexer": "ipython3",
   "version": "3.9.7"
  }
 },
 "nbformat": 4,
 "nbformat_minor": 5
}
