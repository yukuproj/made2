{
  "cells": [
    {
      "cell_type": "markdown",
      "metadata": {
        "id": "view-in-github",
        "colab_type": "text"
      },
      "source": [
        "<a href=\"https://colab.research.google.com/github/yukuproj/made2/blob/main/hw2_what_where_when.ipynb\" target=\"_parent\"><img src=\"https://colab.research.google.com/assets/colab-badge.svg\" alt=\"Open In Colab\"/></a>"
      ]
    },
    {
      "cell_type": "markdown",
      "metadata": {
        "id": "oQzDWsv9fOa_"
      },
      "source": [
        "# Что? Где? Когда? Рейтинги homework 2\n",
        "\n",
        "\n"
      ]
    },
    {
      "cell_type": "code",
      "execution_count": 1,
      "metadata": {
        "id": "gliVGLhUfObE"
      },
      "outputs": [],
      "source": [
        "import numpy as np\n",
        "import pandas as pd\n",
        "import pickle\n",
        "import re\n",
        "import scipy.stats as stats\n",
        "from sklearn.preprocessing import OneHotEncoder\n",
        "from sklearn.linear_model import LogisticRegression\n",
        "from scipy import sparse as sp\n",
        "from scipy.special import expit\n"
      ]
    },
    {
      "cell_type": "code",
      "source": [
        "ls"
      ],
      "metadata": {
        "colab": {
          "base_uri": "https://localhost:8080/"
        },
        "id": "C9_N8ZOUh3s5",
        "outputId": "e8461256-fedb-4a02-9f41-e55449e0bc23"
      },
      "execution_count": 2,
      "outputs": [
        {
          "output_type": "stream",
          "name": "stdout",
          "text": [
            "\u001b[0m\u001b[01;34msample_data\u001b[0m/\n"
          ]
        }
      ]
    },
    {
      "cell_type": "code",
      "source": [
        "from google.colab import drive\n",
        "drive.mount('/content/drive')"
      ],
      "metadata": {
        "colab": {
          "base_uri": "https://localhost:8080/"
        },
        "id": "0yd-Gjp7ftIR",
        "outputId": "20c5f9d0-2bbf-4c8d-8f73-536bd14c9778"
      },
      "execution_count": 3,
      "outputs": [
        {
          "output_type": "stream",
          "name": "stdout",
          "text": [
            "Mounted at /content/drive\n"
          ]
        }
      ]
    },
    {
      "cell_type": "markdown",
      "metadata": {
        "id": "KIfC9bTQfObG"
      },
      "source": [
        "## 1. Чтение"
      ]
    },
    {
      "cell_type": "code",
      "source": [
        "players_file = \"/content/drive/MyDrive/made2_ml_hw2/players.pkl\"\n",
        "results_file = \"/content/drive/MyDrive/made2_ml_hw2/results.pkl\"\n",
        "tournaments_file = (\"/content/drive/MyDrive/made2_ml_hw2/tournaments.pkl\")\n",
        "\n",
        "with open(players_file, 'rb') as fin:\n",
        "     players_data = pickle.load(fin)\n",
        "\n",
        "with open(results_file, 'rb') as fin:\n",
        "     results_data = pickle.load(fin)     "
      ],
      "metadata": {
        "id": "WxpMudD7gcUT"
      },
      "execution_count": 4,
      "outputs": []
    },
    {
      "cell_type": "code",
      "source": [
        "with open(tournaments_file, 'rb') as fin:\n",
        "     tournaments_data = pickle.load(fin)"
      ],
      "metadata": {
        "id": "TT1qr4ImOFr7"
      },
      "execution_count": 52,
      "outputs": []
    },
    {
      "cell_type": "markdown",
      "metadata": {
        "id": "lZv3E-rGfObO"
      },
      "source": [
        "Filtering data"
      ]
    },
    {
      "cell_type": "code",
      "execution_count": 6,
      "metadata": {
        "id": "XC7pbJETfObO"
      },
      "outputs": [],
      "source": [
        "def isOk(tr):\n",
        "    rez1 = tr.get('mask') and tr.get('teamMembers')    \n",
        "    rez2 = len(tr.get('teamMembers')) > 0    \n",
        "    rez3 = all(players_data.get(tm['player']['id']) for tm in tr.get('teamMembers'))\n",
        "    if not(rez1 and rez2 and rez3):  ##  нет состава команд или детализации по вопросам\n",
        "      return False\n",
        "    rez4 = not re.findall('[^01]', tr.get('mask'))   ## нет четких ответов\n",
        "    return rez4"
      ]
    },
    {
      "cell_type": "code",
      "execution_count": 7,
      "metadata": {
        "id": "6JAId2yifObP"
      },
      "outputs": [],
      "source": [
        "results_filtered = {}\n",
        "tournaments_filtered = {}\n",
        "\n",
        "for t_id, team_results in results_data.items():\n",
        "    team_results_filtered = [tr for tr in team_results if isOk(tr)]\n",
        "    if (len(team_results_filtered) > 0):\n",
        "        results_filtered[t_id] = team_results_filtered\n",
        "        tournaments_filtered[t_id] = tournaments_data[t_id]"
      ]
    },
    {
      "cell_type": "code",
      "execution_count": 8,
      "metadata": {
        "id": "oySK9EtYfObQ"
      },
      "outputs": [],
      "source": [
        "tournaments_train = {k: v for k, v in tournaments_filtered.items() if v['dateStart'][:4] == '2019'}  ## тестовая выборка -турниры за 2020 год\n",
        "tournaments_test  = {k: v for k, v in tournaments_filtered.items() if v['dateStart'][:4] == '2020'}  ## обучающая выборка - турниры за 2019 год"
      ]
    },
    {
      "cell_type": "code",
      "execution_count": 9,
      "metadata": {
        "id": "Y6xlIDgffObR",
        "outputId": "fe3b0549-a94c-4549-8e8b-a49b964073f6",
        "colab": {
          "base_uri": "https://localhost:8080/"
        }
      },
      "outputs": [
        {
          "output_type": "stream",
          "name": "stdout",
          "text": [
            "Размер обучающей выборки: 616\n",
            "Размер тестовой выборки:  160\n"
          ]
        }
      ],
      "source": [
        "print(f'Размер обучающей выборки: {len(tournaments_train)}')\n",
        "print(f'Размер тестовой выборки:  {len(tournaments_test)}')"
      ]
    },
    {
      "cell_type": "markdown",
      "metadata": {
        "id": "u3xULCXLfObR"
      },
      "source": [
        "## 2. Baseline-модель"
      ]
    },
    {
      "cell_type": "markdown",
      "metadata": {
        "id": "qJT0nqsEfObS"
      },
      "source": [
        "Будем предполагать что игрок отвечает точно также как и его команда. Т.е. если команда на вопрос ответила, то это значит, что и каждый игрок внутри команды тоже способен был самостоятельно ответить на вопрос. И обратно, более естественное требование, если команда не ответила, то не смог бы ответить и каждый игрок. \n",
        "\n",
        "Будем считать что модель устроена как логистическая регрессия, в которой в качестве аргументов являются метки игрока и метка вопроса. Неизвестными коэффициентами в этой регрессии будут являться \"уровень\" игрока и \"сложность вопроса\". При этом обучаться будем на 0 или 1 в зависимости от того, ответил ли игрок на вопрос или нет.\n",
        "\n",
        "Для определения переменных модели закодируем игрока и вопрос в с помощью OneHotEncoding представления. Входной вектор для обучения тогда - это вектор из нулей и единиц, где единицы соответствуют конкретному игроку и конкретному вопросу на который он отвечает, а ответ - 0 или 1 в зависимости от того, ответил ли игрок на вопрос. \n",
        "\n",
        "\n"
      ]
    },
    {
      "cell_type": "code",
      "execution_count": 10,
      "metadata": {
        "id": "CCJHQCGzfObS"
      },
      "outputs": [],
      "source": [
        "\n",
        "train_table = []\n",
        "max_question_id = 0\n",
        "for tour_id, _ in tournaments_train.items():\n",
        "    for team_result in results_filtered[tour_id]:\n",
        "        team_id = team_result['team']['id']\n",
        "        mask = np.array([np.int32(answer) for answer in team_result['mask']])\n",
        "        players = team_result['teamMembers']\n",
        "        questions = np.arange(max_question_id, max_question_id + len(mask))\n",
        "        \n",
        "        for player in players:\n",
        "            player_id = player['player']['id']\n",
        "            for i in range(len(mask)):\n",
        "                train_table.append([tour_id, team_id, player_id, questions[i], mask[i]])\n",
        "    max_question_id += len(mask)    \n",
        "        \n",
        "train_df = pd.DataFrame(train_table, columns = ['tour_id', 'team_id', 'player_id', 'question_id', 'answer'])      "
      ]
    },
    {
      "cell_type": "code",
      "execution_count": 11,
      "metadata": {
        "id": "pF8MzHNYfObT"
      },
      "outputs": [],
      "source": [
        "ohe = OneHotEncoder(handle_unknown='ignore')\n",
        "X_train = ohe.fit_transform(train_df[['player_id', 'question_id']])\n",
        "y_train = train_df['answer']"
      ]
    },
    {
      "cell_type": "code",
      "source": [
        "del tournaments_data \n",
        "del results_data  "
      ],
      "metadata": {
        "id": "FIBfY_fZ50d1"
      },
      "execution_count": 12,
      "outputs": []
    },
    {
      "cell_type": "code",
      "execution_count": 13,
      "metadata": {
        "id": "nFn2OqYYfObT",
        "outputId": "8a3c1c5e-52a8-4d03-e4fd-9d68ff8675b5",
        "colab": {
          "base_uri": "https://localhost:8080/"
        }
      },
      "outputs": [
        {
          "output_type": "execute_result",
          "data": {
            "text/plain": [
              "LogisticRegression(n_jobs=-1)"
            ]
          },
          "metadata": {},
          "execution_count": 13
        }
      ],
      "source": [
        "lr = LogisticRegression(n_jobs = -1)\n",
        "lr.fit(X_train, y_train)"
      ]
    },
    {
      "cell_type": "code",
      "execution_count": 16,
      "metadata": {
        "id": "R9eClOiJfObU"
      },
      "outputs": [],
      "source": [
        "active_players = np.unique(train_df['player_id'])\n",
        "rating = pd.DataFrame({'id': active_players, 'coef': lr.coef_[0][:len(active_players)], 'name': [(players_data[i]['name'] + ' ' + players_data[i]['surname']) for i in active_players]})"
      ]
    },
    {
      "cell_type": "code",
      "source": [
        ""
      ],
      "metadata": {
        "id": "OIbxcXpI2WJN"
      },
      "execution_count": 12,
      "outputs": []
    },
    {
      "cell_type": "code",
      "execution_count": 15,
      "metadata": {
        "id": "pii1g37ZfObU",
        "outputId": "8487d481-5b39-42cd-90f4-a7e5a5319e8e",
        "colab": {
          "base_uri": "https://localhost:8080/",
          "height": 1000
        }
      },
      "outputs": [
        {
          "output_type": "execute_result",
          "data": {
            "text/plain": [
              "         id      coef                   name\n",
              "3803  27403  3.589675           Максим Руссо\n",
              "593    4270  3.537738      Александра Брутер\n",
              "5106  37047  3.384659            Мария Юнгер\n",
              "3991  28751  3.311466           Иван Семушин\n",
              "5289  38196  3.247600       Артём Митрофанов\n",
              "513    3671  3.213598   Алексей Богословский\n",
              "3874  27822  3.200231       Михаил Савченков\n",
              "4176  30152  3.135241         Артём Сорожкин\n",
              "583    4226  3.118063         Сусанна Бровер\n",
              "6633  56647  3.102888       Наталья Горелова\n",
              "9499  90664  3.095764          Иван Ермолаев\n",
              "534    3843  3.076998       Светлана Бомешко\n",
              "4196  30270  3.056109         Сергей Спешков\n",
              "1689  12307  3.024707      Светлана Иванцова\n",
              "3622  26089  3.014711       Ирина Прокофьева\n",
              "2359  16837  3.011367      Наталья Кудряшова\n",
              "9199  87637  3.005028         Антон Саксонов\n",
              "3178  22799  3.001048       Сергей Николенко\n",
              "409    2998  2.977524     Алексей Белоглазов\n",
              "2949  21137  2.974952        Кирилл Михайлов\n",
              "3229  23178  2.963567     Елизавета Овдеенко\n",
              "2109  15123  2.959482      Ирина Колесникова\n",
              "1934  14025  2.948539    Александра Киланова\n",
              "2531  18036  2.946829    Михаил Левандовский\n",
              "2884  20691  2.942830  Станислав Мереминский\n",
              "3578  25757  2.941643         Мария Летюхина\n",
              "3026  21698  2.941610      Александр Мосягин\n",
              "2551  18194  2.937883       Мария Кленницкая\n",
              "8063  74001  2.932121            Игорь Мокин\n",
              "4719  34328  2.923112           Михаил Царёв\n",
              "1376   9834  2.919986        Ольга Дубинская\n",
              "3319  23737  2.919912      Андрей Островский\n",
              "4935  35877  2.902910        Богдан Шевченко\n",
              "7073  62252  2.896533            Тимур Боков\n",
              "4800  34846  2.896348           Антон Чернин\n",
              "1889  13689  2.895026        Дмитрий Карякин\n",
              "3195  22935  2.879867           Илья Новиков\n",
              "2781  19915  2.878160       Александр Марков\n",
              "66      505  2.862926      Иделия Айзятулова\n",
              "3396  24384  2.856502     Евгений Пашковский\n",
              "8101  74382  2.854329       Михаил Новосёлов\n",
              "866    6212  2.847590           Юрий Выменец\n",
              "2172  15595  2.835809     Кристина Кораблина\n",
              "2053  14786  2.828725      Николай Коврижных\n",
              "2571  18332  2.828668        Александр Либер\n",
              "3982  28689  2.823008          Инна Семёнова\n",
              "1265   9061  2.816094          Евгений Дёмин\n",
              "3844  27622  2.814434          Николай Рябых\n",
              "2285  16332  2.808570        Николай Крапиль\n",
              "7756  70750  2.804156      Денис Галиакберов"
            ],
            "text/html": [
              "\n",
              "  <div id=\"df-f183cb1e-1e33-4f6d-ae35-a98311c98b84\">\n",
              "    <div class=\"colab-df-container\">\n",
              "      <div>\n",
              "<style scoped>\n",
              "    .dataframe tbody tr th:only-of-type {\n",
              "        vertical-align: middle;\n",
              "    }\n",
              "\n",
              "    .dataframe tbody tr th {\n",
              "        vertical-align: top;\n",
              "    }\n",
              "\n",
              "    .dataframe thead th {\n",
              "        text-align: right;\n",
              "    }\n",
              "</style>\n",
              "<table border=\"1\" class=\"dataframe\">\n",
              "  <thead>\n",
              "    <tr style=\"text-align: right;\">\n",
              "      <th></th>\n",
              "      <th>id</th>\n",
              "      <th>coef</th>\n",
              "      <th>name</th>\n",
              "    </tr>\n",
              "  </thead>\n",
              "  <tbody>\n",
              "    <tr>\n",
              "      <th>3803</th>\n",
              "      <td>27403</td>\n",
              "      <td>3.589675</td>\n",
              "      <td>Максим Руссо</td>\n",
              "    </tr>\n",
              "    <tr>\n",
              "      <th>593</th>\n",
              "      <td>4270</td>\n",
              "      <td>3.537738</td>\n",
              "      <td>Александра Брутер</td>\n",
              "    </tr>\n",
              "    <tr>\n",
              "      <th>5106</th>\n",
              "      <td>37047</td>\n",
              "      <td>3.384659</td>\n",
              "      <td>Мария Юнгер</td>\n",
              "    </tr>\n",
              "    <tr>\n",
              "      <th>3991</th>\n",
              "      <td>28751</td>\n",
              "      <td>3.311466</td>\n",
              "      <td>Иван Семушин</td>\n",
              "    </tr>\n",
              "    <tr>\n",
              "      <th>5289</th>\n",
              "      <td>38196</td>\n",
              "      <td>3.247600</td>\n",
              "      <td>Артём Митрофанов</td>\n",
              "    </tr>\n",
              "    <tr>\n",
              "      <th>513</th>\n",
              "      <td>3671</td>\n",
              "      <td>3.213598</td>\n",
              "      <td>Алексей Богословский</td>\n",
              "    </tr>\n",
              "    <tr>\n",
              "      <th>3874</th>\n",
              "      <td>27822</td>\n",
              "      <td>3.200231</td>\n",
              "      <td>Михаил Савченков</td>\n",
              "    </tr>\n",
              "    <tr>\n",
              "      <th>4176</th>\n",
              "      <td>30152</td>\n",
              "      <td>3.135241</td>\n",
              "      <td>Артём Сорожкин</td>\n",
              "    </tr>\n",
              "    <tr>\n",
              "      <th>583</th>\n",
              "      <td>4226</td>\n",
              "      <td>3.118063</td>\n",
              "      <td>Сусанна Бровер</td>\n",
              "    </tr>\n",
              "    <tr>\n",
              "      <th>6633</th>\n",
              "      <td>56647</td>\n",
              "      <td>3.102888</td>\n",
              "      <td>Наталья Горелова</td>\n",
              "    </tr>\n",
              "    <tr>\n",
              "      <th>9499</th>\n",
              "      <td>90664</td>\n",
              "      <td>3.095764</td>\n",
              "      <td>Иван Ермолаев</td>\n",
              "    </tr>\n",
              "    <tr>\n",
              "      <th>534</th>\n",
              "      <td>3843</td>\n",
              "      <td>3.076998</td>\n",
              "      <td>Светлана Бомешко</td>\n",
              "    </tr>\n",
              "    <tr>\n",
              "      <th>4196</th>\n",
              "      <td>30270</td>\n",
              "      <td>3.056109</td>\n",
              "      <td>Сергей Спешков</td>\n",
              "    </tr>\n",
              "    <tr>\n",
              "      <th>1689</th>\n",
              "      <td>12307</td>\n",
              "      <td>3.024707</td>\n",
              "      <td>Светлана Иванцова</td>\n",
              "    </tr>\n",
              "    <tr>\n",
              "      <th>3622</th>\n",
              "      <td>26089</td>\n",
              "      <td>3.014711</td>\n",
              "      <td>Ирина Прокофьева</td>\n",
              "    </tr>\n",
              "    <tr>\n",
              "      <th>2359</th>\n",
              "      <td>16837</td>\n",
              "      <td>3.011367</td>\n",
              "      <td>Наталья Кудряшова</td>\n",
              "    </tr>\n",
              "    <tr>\n",
              "      <th>9199</th>\n",
              "      <td>87637</td>\n",
              "      <td>3.005028</td>\n",
              "      <td>Антон Саксонов</td>\n",
              "    </tr>\n",
              "    <tr>\n",
              "      <th>3178</th>\n",
              "      <td>22799</td>\n",
              "      <td>3.001048</td>\n",
              "      <td>Сергей Николенко</td>\n",
              "    </tr>\n",
              "    <tr>\n",
              "      <th>409</th>\n",
              "      <td>2998</td>\n",
              "      <td>2.977524</td>\n",
              "      <td>Алексей Белоглазов</td>\n",
              "    </tr>\n",
              "    <tr>\n",
              "      <th>2949</th>\n",
              "      <td>21137</td>\n",
              "      <td>2.974952</td>\n",
              "      <td>Кирилл Михайлов</td>\n",
              "    </tr>\n",
              "    <tr>\n",
              "      <th>3229</th>\n",
              "      <td>23178</td>\n",
              "      <td>2.963567</td>\n",
              "      <td>Елизавета Овдеенко</td>\n",
              "    </tr>\n",
              "    <tr>\n",
              "      <th>2109</th>\n",
              "      <td>15123</td>\n",
              "      <td>2.959482</td>\n",
              "      <td>Ирина Колесникова</td>\n",
              "    </tr>\n",
              "    <tr>\n",
              "      <th>1934</th>\n",
              "      <td>14025</td>\n",
              "      <td>2.948539</td>\n",
              "      <td>Александра Киланова</td>\n",
              "    </tr>\n",
              "    <tr>\n",
              "      <th>2531</th>\n",
              "      <td>18036</td>\n",
              "      <td>2.946829</td>\n",
              "      <td>Михаил Левандовский</td>\n",
              "    </tr>\n",
              "    <tr>\n",
              "      <th>2884</th>\n",
              "      <td>20691</td>\n",
              "      <td>2.942830</td>\n",
              "      <td>Станислав Мереминский</td>\n",
              "    </tr>\n",
              "    <tr>\n",
              "      <th>3578</th>\n",
              "      <td>25757</td>\n",
              "      <td>2.941643</td>\n",
              "      <td>Мария Летюхина</td>\n",
              "    </tr>\n",
              "    <tr>\n",
              "      <th>3026</th>\n",
              "      <td>21698</td>\n",
              "      <td>2.941610</td>\n",
              "      <td>Александр Мосягин</td>\n",
              "    </tr>\n",
              "    <tr>\n",
              "      <th>2551</th>\n",
              "      <td>18194</td>\n",
              "      <td>2.937883</td>\n",
              "      <td>Мария Кленницкая</td>\n",
              "    </tr>\n",
              "    <tr>\n",
              "      <th>8063</th>\n",
              "      <td>74001</td>\n",
              "      <td>2.932121</td>\n",
              "      <td>Игорь Мокин</td>\n",
              "    </tr>\n",
              "    <tr>\n",
              "      <th>4719</th>\n",
              "      <td>34328</td>\n",
              "      <td>2.923112</td>\n",
              "      <td>Михаил Царёв</td>\n",
              "    </tr>\n",
              "    <tr>\n",
              "      <th>1376</th>\n",
              "      <td>9834</td>\n",
              "      <td>2.919986</td>\n",
              "      <td>Ольга Дубинская</td>\n",
              "    </tr>\n",
              "    <tr>\n",
              "      <th>3319</th>\n",
              "      <td>23737</td>\n",
              "      <td>2.919912</td>\n",
              "      <td>Андрей Островский</td>\n",
              "    </tr>\n",
              "    <tr>\n",
              "      <th>4935</th>\n",
              "      <td>35877</td>\n",
              "      <td>2.902910</td>\n",
              "      <td>Богдан Шевченко</td>\n",
              "    </tr>\n",
              "    <tr>\n",
              "      <th>7073</th>\n",
              "      <td>62252</td>\n",
              "      <td>2.896533</td>\n",
              "      <td>Тимур Боков</td>\n",
              "    </tr>\n",
              "    <tr>\n",
              "      <th>4800</th>\n",
              "      <td>34846</td>\n",
              "      <td>2.896348</td>\n",
              "      <td>Антон Чернин</td>\n",
              "    </tr>\n",
              "    <tr>\n",
              "      <th>1889</th>\n",
              "      <td>13689</td>\n",
              "      <td>2.895026</td>\n",
              "      <td>Дмитрий Карякин</td>\n",
              "    </tr>\n",
              "    <tr>\n",
              "      <th>3195</th>\n",
              "      <td>22935</td>\n",
              "      <td>2.879867</td>\n",
              "      <td>Илья Новиков</td>\n",
              "    </tr>\n",
              "    <tr>\n",
              "      <th>2781</th>\n",
              "      <td>19915</td>\n",
              "      <td>2.878160</td>\n",
              "      <td>Александр Марков</td>\n",
              "    </tr>\n",
              "    <tr>\n",
              "      <th>66</th>\n",
              "      <td>505</td>\n",
              "      <td>2.862926</td>\n",
              "      <td>Иделия Айзятулова</td>\n",
              "    </tr>\n",
              "    <tr>\n",
              "      <th>3396</th>\n",
              "      <td>24384</td>\n",
              "      <td>2.856502</td>\n",
              "      <td>Евгений Пашковский</td>\n",
              "    </tr>\n",
              "    <tr>\n",
              "      <th>8101</th>\n",
              "      <td>74382</td>\n",
              "      <td>2.854329</td>\n",
              "      <td>Михаил Новосёлов</td>\n",
              "    </tr>\n",
              "    <tr>\n",
              "      <th>866</th>\n",
              "      <td>6212</td>\n",
              "      <td>2.847590</td>\n",
              "      <td>Юрий Выменец</td>\n",
              "    </tr>\n",
              "    <tr>\n",
              "      <th>2172</th>\n",
              "      <td>15595</td>\n",
              "      <td>2.835809</td>\n",
              "      <td>Кристина Кораблина</td>\n",
              "    </tr>\n",
              "    <tr>\n",
              "      <th>2053</th>\n",
              "      <td>14786</td>\n",
              "      <td>2.828725</td>\n",
              "      <td>Николай Коврижных</td>\n",
              "    </tr>\n",
              "    <tr>\n",
              "      <th>2571</th>\n",
              "      <td>18332</td>\n",
              "      <td>2.828668</td>\n",
              "      <td>Александр Либер</td>\n",
              "    </tr>\n",
              "    <tr>\n",
              "      <th>3982</th>\n",
              "      <td>28689</td>\n",
              "      <td>2.823008</td>\n",
              "      <td>Инна Семёнова</td>\n",
              "    </tr>\n",
              "    <tr>\n",
              "      <th>1265</th>\n",
              "      <td>9061</td>\n",
              "      <td>2.816094</td>\n",
              "      <td>Евгений Дёмин</td>\n",
              "    </tr>\n",
              "    <tr>\n",
              "      <th>3844</th>\n",
              "      <td>27622</td>\n",
              "      <td>2.814434</td>\n",
              "      <td>Николай Рябых</td>\n",
              "    </tr>\n",
              "    <tr>\n",
              "      <th>2285</th>\n",
              "      <td>16332</td>\n",
              "      <td>2.808570</td>\n",
              "      <td>Николай Крапиль</td>\n",
              "    </tr>\n",
              "    <tr>\n",
              "      <th>7756</th>\n",
              "      <td>70750</td>\n",
              "      <td>2.804156</td>\n",
              "      <td>Денис Галиакберов</td>\n",
              "    </tr>\n",
              "  </tbody>\n",
              "</table>\n",
              "</div>\n",
              "      <button class=\"colab-df-convert\" onclick=\"convertToInteractive('df-f183cb1e-1e33-4f6d-ae35-a98311c98b84')\"\n",
              "              title=\"Convert this dataframe to an interactive table.\"\n",
              "              style=\"display:none;\">\n",
              "        \n",
              "  <svg xmlns=\"http://www.w3.org/2000/svg\" height=\"24px\"viewBox=\"0 0 24 24\"\n",
              "       width=\"24px\">\n",
              "    <path d=\"M0 0h24v24H0V0z\" fill=\"none\"/>\n",
              "    <path d=\"M18.56 5.44l.94 2.06.94-2.06 2.06-.94-2.06-.94-.94-2.06-.94 2.06-2.06.94zm-11 1L8.5 8.5l.94-2.06 2.06-.94-2.06-.94L8.5 2.5l-.94 2.06-2.06.94zm10 10l.94 2.06.94-2.06 2.06-.94-2.06-.94-.94-2.06-.94 2.06-2.06.94z\"/><path d=\"M17.41 7.96l-1.37-1.37c-.4-.4-.92-.59-1.43-.59-.52 0-1.04.2-1.43.59L10.3 9.45l-7.72 7.72c-.78.78-.78 2.05 0 2.83L4 21.41c.39.39.9.59 1.41.59.51 0 1.02-.2 1.41-.59l7.78-7.78 2.81-2.81c.8-.78.8-2.07 0-2.86zM5.41 20L4 18.59l7.72-7.72 1.47 1.35L5.41 20z\"/>\n",
              "  </svg>\n",
              "      </button>\n",
              "      \n",
              "  <style>\n",
              "    .colab-df-container {\n",
              "      display:flex;\n",
              "      flex-wrap:wrap;\n",
              "      gap: 12px;\n",
              "    }\n",
              "\n",
              "    .colab-df-convert {\n",
              "      background-color: #E8F0FE;\n",
              "      border: none;\n",
              "      border-radius: 50%;\n",
              "      cursor: pointer;\n",
              "      display: none;\n",
              "      fill: #1967D2;\n",
              "      height: 32px;\n",
              "      padding: 0 0 0 0;\n",
              "      width: 32px;\n",
              "    }\n",
              "\n",
              "    .colab-df-convert:hover {\n",
              "      background-color: #E2EBFA;\n",
              "      box-shadow: 0px 1px 2px rgba(60, 64, 67, 0.3), 0px 1px 3px 1px rgba(60, 64, 67, 0.15);\n",
              "      fill: #174EA6;\n",
              "    }\n",
              "\n",
              "    [theme=dark] .colab-df-convert {\n",
              "      background-color: #3B4455;\n",
              "      fill: #D2E3FC;\n",
              "    }\n",
              "\n",
              "    [theme=dark] .colab-df-convert:hover {\n",
              "      background-color: #434B5C;\n",
              "      box-shadow: 0px 1px 3px 1px rgba(0, 0, 0, 0.15);\n",
              "      filter: drop-shadow(0px 1px 2px rgba(0, 0, 0, 0.3));\n",
              "      fill: #FFFFFF;\n",
              "    }\n",
              "  </style>\n",
              "\n",
              "      <script>\n",
              "        const buttonEl =\n",
              "          document.querySelector('#df-f183cb1e-1e33-4f6d-ae35-a98311c98b84 button.colab-df-convert');\n",
              "        buttonEl.style.display =\n",
              "          google.colab.kernel.accessAllowed ? 'block' : 'none';\n",
              "\n",
              "        async function convertToInteractive(key) {\n",
              "          const element = document.querySelector('#df-f183cb1e-1e33-4f6d-ae35-a98311c98b84');\n",
              "          const dataTable =\n",
              "            await google.colab.kernel.invokeFunction('convertToInteractive',\n",
              "                                                     [key], {});\n",
              "          if (!dataTable) return;\n",
              "\n",
              "          const docLinkHtml = 'Like what you see? Visit the ' +\n",
              "            '<a target=\"_blank\" href=https://colab.research.google.com/notebooks/data_table.ipynb>data table notebook</a>'\n",
              "            + ' to learn more about interactive tables.';\n",
              "          element.innerHTML = '';\n",
              "          dataTable['output_type'] = 'display_data';\n",
              "          await google.colab.output.renderOutput(dataTable, element);\n",
              "          const docLink = document.createElement('div');\n",
              "          docLink.innerHTML = docLinkHtml;\n",
              "          element.appendChild(docLink);\n",
              "        }\n",
              "      </script>\n",
              "    </div>\n",
              "  </div>\n",
              "  "
            ]
          },
          "metadata": {},
          "execution_count": 15
        }
      ],
      "source": [
        "rating.sort_values(by='coef', ascending=False).head(50)"
      ]
    },
    {
      "cell_type": "code",
      "source": [
        "\n",
        "\n",
        "del players_data  \n"
      ],
      "metadata": {
        "id": "8fWK6wiV32gf"
      },
      "execution_count": null,
      "outputs": []
    },
    {
      "cell_type": "markdown",
      "metadata": {
        "id": "Bp1zJKBUfObV"
      },
      "source": [
        "## 3. Качество рейтинговой системы"
      ]
    },
    {
      "cell_type": "markdown",
      "metadata": {
        "id": "MrelY8NLfObV"
      },
      "source": [
        "Качество рейтинг-системы оценивается качеством предсказаний результатов турниров.\n",
        "\n",
        "Чтобы оценить качество, возьмем тестовую выборку и для каждого вопроса будем считать, что чтобы команда ответила на вопрос надо чтобы хотя бы один игрок ответил на этот вопрос.\n"
      ]
    },
    {
      "cell_type": "code",
      "execution_count": 17,
      "metadata": {
        "id": "lEIYGjQ0fObV"
      },
      "outputs": [],
      "source": [
        "test_table = []\n",
        "\n",
        "for tournament_id, tournament in tournaments_test.items():\n",
        "    for team_result in results_filtered[tournament_id]:\n",
        "        team_id = team_result['team']['id']\n",
        "        mask = np.array([np.int32(answer) for answer in team_result['mask']])\n",
        "        players = team_result['teamMembers']\n",
        "        \n",
        "        for player in players:\n",
        "            player_id = player['player']['id']\n",
        "            if player_id not in active_players:\n",
        "                continue\n",
        "            test_table.append([tournament_id, team_id, player_id, -1, sum(mask), len(mask)])  \n",
        "        \n",
        "test_df = pd.DataFrame(test_table, columns = ['tournament_id', 'team_id', 'player_id', 'question_id', 'correct_answers', 'total_answers'])      "
      ]
    },
    {
      "cell_type": "code",
      "execution_count": 18,
      "metadata": {
        "id": "cSJfmbyefObW"
      },
      "outputs": [],
      "source": [
        "X_test = test_df[['player_id', 'question_id']]\n",
        "X_test = ohe.transform(X_test)\n",
        "predictions = lr.predict_proba(X_test)[:, 1]"
      ]
    },
    {
      "cell_type": "code",
      "execution_count": 19,
      "metadata": {
        "id": "_XtuEZfKfObW"
      },
      "outputs": [],
      "source": [
        "def compute_scores(data, preds):\n",
        "    data['pred'] = preds\n",
        "    data['score'] = data.groupby(['tournament_id', 'team_id'])['pred'].transform(lambda x: 1 - np.prod(1 - x))\n",
        "    rating = data[['tournament_id', 'team_id', 'correct_answers', 'score']].drop_duplicates().reset_index(drop=True)\n",
        "    \n",
        "    # Считаем реальный рейтинг команд\n",
        "    rating = rating.sort_values(by=['tournament_id', 'correct_answers'], ascending=False)\n",
        "    rating['real_rank'] = rating.groupby('tournament_id')['correct_answers'].transform(lambda x: np.arange(1, len(x) + 1))\n",
        "    \n",
        "    # Считаем предсказанный рейтинг\n",
        "    rating = rating.sort_values(by=['tournament_id', 'score'], ascending=False)\n",
        "    rating['pred_rank'] = rating.groupby('tournament_id')['score'].transform(lambda x: np.arange(1, len(x) + 1))\n",
        "\n",
        "    rating = rating.astype(np.int32)\n",
        "    \n",
        "    print(f\"Корреляция Спирмана: {rating.groupby('tournament_id').apply(lambda x: stats.spearmanr(x['real_rank'], x['pred_rank']).correlation).mean()}\")\n",
        "    print(f\"Корреляция Кендалла: {rating.groupby('tournament_id').apply(lambda x: stats.kendalltau(x['real_rank'], x['pred_rank']).correlation).mean()}\")"
      ]
    },
    {
      "cell_type": "code",
      "execution_count": 20,
      "metadata": {
        "id": "ORW6ilbXfObW",
        "outputId": "51d66e9a-d119-4f8a-d0fb-52843a5ca7bd",
        "colab": {
          "base_uri": "https://localhost:8080/"
        }
      },
      "outputs": [
        {
          "output_type": "stream",
          "name": "stdout",
          "text": [
            "Корреляция Спирмана: 0.7672515187411473\n",
            "Корреляция Кендалла: 0.5987298826719607\n"
          ]
        }
      ],
      "source": [
        "compute_scores(test_df, predictions)"
      ]
    },
    {
      "cell_type": "markdown",
      "metadata": {
        "id": "AwDv7OXSfObX"
      },
      "source": [
        "## 4. EM алгоритм"
      ]
    },
    {
      "cell_type": "markdown",
      "metadata": {
        "id": "ZQoubuzmfObX"
      },
      "source": [
        "Будем считать, что теперь все игроки в команде могли отвечать по-разному. Даже если вся команда ответила на вопрос, то будем считать, что это не означает, что каждый ответил на вопрос. Если же команда не ответила на вопрос, то как и ранее будем считать, что каждый из игроков на вопрос не ответил.\n",
        "\n",
        "Формально можно считать, что для каждого вопроса j и каждого игрока i есть некоторая случайная ненаблюдаемая! величина z_i_j, которая принимает два значения 0 или 1 в зависимости от того, смог бы игрок i самостоятельно ответить на вопрос j.\n",
        "\n",
        "Сами значения z_i_j мы непосредственно не наблюдаем, поскольку они замешаны с ответами команды и результаты игрока оказываются зашумлены ответами команды. Однако, ответы команды и ответы игрока коррелированы, что даст возможность через ответы команды получить некоторую информацию об гипотетических ответах самого игрока.\n",
        "\n",
        "Подсчитаем условную вероятность того, что игрок ответит, при условии что его команда не ответила (очевидно эта вероятность 0) и при условии, что его команда ответила: \n",
        "\n",
        " "
      ]
    },
    {
      "cell_type": "markdown",
      "metadata": {
        "id": "Eolt7XEafObY"
      },
      "source": [
        "Введем новые обозначения\n",
        "\n",
        "Пусть \n",
        " $P (z_{i,j}=1| x) $ - условная вероятность того, что игрок ответит на вопрос, при условии что его команда ответит на вопрос либо верно (x=1), либо неверно (x=0).\n",
        "\n",
        "Как уже отмечалось,  $P (z_{i,j}=1| x=0) = 0$ - если команда не ответила на вопрос, то и каждый игрок не стал бы утаивать правильный ответ и значит сам бы не ответил на вопрос.\n",
        "\n",
        "Если же команда ответила на вопрос, условная вероятность сложнее (по формуле полной вероятности):\n",
        " \n",
        " $P (z_{i,j}=1| x=1) = \\frac{P(z_{i,j}=1)}{P(x=1)} = \\frac{P(z_{i,j}=1)} {1-(1-P(z_{i_{1},j }=1))...(1-P(z_{i_{n},j }=1))}$\n",
        "\n",
        " где $z_{i_{k},j }$ - аналогичные события что игрок $i_{k}$ из той же команды что и игрок i ответит верно на вопрос j. Произведение в знаменателе по всем игрокам из команды.\n",
        "\n",
        " Алгоритм выглядит таким образом:\n",
        "\n",
        "На M шаге подбираем коэффициенты в логистической регрессии как и ранее в baseline, только в качестве целей используем не 0 или 1 как ранее, а найденные условные вероятности $P (z_{i,j}=1| x)$.\n",
        "\n",
        "На M шаге поскольку метки у нас уже мягкие (вероятности ответов, а не 0 или 1), то можно попробовать прогнать обычную регрессию на величину log(p/(1-p)).\n",
        "И потом взять логистическую функцию чтобы получить предсказание самих вероятностей.\n",
        "\n",
        "На E шаге обновляем условные вероятности\n",
        "\n",
        " $P (z_{i,j}=1| x=0) = 0$\n",
        "\n",
        " $P (z_{i,j}=1| x=1) = \\frac{P(z_{i,j}=1)}{P(x=1)} = \\frac{P(z_{i,j}=1)} {1-(1-P(z_{i_{1},j }=1))...(1-P(z_{i_{n},j }=1))}$\n",
        "\n",
        " Здесь используются предсказанные модельные вероятности полученные в конце M шага.\n",
        " \n",
        "\n",
        "\n",
        "\n"
      ]
    },
    {
      "cell_type": "code",
      "source": [
        "del players_data \n",
        "del results_data  "
      ],
      "metadata": {
        "id": "suAGPMVx_1sP"
      },
      "execution_count": null,
      "outputs": []
    },
    {
      "cell_type": "code",
      "source": [
        "from sklearn.linear_model import LinearRegression"
      ],
      "metadata": {
        "id": "Zk7CYZRSF2pp"
      },
      "execution_count": 21,
      "outputs": []
    },
    {
      "cell_type": "code",
      "source": [
        "def log_loss(y_true, y_pred):\n",
        "    return - np.mean(y_true * np.log(y_pred) + (1 - y_true) * np.log(1 - y_pred))"
      ],
      "metadata": {
        "id": "oyhUM7COAoSJ"
      },
      "execution_count": 22,
      "outputs": []
    },
    {
      "cell_type": "code",
      "source": [
        "class EMClassifier2:    \n",
        "    def __init__(self, w=None,   n_iter=1):\n",
        "        self.w = w         \n",
        "        self.n_iter = n_iter         \n",
        "                \n",
        "    def add_intercept(self, X):\n",
        "        return sp.hstack((np.ones((X.shape[0], 1)), X), format='csr')    \n",
        "        \n",
        "    def E_step(self, data, preds):\n",
        "        team_prob = pd.DataFrame({'team_id': data['team_id'], 'question_id': data['question_id'], 'team_prob': 1 - preds}).groupby(['team_id', 'question_id']).agg({'team_prob': 'prod'}).reset_index()\n",
        "\n",
        "        team_prob['team_prob'] = 1 - team_prob['team_prob']\n",
        "        team_prob = data[['team_id', 'question_id']].merge(team_prob)\n",
        "        y = np.clip(preds / team_prob['team_prob'], 0, 1).values\n",
        "        y[data['answer'] == 0] = 0\n",
        "        return y\n",
        "        \n",
        "    def M_step(self, X, y):\n",
        "        y = np.clip(y, 1e-8, 1 - 1e-8)   # numerical stability\n",
        "        inv_sig_y = np.log(y / (1 - y))  # transform to log-odds-ratio space        \n",
        "        reg = LinearRegression().fit(X, inv_sig_y)         \n",
        "        self.w = reg.coef_\n",
        "                \n",
        "    def fit(self, X_tr, train_data, X_te=None, test_data=None):\n",
        "        X_tr = self.add_intercept(X_tr)\n",
        "        for iter_ in range(self.n_iter): \n",
        "            preds = self.predict(X_tr)\n",
        "            y = self.E_step(train_data, preds)            \n",
        "            self.M_step(X_tr, y)\n",
        "            if   X_te is not None and test_data is not None :\n",
        "                predictions = self.predict(X_te)\n",
        "                compute_scores(test_data, predictions)\n",
        "                         \n",
        "    def predict(self, X):\n",
        "        if len(self.w) != X.shape[1]:\n",
        "            X = self.add_intercept(X)\n",
        "        return expit(X.dot(self.w))"
      ],
      "metadata": {
        "id": "Z73eF0tXe_l_"
      },
      "execution_count": 27,
      "outputs": []
    },
    {
      "cell_type": "code",
      "source": [
        "w_init = np.hstack([lr.intercept_, lr.coef_[0]]) # инициализация весов из baseline\n",
        "em_classifier2 = EMClassifier2(w_init, n_iter=10)\n",
        "\n",
        "em_classifier2.fit(X_train, train_df, X_test, test_df)"
      ],
      "metadata": {
        "colab": {
          "base_uri": "https://localhost:8080/"
        },
        "id": "Y0NA4G10A9oC",
        "outputId": "71b83b20-f0d7-4e7b-a170-fa1d3847bafc"
      },
      "execution_count": 29,
      "outputs": [
        {
          "output_type": "stream",
          "name": "stdout",
          "text": [
            "Корреляция Спирмана: 0.8136059012581814\n",
            "Корреляция Кендалла: 0.6596581870527517\n",
            "Корреляция Спирмана: 0.8414256878166609\n",
            "Корреляция Кендалла: 0.7158969256768031\n",
            "Корреляция Спирмана: 0.8482476331250576\n",
            "Корреляция Кендалла: 0.7291525734318489\n",
            "Корреляция Спирмана: 0.8514277778140986\n",
            "Корреляция Кендалла: 0.7341593116649628\n",
            "Корреляция Спирмана: 0.8523051242404851\n",
            "Корреляция Кендалла: 0.7356496536684254\n",
            "Корреляция Спирмана: 0.8524444450311947\n",
            "Корреляция Кендалла: 0.7358764831076257\n",
            "Корреляция Спирмана: 0.8525973246981146\n",
            "Корреляция Кендалла: 0.7362662445916536\n",
            "Корреляция Спирмана: 0.8526737499260364\n",
            "Корреляция Кендалла: 0.7366279454394613\n",
            "Корреляция Спирмана: 0.8526898172288637\n",
            "Корреляция Кендалла: 0.7366114208612989\n",
            "Корреляция Спирмана: 0.8526294797598195\n",
            "Корреляция Кендалла: 0.7364905254098512\n"
          ]
        }
      ]
    },
    {
      "cell_type": "code",
      "source": [
        "active_players = np.unique(train_df['player_id'])\n",
        "rating = pd.DataFrame({'id': active_players, 'coef': em_classifier2.w[1:(len(active_players)+1)], 'name': [(players_data[i]['name'] + ' ' + players_data[i]['surname']) for i in active_players]})"
      ],
      "metadata": {
        "id": "21dmiNLB3z1y"
      },
      "execution_count": 43,
      "outputs": []
    },
    {
      "cell_type": "code",
      "source": [
        "rating.sort_values(by='coef', ascending=False).head(65)"
      ],
      "metadata": {
        "colab": {
          "base_uri": "https://localhost:8080/",
          "height": 424
        },
        "id": "Hy7va9Lo39Ey",
        "outputId": "58c8487d-1647-41ed-87a6-0cd7ee826ddb"
      },
      "execution_count": 49,
      "outputs": [
        {
          "output_type": "execute_result",
          "data": {
            "text/plain": [
              "           id       coef               name\n",
              "5076    36844  27.584091      Павел Щербина\n",
              "3803    27403  23.053799       Максим Руссо\n",
              "5285    38175  22.721173   Максим Пилипенко\n",
              "593      4270  22.007434  Александра Брутер\n",
              "51260  213500  21.867328      Алексей Генус\n",
              "...       ...        ...                ...\n",
              "3178    22799  18.678551   Сергей Николенко\n",
              "2551    18194  18.661364   Мария Кленницкая\n",
              "892      6482  18.658229        Ким Галачян\n",
              "8955    84375  18.650609       Андрей Бужан\n",
              "6355    53686  18.597610   Мария Рубинштейн\n",
              "\n",
              "[65 rows x 3 columns]"
            ],
            "text/html": [
              "\n",
              "  <div id=\"df-769a6222-720b-4bfa-85c0-e106ae9b7d2c\">\n",
              "    <div class=\"colab-df-container\">\n",
              "      <div>\n",
              "<style scoped>\n",
              "    .dataframe tbody tr th:only-of-type {\n",
              "        vertical-align: middle;\n",
              "    }\n",
              "\n",
              "    .dataframe tbody tr th {\n",
              "        vertical-align: top;\n",
              "    }\n",
              "\n",
              "    .dataframe thead th {\n",
              "        text-align: right;\n",
              "    }\n",
              "</style>\n",
              "<table border=\"1\" class=\"dataframe\">\n",
              "  <thead>\n",
              "    <tr style=\"text-align: right;\">\n",
              "      <th></th>\n",
              "      <th>id</th>\n",
              "      <th>coef</th>\n",
              "      <th>name</th>\n",
              "    </tr>\n",
              "  </thead>\n",
              "  <tbody>\n",
              "    <tr>\n",
              "      <th>5076</th>\n",
              "      <td>36844</td>\n",
              "      <td>27.584091</td>\n",
              "      <td>Павел Щербина</td>\n",
              "    </tr>\n",
              "    <tr>\n",
              "      <th>3803</th>\n",
              "      <td>27403</td>\n",
              "      <td>23.053799</td>\n",
              "      <td>Максим Руссо</td>\n",
              "    </tr>\n",
              "    <tr>\n",
              "      <th>5285</th>\n",
              "      <td>38175</td>\n",
              "      <td>22.721173</td>\n",
              "      <td>Максим Пилипенко</td>\n",
              "    </tr>\n",
              "    <tr>\n",
              "      <th>593</th>\n",
              "      <td>4270</td>\n",
              "      <td>22.007434</td>\n",
              "      <td>Александра Брутер</td>\n",
              "    </tr>\n",
              "    <tr>\n",
              "      <th>51260</th>\n",
              "      <td>213500</td>\n",
              "      <td>21.867328</td>\n",
              "      <td>Алексей Генус</td>\n",
              "    </tr>\n",
              "    <tr>\n",
              "      <th>...</th>\n",
              "      <td>...</td>\n",
              "      <td>...</td>\n",
              "      <td>...</td>\n",
              "    </tr>\n",
              "    <tr>\n",
              "      <th>3178</th>\n",
              "      <td>22799</td>\n",
              "      <td>18.678551</td>\n",
              "      <td>Сергей Николенко</td>\n",
              "    </tr>\n",
              "    <tr>\n",
              "      <th>2551</th>\n",
              "      <td>18194</td>\n",
              "      <td>18.661364</td>\n",
              "      <td>Мария Кленницкая</td>\n",
              "    </tr>\n",
              "    <tr>\n",
              "      <th>892</th>\n",
              "      <td>6482</td>\n",
              "      <td>18.658229</td>\n",
              "      <td>Ким Галачян</td>\n",
              "    </tr>\n",
              "    <tr>\n",
              "      <th>8955</th>\n",
              "      <td>84375</td>\n",
              "      <td>18.650609</td>\n",
              "      <td>Андрей Бужан</td>\n",
              "    </tr>\n",
              "    <tr>\n",
              "      <th>6355</th>\n",
              "      <td>53686</td>\n",
              "      <td>18.597610</td>\n",
              "      <td>Мария Рубинштейн</td>\n",
              "    </tr>\n",
              "  </tbody>\n",
              "</table>\n",
              "<p>65 rows × 3 columns</p>\n",
              "</div>\n",
              "      <button class=\"colab-df-convert\" onclick=\"convertToInteractive('df-769a6222-720b-4bfa-85c0-e106ae9b7d2c')\"\n",
              "              title=\"Convert this dataframe to an interactive table.\"\n",
              "              style=\"display:none;\">\n",
              "        \n",
              "  <svg xmlns=\"http://www.w3.org/2000/svg\" height=\"24px\"viewBox=\"0 0 24 24\"\n",
              "       width=\"24px\">\n",
              "    <path d=\"M0 0h24v24H0V0z\" fill=\"none\"/>\n",
              "    <path d=\"M18.56 5.44l.94 2.06.94-2.06 2.06-.94-2.06-.94-.94-2.06-.94 2.06-2.06.94zm-11 1L8.5 8.5l.94-2.06 2.06-.94-2.06-.94L8.5 2.5l-.94 2.06-2.06.94zm10 10l.94 2.06.94-2.06 2.06-.94-2.06-.94-.94-2.06-.94 2.06-2.06.94z\"/><path d=\"M17.41 7.96l-1.37-1.37c-.4-.4-.92-.59-1.43-.59-.52 0-1.04.2-1.43.59L10.3 9.45l-7.72 7.72c-.78.78-.78 2.05 0 2.83L4 21.41c.39.39.9.59 1.41.59.51 0 1.02-.2 1.41-.59l7.78-7.78 2.81-2.81c.8-.78.8-2.07 0-2.86zM5.41 20L4 18.59l7.72-7.72 1.47 1.35L5.41 20z\"/>\n",
              "  </svg>\n",
              "      </button>\n",
              "      \n",
              "  <style>\n",
              "    .colab-df-container {\n",
              "      display:flex;\n",
              "      flex-wrap:wrap;\n",
              "      gap: 12px;\n",
              "    }\n",
              "\n",
              "    .colab-df-convert {\n",
              "      background-color: #E8F0FE;\n",
              "      border: none;\n",
              "      border-radius: 50%;\n",
              "      cursor: pointer;\n",
              "      display: none;\n",
              "      fill: #1967D2;\n",
              "      height: 32px;\n",
              "      padding: 0 0 0 0;\n",
              "      width: 32px;\n",
              "    }\n",
              "\n",
              "    .colab-df-convert:hover {\n",
              "      background-color: #E2EBFA;\n",
              "      box-shadow: 0px 1px 2px rgba(60, 64, 67, 0.3), 0px 1px 3px 1px rgba(60, 64, 67, 0.15);\n",
              "      fill: #174EA6;\n",
              "    }\n",
              "\n",
              "    [theme=dark] .colab-df-convert {\n",
              "      background-color: #3B4455;\n",
              "      fill: #D2E3FC;\n",
              "    }\n",
              "\n",
              "    [theme=dark] .colab-df-convert:hover {\n",
              "      background-color: #434B5C;\n",
              "      box-shadow: 0px 1px 3px 1px rgba(0, 0, 0, 0.15);\n",
              "      filter: drop-shadow(0px 1px 2px rgba(0, 0, 0, 0.3));\n",
              "      fill: #FFFFFF;\n",
              "    }\n",
              "  </style>\n",
              "\n",
              "      <script>\n",
              "        const buttonEl =\n",
              "          document.querySelector('#df-769a6222-720b-4bfa-85c0-e106ae9b7d2c button.colab-df-convert');\n",
              "        buttonEl.style.display =\n",
              "          google.colab.kernel.accessAllowed ? 'block' : 'none';\n",
              "\n",
              "        async function convertToInteractive(key) {\n",
              "          const element = document.querySelector('#df-769a6222-720b-4bfa-85c0-e106ae9b7d2c');\n",
              "          const dataTable =\n",
              "            await google.colab.kernel.invokeFunction('convertToInteractive',\n",
              "                                                     [key], {});\n",
              "          if (!dataTable) return;\n",
              "\n",
              "          const docLinkHtml = 'Like what you see? Visit the ' +\n",
              "            '<a target=\"_blank\" href=https://colab.research.google.com/notebooks/data_table.ipynb>data table notebook</a>'\n",
              "            + ' to learn more about interactive tables.';\n",
              "          element.innerHTML = '';\n",
              "          dataTable['output_type'] = 'display_data';\n",
              "          await google.colab.output.renderOutput(dataTable, element);\n",
              "          const docLink = document.createElement('div');\n",
              "          docLink.innerHTML = docLinkHtml;\n",
              "          element.appendChild(docLink);\n",
              "        }\n",
              "      </script>\n",
              "    </div>\n",
              "  </div>\n",
              "  "
            ]
          },
          "metadata": {},
          "execution_count": 49
        }
      ]
    },
    {
      "cell_type": "markdown",
      "metadata": {
        "id": "BIdyegOrfObZ"
      },
      "source": [
        "После 10 итераций EM алгоритма результаты заметно лучше безлайн"
      ]
    },
    {
      "cell_type": "markdown",
      "metadata": {
        "id": "NshM_BesfOba"
      },
      "source": [
        "## 5. Рейтинг лист турниров"
      ]
    },
    {
      "cell_type": "code",
      "source": [
        "em_classifier_w = em_classifier2.w"
      ],
      "metadata": {
        "id": "iK46hDfLN3Cm"
      },
      "execution_count": 50,
      "outputs": []
    },
    {
      "cell_type": "markdown",
      "metadata": {
        "id": "5Qon-zqFfOba"
      },
      "source": [
        "\n",
        "\n",
        "Считаем среднюю сложность вопросов в турнире (среднее коэффициентов в модели)."
      ]
    },
    {
      "cell_type": "code",
      "execution_count": 53,
      "metadata": {
        "id": "BO6IM5W8fOba"
      },
      "outputs": [],
      "source": [
        "active_questions = np.unique(train_df['question_id'])\n",
        "q_rating = dict(zip(active_questions, em_classifier_w[-len(active_questions):]))\n",
        "\n",
        "train_df['difficulty'] = train_df['question_id'].map(q_rating)\n",
        "train_df['tournament_name'] = train_df['tour_id'].map({v['id']: v['name']for k, v in tournaments_data.items()})\n",
        "\n",
        "tournaments_rating = train_df[['tournament_name', 'question_id', 'difficulty']].drop_duplicates()\n",
        "tournaments_rating = tournaments_rating.groupby('tournament_name')['difficulty'].mean().sort_values().reset_index()"
      ]
    },
    {
      "cell_type": "code",
      "execution_count": 70,
      "metadata": {
        "id": "WjWelQMGfObc",
        "colab": {
          "base_uri": "https://localhost:8080/",
          "height": 363
        },
        "outputId": "edbab20f-10e3-446a-a041-e91d35f92b27"
      },
      "outputs": [
        {
          "output_type": "execute_result",
          "data": {
            "text/plain": [
              "                           tournament_name  difficulty\n",
              "0  Чемпионат Санкт-Петербурга. Первая лига  -11.572628\n",
              "1                              Угрюмый Ёрш   -7.291979\n",
              "2   Зеркало мемориала памяти Михаила Басса   -6.744694\n",
              "3          Чемпионат Мира. Финал. Группа С   -5.821598\n",
              "4         Чемпионат Мира. Этап 2. Группа А   -5.762531\n",
              "5                       Воображаемый музей   -5.671928\n",
              "6             Первенство правого полушария   -5.615403\n",
              "7         Чемпионат Мира. Этап 3. Группа В   -5.608961\n",
              "8         Чемпионат Мира. Этап 3. Группа С   -5.564950\n",
              "9            Мемориал памяти Михаила Басса   -5.554655"
            ],
            "text/html": [
              "\n",
              "  <div id=\"df-8fa857d6-3d05-41c7-8c29-5f1437a55810\">\n",
              "    <div class=\"colab-df-container\">\n",
              "      <div>\n",
              "<style scoped>\n",
              "    .dataframe tbody tr th:only-of-type {\n",
              "        vertical-align: middle;\n",
              "    }\n",
              "\n",
              "    .dataframe tbody tr th {\n",
              "        vertical-align: top;\n",
              "    }\n",
              "\n",
              "    .dataframe thead th {\n",
              "        text-align: right;\n",
              "    }\n",
              "</style>\n",
              "<table border=\"1\" class=\"dataframe\">\n",
              "  <thead>\n",
              "    <tr style=\"text-align: right;\">\n",
              "      <th></th>\n",
              "      <th>tournament_name</th>\n",
              "      <th>difficulty</th>\n",
              "    </tr>\n",
              "  </thead>\n",
              "  <tbody>\n",
              "    <tr>\n",
              "      <th>0</th>\n",
              "      <td>Чемпионат Санкт-Петербурга. Первая лига</td>\n",
              "      <td>-11.572628</td>\n",
              "    </tr>\n",
              "    <tr>\n",
              "      <th>1</th>\n",
              "      <td>Угрюмый Ёрш</td>\n",
              "      <td>-7.291979</td>\n",
              "    </tr>\n",
              "    <tr>\n",
              "      <th>2</th>\n",
              "      <td>Зеркало мемориала памяти Михаила Басса</td>\n",
              "      <td>-6.744694</td>\n",
              "    </tr>\n",
              "    <tr>\n",
              "      <th>3</th>\n",
              "      <td>Чемпионат Мира. Финал. Группа С</td>\n",
              "      <td>-5.821598</td>\n",
              "    </tr>\n",
              "    <tr>\n",
              "      <th>4</th>\n",
              "      <td>Чемпионат Мира. Этап 2. Группа А</td>\n",
              "      <td>-5.762531</td>\n",
              "    </tr>\n",
              "    <tr>\n",
              "      <th>5</th>\n",
              "      <td>Воображаемый музей</td>\n",
              "      <td>-5.671928</td>\n",
              "    </tr>\n",
              "    <tr>\n",
              "      <th>6</th>\n",
              "      <td>Первенство правого полушария</td>\n",
              "      <td>-5.615403</td>\n",
              "    </tr>\n",
              "    <tr>\n",
              "      <th>7</th>\n",
              "      <td>Чемпионат Мира. Этап 3. Группа В</td>\n",
              "      <td>-5.608961</td>\n",
              "    </tr>\n",
              "    <tr>\n",
              "      <th>8</th>\n",
              "      <td>Чемпионат Мира. Этап 3. Группа С</td>\n",
              "      <td>-5.564950</td>\n",
              "    </tr>\n",
              "    <tr>\n",
              "      <th>9</th>\n",
              "      <td>Мемориал памяти Михаила Басса</td>\n",
              "      <td>-5.554655</td>\n",
              "    </tr>\n",
              "  </tbody>\n",
              "</table>\n",
              "</div>\n",
              "      <button class=\"colab-df-convert\" onclick=\"convertToInteractive('df-8fa857d6-3d05-41c7-8c29-5f1437a55810')\"\n",
              "              title=\"Convert this dataframe to an interactive table.\"\n",
              "              style=\"display:none;\">\n",
              "        \n",
              "  <svg xmlns=\"http://www.w3.org/2000/svg\" height=\"24px\"viewBox=\"0 0 24 24\"\n",
              "       width=\"24px\">\n",
              "    <path d=\"M0 0h24v24H0V0z\" fill=\"none\"/>\n",
              "    <path d=\"M18.56 5.44l.94 2.06.94-2.06 2.06-.94-2.06-.94-.94-2.06-.94 2.06-2.06.94zm-11 1L8.5 8.5l.94-2.06 2.06-.94-2.06-.94L8.5 2.5l-.94 2.06-2.06.94zm10 10l.94 2.06.94-2.06 2.06-.94-2.06-.94-.94-2.06-.94 2.06-2.06.94z\"/><path d=\"M17.41 7.96l-1.37-1.37c-.4-.4-.92-.59-1.43-.59-.52 0-1.04.2-1.43.59L10.3 9.45l-7.72 7.72c-.78.78-.78 2.05 0 2.83L4 21.41c.39.39.9.59 1.41.59.51 0 1.02-.2 1.41-.59l7.78-7.78 2.81-2.81c.8-.78.8-2.07 0-2.86zM5.41 20L4 18.59l7.72-7.72 1.47 1.35L5.41 20z\"/>\n",
              "  </svg>\n",
              "      </button>\n",
              "      \n",
              "  <style>\n",
              "    .colab-df-container {\n",
              "      display:flex;\n",
              "      flex-wrap:wrap;\n",
              "      gap: 12px;\n",
              "    }\n",
              "\n",
              "    .colab-df-convert {\n",
              "      background-color: #E8F0FE;\n",
              "      border: none;\n",
              "      border-radius: 50%;\n",
              "      cursor: pointer;\n",
              "      display: none;\n",
              "      fill: #1967D2;\n",
              "      height: 32px;\n",
              "      padding: 0 0 0 0;\n",
              "      width: 32px;\n",
              "    }\n",
              "\n",
              "    .colab-df-convert:hover {\n",
              "      background-color: #E2EBFA;\n",
              "      box-shadow: 0px 1px 2px rgba(60, 64, 67, 0.3), 0px 1px 3px 1px rgba(60, 64, 67, 0.15);\n",
              "      fill: #174EA6;\n",
              "    }\n",
              "\n",
              "    [theme=dark] .colab-df-convert {\n",
              "      background-color: #3B4455;\n",
              "      fill: #D2E3FC;\n",
              "    }\n",
              "\n",
              "    [theme=dark] .colab-df-convert:hover {\n",
              "      background-color: #434B5C;\n",
              "      box-shadow: 0px 1px 3px 1px rgba(0, 0, 0, 0.15);\n",
              "      filter: drop-shadow(0px 1px 2px rgba(0, 0, 0, 0.3));\n",
              "      fill: #FFFFFF;\n",
              "    }\n",
              "  </style>\n",
              "\n",
              "      <script>\n",
              "        const buttonEl =\n",
              "          document.querySelector('#df-8fa857d6-3d05-41c7-8c29-5f1437a55810 button.colab-df-convert');\n",
              "        buttonEl.style.display =\n",
              "          google.colab.kernel.accessAllowed ? 'block' : 'none';\n",
              "\n",
              "        async function convertToInteractive(key) {\n",
              "          const element = document.querySelector('#df-8fa857d6-3d05-41c7-8c29-5f1437a55810');\n",
              "          const dataTable =\n",
              "            await google.colab.kernel.invokeFunction('convertToInteractive',\n",
              "                                                     [key], {});\n",
              "          if (!dataTable) return;\n",
              "\n",
              "          const docLinkHtml = 'Like what you see? Visit the ' +\n",
              "            '<a target=\"_blank\" href=https://colab.research.google.com/notebooks/data_table.ipynb>data table notebook</a>'\n",
              "            + ' to learn more about interactive tables.';\n",
              "          element.innerHTML = '';\n",
              "          dataTable['output_type'] = 'display_data';\n",
              "          await google.colab.output.renderOutput(dataTable, element);\n",
              "          const docLink = document.createElement('div');\n",
              "          docLink.innerHTML = docLinkHtml;\n",
              "          element.appendChild(docLink);\n",
              "        }\n",
              "      </script>\n",
              "    </div>\n",
              "  </div>\n",
              "  "
            ]
          },
          "metadata": {},
          "execution_count": 70
        }
      ],
      "source": [
        "tournaments_rating.head(10)"
      ]
    }
  ],
  "metadata": {
    "kernelspec": {
      "display_name": "Python 3 (ipykernel)",
      "language": "python",
      "name": "python3"
    },
    "language_info": {
      "codemirror_mode": {
        "name": "ipython",
        "version": 3
      },
      "file_extension": ".py",
      "mimetype": "text/x-python",
      "name": "python",
      "nbconvert_exporter": "python",
      "pygments_lexer": "ipython3",
      "version": "3.9.7"
    },
    "colab": {
      "name": "hw2_what where when",
      "provenance": [],
      "collapsed_sections": [],
      "include_colab_link": true
    },
    "accelerator": "GPU"
  },
  "nbformat": 4,
  "nbformat_minor": 0
}