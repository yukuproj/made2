{
  "cells": [
    {
      "cell_type": "markdown",
      "metadata": {
        "id": "view-in-github",
        "colab_type": "text"
      },
      "source": [
        "<a href=\"https://colab.research.google.com/github/yukuproj/made2/blob/main/assignment1_01_Word_Vectors.ipynb\" target=\"_parent\"><img src=\"https://colab.research.google.com/assets/colab-badge.svg\" alt=\"Open In Colab\"/></a>"
      ]
    },
    {
      "cell_type": "markdown",
      "metadata": {
        "id": "oTN9hy45pal7"
      },
      "source": [
        "## Assignment 01. Simple text processing."
      ]
    },
    {
      "cell_type": "code",
      "execution_count": 7,
      "metadata": {
        "id": "bWOaYyI1pal9"
      },
      "outputs": [],
      "source": [
        "import numpy as np\n",
        "import matplotlib.pyplot as plt\n",
        "%matplotlib inline\n",
        "import pandas as pd\n",
        "from IPython import display"
      ]
    },
    {
      "cell_type": "markdown",
      "metadata": {
        "id": "-Fvnjjyppal_"
      },
      "source": [
        "### Toxic or not\n",
        "Your main goal in this assignment is to classify, whether the comments are toxic or not. And practice with both classical approaches and PyTorch in the process.\n",
        "\n",
        "*Credits: This homework is inspired by YSDA NLP_course.*"
      ]
    },
    {
      "cell_type": "code",
      "execution_count": 8,
      "metadata": {
        "colab": {
          "base_uri": "https://localhost:8080/"
        },
        "id": "VnVvRY25pal_",
        "outputId": "65bbc6e6-66cc-42d7-c598-ec057b603deb"
      },
      "outputs": [
        {
          "output_type": "stream",
          "name": "stdout",
          "text": [
            "--2022-04-06 15:10:08--  https://github.com/girafe-ai/natural-language-processing/blob/22s_made/homeworks/assignment1_01_word_vectors/utils.py\n",
            "Resolving github.com (github.com)... 140.82.113.3\n",
            "Connecting to github.com (github.com)|140.82.113.3|:443... connected.\n",
            "HTTP request sent, awaiting response... 200 OK\n",
            "Length: unspecified [text/html]\n",
            "Saving to: ‘utils.py’\n",
            "\n",
            "utils.py                [ <=>                ] 138.09K  --.-KB/s    in 0.08s   \n",
            "\n",
            "2022-04-06 15:10:08 (1.78 MB/s) - ‘utils.py’ saved [141401]\n",
            "\n",
            "--2022-04-06 15:10:09--  https://github.com/girafe-ai/natural-language-processing/blob/22s_made/homeworks/assignment1_01_word_vectors/features.py\n",
            "Resolving github.com (github.com)... 140.82.112.4\n",
            "Connecting to github.com (github.com)|140.82.112.4|:443... connected.\n",
            "HTTP request sent, awaiting response... 200 OK\n",
            "Length: unspecified [text/html]\n",
            "Saving to: ‘features.py’\n",
            "\n",
            "features.py             [ <=>                ] 169.13K  --.-KB/s    in 0.08s   \n",
            "\n",
            "2022-04-06 15:10:09 (2.16 MB/s) - ‘features.py’ saved [173188]\n",
            "\n"
          ]
        }
      ],
      "source": [
        "# In colab run this cell\n",
        " \n",
        "! wget https://github.com/girafe-ai/natural-language-processing/blob/22s_made/homeworks/assignment1_01_word_vectors/utils.py -nc\n",
        "! wget https://github.com/girafe-ai/natural-language-processing/blob/22s_made/homeworks/assignment1_01_word_vectors/features.py -nc"
      ]
    },
    {
      "cell_type": "code",
      "execution_count": 9,
      "metadata": {
        "colab": {
          "base_uri": "https://localhost:8080/"
        },
        "id": "GaYzB3QQpamA",
        "outputId": "74f9ff93-95a5-456f-bbbf-ee8099e2c02a"
      },
      "outputs": [
        {
          "output_type": "stream",
          "name": "stdout",
          "text": [
            "--2022-04-06 15:10:15--  https://raw.githubusercontent.com/girafe-ai/ml-mipt/master/datasets/comments_small_dataset/comments.tsv\n",
            "Resolving raw.githubusercontent.com (raw.githubusercontent.com)... 185.199.108.133, 185.199.109.133, 185.199.110.133, ...\n",
            "Connecting to raw.githubusercontent.com (raw.githubusercontent.com)|185.199.108.133|:443... connected.\n",
            "HTTP request sent, awaiting response... 200 OK\n",
            "Length: 353358 (345K) [text/plain]\n",
            "Saving to: ‘comments.tsv’\n",
            "\n",
            "\rcomments.tsv          0%[                    ]       0  --.-KB/s               \rcomments.tsv        100%[===================>] 345.08K  --.-KB/s    in 0.03s   \n",
            "\n",
            "2022-04-06 15:10:15 (10.4 MB/s) - ‘comments.tsv’ saved [353358/353358]\n",
            "\n"
          ]
        }
      ],
      "source": [
        "try:\n",
        "    data = pd.read_csv('../../datasets/comments_small_dataset/comments.tsv', sep='\\t')\n",
        "except FileNotFoundError:\n",
        "    ! wget https://raw.githubusercontent.com/girafe-ai/ml-mipt/master/datasets/comments_small_dataset/comments.tsv -nc\n",
        "    data = pd.read_csv(\"comments.tsv\", sep='\\t')"
      ]
    },
    {
      "cell_type": "code",
      "execution_count": 10,
      "metadata": {
        "colab": {
          "base_uri": "https://localhost:8080/",
          "height": 206
        },
        "id": "ZI7NnnjOpamB",
        "outputId": "4f82a801-3c27-449a-f663-65361a9b6559"
      },
      "outputs": [
        {
          "output_type": "execute_result",
          "data": {
            "text/plain": [
              "     should_ban                                       comment_text\n",
              "50            0  \"Those who're in advantageous positions are th...\n",
              "250           1          Fartsalot56 says f**k you motherclucker!!\n",
              "450           1  Are you a fool? \\n\\nI am sorry, but you seem t...\n",
              "650           1    I AM NOT A VANDAL!!!!!!!!!!!!!!!!!!!!!!!!!!!!!!\n",
              "850           0  Citing sources\\n\\nCheck out the Wikipedia:Citi..."
            ],
            "text/html": [
              "\n",
              "  <div id=\"df-9ceac83c-6fb7-4223-b3ef-6b784b33afa0\">\n",
              "    <div class=\"colab-df-container\">\n",
              "      <div>\n",
              "<style scoped>\n",
              "    .dataframe tbody tr th:only-of-type {\n",
              "        vertical-align: middle;\n",
              "    }\n",
              "\n",
              "    .dataframe tbody tr th {\n",
              "        vertical-align: top;\n",
              "    }\n",
              "\n",
              "    .dataframe thead th {\n",
              "        text-align: right;\n",
              "    }\n",
              "</style>\n",
              "<table border=\"1\" class=\"dataframe\">\n",
              "  <thead>\n",
              "    <tr style=\"text-align: right;\">\n",
              "      <th></th>\n",
              "      <th>should_ban</th>\n",
              "      <th>comment_text</th>\n",
              "    </tr>\n",
              "  </thead>\n",
              "  <tbody>\n",
              "    <tr>\n",
              "      <th>50</th>\n",
              "      <td>0</td>\n",
              "      <td>\"Those who're in advantageous positions are th...</td>\n",
              "    </tr>\n",
              "    <tr>\n",
              "      <th>250</th>\n",
              "      <td>1</td>\n",
              "      <td>Fartsalot56 says f**k you motherclucker!!</td>\n",
              "    </tr>\n",
              "    <tr>\n",
              "      <th>450</th>\n",
              "      <td>1</td>\n",
              "      <td>Are you a fool? \\n\\nI am sorry, but you seem t...</td>\n",
              "    </tr>\n",
              "    <tr>\n",
              "      <th>650</th>\n",
              "      <td>1</td>\n",
              "      <td>I AM NOT A VANDAL!!!!!!!!!!!!!!!!!!!!!!!!!!!!!!</td>\n",
              "    </tr>\n",
              "    <tr>\n",
              "      <th>850</th>\n",
              "      <td>0</td>\n",
              "      <td>Citing sources\\n\\nCheck out the Wikipedia:Citi...</td>\n",
              "    </tr>\n",
              "  </tbody>\n",
              "</table>\n",
              "</div>\n",
              "      <button class=\"colab-df-convert\" onclick=\"convertToInteractive('df-9ceac83c-6fb7-4223-b3ef-6b784b33afa0')\"\n",
              "              title=\"Convert this dataframe to an interactive table.\"\n",
              "              style=\"display:none;\">\n",
              "        \n",
              "  <svg xmlns=\"http://www.w3.org/2000/svg\" height=\"24px\"viewBox=\"0 0 24 24\"\n",
              "       width=\"24px\">\n",
              "    <path d=\"M0 0h24v24H0V0z\" fill=\"none\"/>\n",
              "    <path d=\"M18.56 5.44l.94 2.06.94-2.06 2.06-.94-2.06-.94-.94-2.06-.94 2.06-2.06.94zm-11 1L8.5 8.5l.94-2.06 2.06-.94-2.06-.94L8.5 2.5l-.94 2.06-2.06.94zm10 10l.94 2.06.94-2.06 2.06-.94-2.06-.94-.94-2.06-.94 2.06-2.06.94z\"/><path d=\"M17.41 7.96l-1.37-1.37c-.4-.4-.92-.59-1.43-.59-.52 0-1.04.2-1.43.59L10.3 9.45l-7.72 7.72c-.78.78-.78 2.05 0 2.83L4 21.41c.39.39.9.59 1.41.59.51 0 1.02-.2 1.41-.59l7.78-7.78 2.81-2.81c.8-.78.8-2.07 0-2.86zM5.41 20L4 18.59l7.72-7.72 1.47 1.35L5.41 20z\"/>\n",
              "  </svg>\n",
              "      </button>\n",
              "      \n",
              "  <style>\n",
              "    .colab-df-container {\n",
              "      display:flex;\n",
              "      flex-wrap:wrap;\n",
              "      gap: 12px;\n",
              "    }\n",
              "\n",
              "    .colab-df-convert {\n",
              "      background-color: #E8F0FE;\n",
              "      border: none;\n",
              "      border-radius: 50%;\n",
              "      cursor: pointer;\n",
              "      display: none;\n",
              "      fill: #1967D2;\n",
              "      height: 32px;\n",
              "      padding: 0 0 0 0;\n",
              "      width: 32px;\n",
              "    }\n",
              "\n",
              "    .colab-df-convert:hover {\n",
              "      background-color: #E2EBFA;\n",
              "      box-shadow: 0px 1px 2px rgba(60, 64, 67, 0.3), 0px 1px 3px 1px rgba(60, 64, 67, 0.15);\n",
              "      fill: #174EA6;\n",
              "    }\n",
              "\n",
              "    [theme=dark] .colab-df-convert {\n",
              "      background-color: #3B4455;\n",
              "      fill: #D2E3FC;\n",
              "    }\n",
              "\n",
              "    [theme=dark] .colab-df-convert:hover {\n",
              "      background-color: #434B5C;\n",
              "      box-shadow: 0px 1px 3px 1px rgba(0, 0, 0, 0.15);\n",
              "      filter: drop-shadow(0px 1px 2px rgba(0, 0, 0, 0.3));\n",
              "      fill: #FFFFFF;\n",
              "    }\n",
              "  </style>\n",
              "\n",
              "      <script>\n",
              "        const buttonEl =\n",
              "          document.querySelector('#df-9ceac83c-6fb7-4223-b3ef-6b784b33afa0 button.colab-df-convert');\n",
              "        buttonEl.style.display =\n",
              "          google.colab.kernel.accessAllowed ? 'block' : 'none';\n",
              "\n",
              "        async function convertToInteractive(key) {\n",
              "          const element = document.querySelector('#df-9ceac83c-6fb7-4223-b3ef-6b784b33afa0');\n",
              "          const dataTable =\n",
              "            await google.colab.kernel.invokeFunction('convertToInteractive',\n",
              "                                                     [key], {});\n",
              "          if (!dataTable) return;\n",
              "\n",
              "          const docLinkHtml = 'Like what you see? Visit the ' +\n",
              "            '<a target=\"_blank\" href=https://colab.research.google.com/notebooks/data_table.ipynb>data table notebook</a>'\n",
              "            + ' to learn more about interactive tables.';\n",
              "          element.innerHTML = '';\n",
              "          dataTable['output_type'] = 'display_data';\n",
              "          await google.colab.output.renderOutput(dataTable, element);\n",
              "          const docLink = document.createElement('div');\n",
              "          docLink.innerHTML = docLinkHtml;\n",
              "          element.appendChild(docLink);\n",
              "        }\n",
              "      </script>\n",
              "    </div>\n",
              "  </div>\n",
              "  "
            ]
          },
          "metadata": {},
          "execution_count": 10
        }
      ],
      "source": [
        "texts = data['comment_text'].values\n",
        "target = data['should_ban'].values\n",
        "data[50::200]"
      ]
    },
    {
      "cell_type": "code",
      "execution_count": 11,
      "metadata": {
        "id": "BRSwgjXQpamB"
      },
      "outputs": [],
      "source": [
        "from sklearn.model_selection import train_test_split\n",
        "texts_train, texts_test, y_train, y_test = train_test_split(texts, target, test_size=0.5, random_state=42)"
      ]
    },
    {
      "cell_type": "markdown",
      "metadata": {
        "id": "szfCM-WjpamC"
      },
      "source": [
        "__Note:__ it is generally a good idea to split data into train/test before anything is done to them.\n",
        "\n",
        "It guards you against possible data leakage in the preprocessing stage. For example, should you decide to select words present in obscene tweets as features, you should only count those words over the training set. Otherwise your algoritm can cheat evaluation."
      ]
    },
    {
      "cell_type": "markdown",
      "metadata": {
        "id": "KDlTjiN9pamC"
      },
      "source": [
        "### Preprocessing and tokenization\n",
        "\n",
        "Comments contain raw text with punctuation, upper/lowercase letters and even newline symbols.\n",
        "\n",
        "To simplify all further steps, we'll split text into space-separated tokens using one of nltk tokenizers.\n",
        "\n",
        "Generally, library `nltk` [link](https://www.nltk.org) is widely used in NLP. It is not necessary in here, but mentioned to intoduce it to you."
      ]
    },
    {
      "cell_type": "code",
      "execution_count": 12,
      "metadata": {
        "colab": {
          "base_uri": "https://localhost:8080/"
        },
        "id": "gA71UDjtpamD",
        "outputId": "4897cf6c-62aa-44b9-81b5-efa3419aa4cb"
      },
      "outputs": [
        {
          "output_type": "stream",
          "name": "stdout",
          "text": [
            "before: How to be a grown-up at work: replace \"I don't want to do that\" with \"Ok, great!\".\n",
            "after: how to be a grown-up at work : replace \" i don't want to do that \" with \" ok , great ! \" .\n"
          ]
        }
      ],
      "source": [
        "from nltk.tokenize import TweetTokenizer\n",
        "tokenizer = TweetTokenizer()\n",
        "preprocess = lambda text: ' '.join(tokenizer.tokenize(text.lower()))\n",
        "\n",
        "text = 'How to be a grown-up at work: replace \"I don\\'t want to do that\" with \"Ok, great!\".'\n",
        "print(\"before:\", text,)\n",
        "print(\"after:\", preprocess(text),)"
      ]
    },
    {
      "cell_type": "code",
      "source": [
        "texts_train.shape"
      ],
      "metadata": {
        "colab": {
          "base_uri": "https://localhost:8080/"
        },
        "id": "D1trBfdbr1XR",
        "outputId": "9d5902c1-d986-4931-871f-c928a18d02d4"
      },
      "execution_count": 13,
      "outputs": [
        {
          "output_type": "execute_result",
          "data": {
            "text/plain": [
              "(500,)"
            ]
          },
          "metadata": {},
          "execution_count": 13
        }
      ]
    },
    {
      "cell_type": "code",
      "execution_count": 14,
      "metadata": {
        "id": "rPGdsGx4pamE"
      },
      "outputs": [],
      "source": [
        "# task: preprocess each comment in train and test\n",
        "\n",
        "#texts_train = #<YOUR CODE>\n",
        "#texts_test = #<YOUR CODE>\n",
        "f1 = np.vectorize(preprocess)\n",
        "texts_train =  f1(texts_train)\n",
        "texts_test = f1(texts_test)"
      ]
    },
    {
      "cell_type": "code",
      "execution_count": 15,
      "metadata": {
        "id": "jj72oGPopamO"
      },
      "outputs": [],
      "source": [
        "# Small check that everything is done properly\n",
        "assert texts_train[5] ==  'who cares anymore . they attack with impunity .'\n",
        "assert texts_test[89] == 'hey todds ! quick q ? why are you so gay'\n",
        "assert len(texts_test) == len(y_test)"
      ]
    },
    {
      "cell_type": "markdown",
      "metadata": {
        "id": "I5G_rRIxpamO"
      },
      "source": [
        "### Step 1: bag of words\n",
        "\n",
        "One traditional approach to such problem is to use bag of words features:\n",
        "1. build a vocabulary of frequent words (use train data only)\n",
        "2. for each training sample, count the number of times a word occurs in it (for each word in vocabulary).\n",
        "3. consider this count a feature for some classifier\n",
        "\n",
        "__Note:__ in practice, you can compute such features using sklearn. __Please don't do that in the current assignment, though.__\n",
        "* `from sklearn.feature_extraction.text import CountVectorizer, TfidfVectorizer`"
      ]
    },
    {
      "cell_type": "code",
      "source": [
        "k = min(10000, len(set(' '.join(texts_train).split())))"
      ],
      "metadata": {
        "id": "xlUtC-Mbh_pU"
      },
      "execution_count": 16,
      "outputs": []
    },
    {
      "cell_type": "code",
      "source": [
        "k"
      ],
      "metadata": {
        "colab": {
          "base_uri": "https://localhost:8080/"
        },
        "id": "KYZ12FVuiBbl",
        "outputId": "989aa056-2f39-4fc6-d9ec-eec085e3ecbe"
      },
      "execution_count": 17,
      "outputs": [
        {
          "output_type": "execute_result",
          "data": {
            "text/plain": [
              "5722"
            ]
          },
          "metadata": {},
          "execution_count": 17
        }
      ]
    },
    {
      "cell_type": "code",
      "source": [
        "texts_train[0]"
      ],
      "metadata": {
        "colab": {
          "base_uri": "https://localhost:8080/",
          "height": 36
        },
        "id": "LAuP55oamVt4",
        "outputId": "0f6bb147-0b80-41cf-c7fa-7d8b8862f369"
      },
      "execution_count": 18,
      "outputs": [
        {
          "output_type": "execute_result",
          "data": {
            "text/plain": [
              "'... oh and what kind of person watches another persons mytalk page ? stalker !'"
            ],
            "application/vnd.google.colaboratory.intrinsic+json": {
              "type": "string"
            }
          },
          "metadata": {},
          "execution_count": 18
        }
      ]
    },
    {
      "cell_type": "code",
      "source": [
        "from collections import OrderedDict\n",
        "from sklearn.base import TransformerMixin\n",
        "from typing import List, Union\n",
        "import numpy as np\n",
        "\n",
        "\n",
        "class BoW(TransformerMixin):\n",
        "    \"\"\"\n",
        "    Bag of words tranformer class\n",
        "    \n",
        "    check out:\n",
        "    https://scikit-learn.org/stable/modules/generated/sklearn.base.TransformerMixin.html\n",
        "    to know about TransformerMixin class\n",
        "    \"\"\"\n",
        "\n",
        "    def __init__(self, k: int):\n",
        "        \"\"\"\n",
        "        :param k: number of most frequent tokens to use\n",
        "        \"\"\"\n",
        "        self.k = k\n",
        "        # list of k most frequent tokens\n",
        "        self.bow = None\n",
        "\n",
        "    def fit(self, X: np.ndarray, y=None):\n",
        "        \"\"\"\n",
        "        :param X: array of texts to be trained on\n",
        "        \"\"\"\n",
        "        # task: find up to self.k most frequent tokens in texts_train,\n",
        "        # sort them by number of occurences (highest first)\n",
        "        # store most frequent tokens in self.bow\n",
        "        #raise NotImplementedError\n",
        "\n",
        "        wordfreq = {}\n",
        "        for sentence in texts_train:\n",
        "           tokens =  sentence.split()\n",
        "           for token in tokens:\n",
        "               if token not in wordfreq.keys():\n",
        "                 wordfreq[token] = 1\n",
        "               else:\n",
        "                 wordfreq[token] += 1\n",
        "          #wordFreqArray = np.array(wordfreq)\n",
        "        result2 = {k: v for k, v in sorted(wordfreq.items(), key=lambda item: -item[1])}\n",
        "        result3 = result2.keys()\n",
        "        self.bow = list(result3)[0:self.k]\n",
        "        #self.bow = result2\n",
        "        # fit method must always return self\n",
        "        return self\n",
        "\n",
        "    def _text_to_bow(self, text: str) -> np.ndarray:\n",
        "        \"\"\"\n",
        "        convert text string to an array of token counts. Use self.bow.\n",
        "        :param text: text to be transformed\n",
        "        :return bow_feature: feature vector, made by bag of words\n",
        "        \"\"\"\n",
        "\n",
        "        #result = None\n",
        "        #raise NotImplementedError\n",
        "        tokens2 =  text.split()\n",
        "        result = [0] * len(self.bow)\n",
        "        for token in tokens2:\n",
        "             if token not in self.bow:\n",
        "               #print(\"not in bag \" + str(token))\n",
        "               pass\n",
        "             else:\n",
        "                 result[self.bow.index(token)] +=1 \n",
        "        return np.array(result, \"float32\")\n",
        "\n",
        "    def transform(self, X: np.ndarray, y=None) -> np.ndarray:\n",
        "        \"\"\"\n",
        "        :param X: array of texts to transform\n",
        "        :return: array of transformed texts\n",
        "        \"\"\"\n",
        "        assert self.bow is not None\n",
        "        #print([self._text_to_bow(text) for text in X])\n",
        "        return np.stack([self._text_to_bow(text) for text in X])\n",
        "\n",
        "    def get_vocabulary(self) -> Union[List[str], None]:\n",
        "        return self.bow\n",
        "\n",
        "\n",
        "class TfIdf(TransformerMixin):\n",
        "    \"\"\"\n",
        "    Tf-Idf tranformer class\n",
        "    if you have troubles implementing Tf-Idf, check out:\n",
        "    https://streamsql.io/blog/tf-idf-from-scratch\n",
        "    \"\"\"\n",
        "\n",
        "    def __init__(self, k: int = None, normalize: bool = False):\n",
        "        \"\"\"\n",
        "        :param k: number of most frequent tokens to use\n",
        "        if set k equals None, than all words in train must be considered\n",
        "        :param normalize: if True, you must normalize each data sample\n",
        "        after computing tf-idf features\n",
        "        \"\"\"\n",
        "        self.k = k\n",
        "        self.normalize = normalize\n",
        "\n",
        "        # self.idf[term] = log(total # of documents / # of documents with term in it)\n",
        "        self.idf = OrderedDict()\n",
        "\n",
        "    def fit(self, X: np.ndarray, y=None):\n",
        "        \"\"\"\n",
        "        :param X: array of texts to be trained on\n",
        "        \"\"\"\n",
        "        #IMPLEMENTED SEPARATELY!!\n",
        "        #raise NotImplementedError\n",
        "\n",
        "        # fit method must always return self\n",
        "        return self\n",
        "\n",
        "    def _text_to_tf_idf(self, text: str) -> np.ndarray:\n",
        "        \"\"\"\n",
        "        convert text string to an array tf-idfs.\n",
        "        *Note* don't forget to normalize, when self.normalize == True\n",
        "        :param text: text to be transformed\n",
        "        :return tf_idf: tf-idf features\n",
        "        \"\"\"\n",
        "\n",
        "        result = None\n",
        "        #raise NotImplementedError\n",
        "        #IMPLEMENTED SEPARATELY!!\n",
        "        return np.array(result, \"float32\")\n",
        "\n",
        "    def transform(self, X: np.ndarray, y=None) -> np.ndarray:\n",
        "        \"\"\"\n",
        "        :param X: array of texts to transform\n",
        "        :return: array of transformed texts\n",
        "        \"\"\"\n",
        "        #IMPLEMENTED SEPARATELY!!\n",
        "        assert self.idf is not None\n",
        "        return np.stack([self._text_to_tf_idf(text) for text in X])"
      ],
      "metadata": {
        "id": "uBLjQbWVlMpC"
      },
      "execution_count": 19,
      "outputs": []
    },
    {
      "cell_type": "code",
      "execution_count": 20,
      "metadata": {
        "id": "JGWy14SvpamO",
        "colab": {
          "base_uri": "https://localhost:8080/"
        },
        "outputId": "e3ebc349-6c55-41df-9a49-d90accc6230c"
      },
      "outputs": [
        {
          "output_type": "stream",
          "name": "stdout",
          "text": [
            "example features: ['!', '12:20', '300', '_', 'adorned', 'alternative', 'archive', 'average', 'benkner', 'bout', 'came', 'chest', 'combined', 'consumers', 'cricket', 'decisions', 'dickheads', 'domestic', 'eductaion', 'essentially', 'faggot', 'firms', 'frustrated', 'goal', 'hanibal', 'hip-hop', 'identified', 'infoboxes', 'issue', 'kindergarten', 'lets', 'lot', \"mclaren's\", 'moderator', 'naturally', 'noticeable', 'opposing', 'pdf', 'plant', 'pretoria', 'punctuation', 'rebels', 'repetative', 'riadh', 'schulz', 'shes', 'slit', 'spoof', 'stupid', 't', 'theoretical', 'topic', 'uglyness', 'userspace', 'wanted', 'wikieditor', 'year', 'ீ']\n"
          ]
        }
      ],
      "source": [
        "#from features import BoW\n",
        "\n",
        "# task: find up to k most frequent tokens in texts_train,\n",
        "# sort them by number of occurences (highest first)\n",
        "k = min(10000, len(set(' '.join(texts_train).split())))\n",
        "\n",
        "#<YOUR CODE>\n",
        "bow = BoW(k)\n",
        "bow.fit(texts_train)\n",
        "\n",
        "print('example features:', sorted(bow.get_vocabulary())[::100])"
      ]
    },
    {
      "cell_type": "code",
      "execution_count": 21,
      "metadata": {
        "id": "14Ne90JNpamP"
      },
      "outputs": [],
      "source": [
        "X_train_bow = bow.transform(texts_train)\n",
        "X_test_bow = bow.transform(texts_test)"
      ]
    },
    {
      "cell_type": "code",
      "execution_count": 22,
      "metadata": {
        "id": "KPySNJhppamP"
      },
      "outputs": [],
      "source": [
        "# Small check that everything is done properly\n",
        "bow_vocabulary = bow.get_vocabulary()\n",
        "k_max = len(set(' '.join(texts_train).split()))\n",
        "assert X_train_bow.shape == (len(texts_train), min(k, k_max))\n",
        "assert X_test_bow.shape == (len(texts_test), min(k, k_max))\n",
        "assert np.all(X_train_bow[5:10].sum(-1) == np.array([len(s.split()) for s in  texts_train[5:10]]))\n",
        "assert len(bow_vocabulary) <= min(k, k_max)\n",
        "assert X_train_bow[6, bow_vocabulary.index('.')] == texts_train[6].split().count('.')"
      ]
    },
    {
      "cell_type": "markdown",
      "metadata": {
        "id": "a7MLI1rXpamQ"
      },
      "source": [
        "Now let's do the trick with `sklearn` logistic regression implementation:"
      ]
    },
    {
      "cell_type": "code",
      "execution_count": 23,
      "metadata": {
        "id": "d9cqr-MMpamQ"
      },
      "outputs": [],
      "source": [
        "from sklearn.linear_model import LogisticRegression\n",
        "bow_model = LogisticRegression().fit(X_train_bow, y_train)"
      ]
    },
    {
      "cell_type": "code",
      "execution_count": 24,
      "metadata": {
        "id": "8kgiaenxpamR",
        "colab": {
          "base_uri": "https://localhost:8080/",
          "height": 265
        },
        "outputId": "7c416c0b-c323-4974-ce1d-849156fd9269"
      },
      "outputs": [
        {
          "output_type": "display_data",
          "data": {
            "text/plain": [
              "<Figure size 432x288 with 1 Axes>"
            ],
            "image/png": "[encoded data removed]"
          },
          "metadata": {
            "needs_background": "light"
          }
        }
      ],
      "source": [
        "from sklearn.metrics import roc_auc_score, roc_curve\n",
        "\n",
        "for name, X, y, model in [\n",
        "    ('train', X_train_bow, y_train, bow_model),\n",
        "    ('test ', X_test_bow, y_test, bow_model)\n",
        "]:\n",
        "    proba = model.predict_proba(X)[:, 1]\n",
        "    auc = roc_auc_score(y, proba)\n",
        "    plt.plot(*roc_curve(y, proba)[:2], label='%s AUC=%.4f' % (name, auc))\n",
        "\n",
        "plt.plot([0, 1], [0, 1], '--', color='black',)\n",
        "plt.legend(fontsize='large')\n",
        "plt.grid()"
      ]
    },
    {
      "cell_type": "markdown",
      "metadata": {
        "id": "2IbqW0LwpamR"
      },
      "source": [
        "Seems alright. Now let's create the simple logistic regression using PyTorch. Just like in the classwork."
      ]
    },
    {
      "cell_type": "code",
      "execution_count": 25,
      "metadata": {
        "id": "ZqSpiDcjpamR"
      },
      "outputs": [],
      "source": [
        "import torch\n",
        "from torch import nn\n",
        "from torch.nn import functional as F\n",
        "from torch.optim.lr_scheduler import StepLR, ReduceLROnPlateau\n",
        "\n",
        "from sklearn.metrics import accuracy_score\n",
        "\n",
        "from torch import optim"
      ]
    },
    {
      "cell_type": "code",
      "source": [
        "import numpy as np\n",
        "from matplotlib import pyplot as plt\n",
        "\n",
        "\n",
        "def plot_train_process(train_loss, val_loss, train_accuracy, val_accuracy, title_suffix=''):\n",
        "    fig, axes = plt.subplots(1, 2, figsize=(15, 5))\n",
        "\n",
        "    axes[0].set_title(' '.join(['Loss', title_suffix]))\n",
        "    axes[0].plot(train_loss, label='train')\n",
        "    axes[0].plot(val_loss, label='validation')\n",
        "    axes[0].legend()\n",
        "\n",
        "    axes[1].set_title(' '.join(['Validation accuracy', title_suffix]))\n",
        "    axes[1].plot(train_accuracy, label='train')\n",
        "    axes[1].plot(val_accuracy, label='validation')\n",
        "    axes[1].legend()\n",
        "    plt.show()\n"
      ],
      "metadata": {
        "id": "aOILj9MdJa4m"
      },
      "execution_count": 26,
      "outputs": []
    },
    {
      "cell_type": "code",
      "execution_count": 26,
      "metadata": {
        "id": "wYdf_-FwpamR",
        "colab": {
          "base_uri": "https://localhost:8080/",
          "height": 135
        },
        "outputId": "3fe46a37-a844-41e5-fef8-e583fd6d3708"
      },
      "outputs": [
        {
          "output_type": "error",
          "ename": "SyntaxError",
          "evalue": "ignored",
          "traceback": [
            "\u001b[0;36m  File \u001b[0;32m\"/content/utils.py\"\u001b[0;36m, line \u001b[0;32m7\u001b[0m\n\u001b[0;31m    <!DOCTYPE html>\u001b[0m\n\u001b[0m    ^\u001b[0m\n\u001b[0;31mSyntaxError\u001b[0m\u001b[0;31m:\u001b[0m invalid syntax\n"
          ]
        }
      ],
      "source": [
        "from utils import plot_train_process"
      ]
    },
    {
      "cell_type": "code",
      "source": [
        "k"
      ],
      "metadata": {
        "colab": {
          "base_uri": "https://localhost:8080/"
        },
        "id": "FSNq1bKLKGlo",
        "outputId": "df5c64d4-23fd-4f16-a05b-df0de901afd9"
      },
      "execution_count": 27,
      "outputs": [
        {
          "output_type": "execute_result",
          "data": {
            "text/plain": [
              "5722"
            ]
          },
          "metadata": {},
          "execution_count": 27
        }
      ]
    },
    {
      "cell_type": "code",
      "execution_count": 28,
      "metadata": {
        "id": "QAzIo44GpamT"
      },
      "outputs": [],
      "source": [
        "model = nn.Sequential()\n",
        "\n",
        "#model.add_module('l1', ### YOUR CODE HERE\n",
        "### YOUR CODE HERE\n",
        "\n",
        "model.add_module('l1',nn.Linear(k, 2))\n",
        "#model.add_module('sm',nn.LogSoftmax(dim=1))"
      ]
    },
    {
      "cell_type": "markdown",
      "metadata": {
        "id": "YiaT8fx-pamT"
      },
      "source": [
        "Remember what we discussed about loss functions! `nn.CrossEntropyLoss` combines both log-softmax and `NLLLoss`.\n",
        "\n",
        "__Be careful with it! Criterion `nn.CrossEntropyLoss` with still work with log-softmax output, but it won't allow you to converge to the optimum.__ Next comes small demonstration:"
      ]
    },
    {
      "cell_type": "code",
      "execution_count": 29,
      "metadata": {
        "id": "KM4c5UWfpamT"
      },
      "outputs": [],
      "source": [
        "#loss_function = nn.NLLLoss()\n",
        "loss_function = nn.CrossEntropyLoss()"
      ]
    },
    {
      "cell_type": "code",
      "execution_count": 30,
      "metadata": {
        "id": "1zkt1gX3pamT"
      },
      "outputs": [],
      "source": [
        "#opt = ### YOUR CODE HERE\n",
        "#opt =torch.optim.SGD(model.parameters(), lr=0.1, momentum=0.9)\n",
        " #optim.SGD(model.parameters(), lr = 0.01)\n",
        "opt = optim.AdamW(model.parameters(), lr=1e-3)\n",
        "lr_scheduler = optim.lr_scheduler.ReduceLROnPlateau(opt, patience=10)"
      ]
    },
    {
      "cell_type": "code",
      "execution_count": 32,
      "metadata": {
        "id": "5UDg9sjspamT"
      },
      "outputs": [],
      "source": [
        "#X_train_bow_torch = ### YOUR CODE HERE\n",
        "##X_test_bow_torch = ### YOUR CODE HERE\n",
        "\n",
        "#y_train_torch = ### YOUR CODE HERE\n",
        "#y_test_torch = ### YOUR CODE HERE\n",
        "\n",
        "X_train_bow_torch = torch.from_numpy(X_train_bow )\n",
        "X_test_bow_torch = torch.from_numpy(X_test_bow )\n",
        "y_train_torch = torch.from_numpy(y_train )\n",
        "y_test_torch = torch.from_numpy(y_test )"
      ]
    },
    {
      "cell_type": "markdown",
      "metadata": {
        "id": "kfoTyl4ypamT"
      },
      "source": [
        "Let's test that everything is fine"
      ]
    },
    {
      "cell_type": "code",
      "execution_count": 33,
      "metadata": {
        "id": "LnKojg5cpamU"
      },
      "outputs": [],
      "source": [
        "# example loss\n",
        "loss = loss_function(model(X_train_bow_torch[:3]), y_train_torch[:3])"
      ]
    },
    {
      "cell_type": "code",
      "execution_count": 34,
      "metadata": {
        "id": "yQHmDwAcpamU"
      },
      "outputs": [],
      "source": [
        "assert type(loss.item()) == float"
      ]
    },
    {
      "cell_type": "markdown",
      "metadata": {
        "id": "5AYf1qYgpamU"
      },
      "source": [
        "Here comes small function to train the model. In future we will take in into separate file, but for this homework it's ok to implement it here. "
      ]
    },
    {
      "cell_type": "code",
      "execution_count": 35,
      "metadata": {
        "id": "8qxukJgBpamW"
      },
      "outputs": [],
      "source": [
        "def train_model(\n",
        "    model,\n",
        "    opt,\n",
        "    lr_scheduler,\n",
        "    X_train_torch,\n",
        "    y_train_torch,\n",
        "    X_val_torch,\n",
        "    y_val_torch,\n",
        "    n_iterations=500,\n",
        "    batch_size=32,\n",
        "    warm_start=False,\n",
        "    show_plots=True,\n",
        "    eval_every=10\n",
        "):\n",
        "    if not warm_start:\n",
        "        for name, module in model.named_children():\n",
        "            print('resetting ', name)\n",
        "            try:\n",
        "                module.reset_parameters()\n",
        "            except AttributeError as e:\n",
        "                print('Cannot reset {} module parameters: {}'.format(name, e))\n",
        "\n",
        "    train_loss_history = []\n",
        "    train_acc_history = []\n",
        "    val_loss_history = []\n",
        "    val_acc_history = []\n",
        "\n",
        "    local_train_loss_history = []\n",
        "    local_train_acc_history = []\n",
        "    for i in range(n_iterations):\n",
        "\n",
        "        # sample 256 random observations\n",
        "        ix = np.random.randint(0, len(X_train_torch), batch_size)\n",
        "        x_batch = X_train_torch[ix]\n",
        "        y_batch = y_train_torch[ix]\n",
        "\n",
        "        # predict log-probabilities or logits\n",
        "        #y_predicted = ### YOUR CODE\n",
        "        y_predicted = model(x_batch)\n",
        "\n",
        "        # compute loss, just like before\n",
        "        ### YOUR CODE\n",
        "        loss = loss_function(y_predicted, y_batch)\n",
        "\n",
        "        # compute gradients\n",
        "        ### YOUR CODE\n",
        "        loss.backward()\n",
        "\n",
        "        # Adam step\n",
        "        ### YOUR CODE\n",
        "        opt.step()\n",
        "\n",
        "        # clear gradients\n",
        "        ### YOUR CODE\n",
        "        opt.zero_grad()\n",
        "\n",
        "        local_train_loss_history.append(loss.data.numpy())\n",
        "        local_train_acc_history.append(\n",
        "            accuracy_score(\n",
        "                y_batch.to('cpu').detach().numpy(),\n",
        "                y_predicted.to('cpu').detach().numpy().argmax(axis=1)\n",
        "            )\n",
        "        )\n",
        "\n",
        "        if i % eval_every == 0:\n",
        "            train_loss_history.append(np.mean(local_train_loss_history))\n",
        "            train_acc_history.append(np.mean(local_train_acc_history))\n",
        "            local_train_loss_history, local_train_acc_history = [], []\n",
        "\n",
        "            predictions_val = model(X_val_torch)\n",
        "            val_loss_history.append(loss_function(predictions_val, y_val_torch).to('cpu').detach().item())\n",
        "\n",
        "            acc_score_val = accuracy_score(y_val_torch.cpu().numpy(), predictions_val.to('cpu').detach().numpy().argmax(axis=1))\n",
        "            val_acc_history.append(acc_score_val)\n",
        "            lr_scheduler.step(train_loss_history[-1])\n",
        "\n",
        "            if show_plots:\n",
        "                display.clear_output(wait=True)\n",
        "                plot_train_process(train_loss_history, val_loss_history, train_acc_history, val_acc_history)\n",
        "    return model"
      ]
    },
    {
      "cell_type": "markdown",
      "metadata": {
        "id": "3nCHli_cpamW"
      },
      "source": [
        "Let's run it on the data. Note, that here we use the `test` part of the data for validation. It's not so good idea in general, but in this task our main goal is practice."
      ]
    },
    {
      "cell_type": "code",
      "execution_count": 36,
      "metadata": {
        "id": "Z7SXshgupamW",
        "colab": {
          "base_uri": "https://localhost:8080/",
          "height": 391
        },
        "outputId": "c19e53cc-044d-4136-bb50-0af12feeb9c6"
      },
      "outputs": [
        {
          "output_type": "display_data",
          "data": {
            "text/plain": [
              "<Figure size 1080x360 with 2 Axes>"
            ],
            "image/png": "[encoded data removed]"
          },
          "metadata": {
            "needs_background": "light"
          }
        },
        {
          "output_type": "execute_result",
          "data": {
            "text/plain": [
              "Sequential(\n",
              "  (l1): Linear(in_features=5722, out_features=2, bias=True)\n",
              ")"
            ]
          },
          "metadata": {},
          "execution_count": 36
        }
      ],
      "source": [
        "train_model(model, opt, lr_scheduler, X_train_bow_torch, y_train_torch, X_test_bow_torch, y_test_torch)"
      ]
    },
    {
      "cell_type": "code",
      "execution_count": 37,
      "metadata": {
        "id": "5CTdhD_CpamW",
        "colab": {
          "base_uri": "https://localhost:8080/",
          "height": 265
        },
        "outputId": "d4bc0b84-6f12-4ec9-d292-f2aec34d306b"
      },
      "outputs": [
        {
          "output_type": "display_data",
          "data": {
            "text/plain": [
              "<Figure size 432x288 with 1 Axes>"
            ],
            "image/png": "[encoded data removed]"
          },
          "metadata": {
            "needs_background": "light"
          }
        }
      ],
      "source": [
        "from sklearn.metrics import roc_auc_score, roc_curve\n",
        "\n",
        "for name, X, y, model in [\n",
        "    ('train', X_train_bow_torch, y_train, model),\n",
        "    ('test ', X_test_bow_torch, y_test, model)\n",
        "]:\n",
        "    proba = model(X).detach().cpu().numpy()[:, 1]\n",
        "    auc = roc_auc_score(y, proba)\n",
        "    plt.plot(*roc_curve(y, proba)[:2], label='%s AUC=%.4f' % (name, auc))\n",
        "\n",
        "plt.plot([0, 1], [0, 1], '--', color='black',)\n",
        "plt.legend(fontsize='large')\n",
        "plt.grid()"
      ]
    },
    {
      "cell_type": "markdown",
      "metadata": {
        "id": "YnOL8gXqpamX"
      },
      "source": [
        "Try to vary the number of tokens `k` and check how the model performance changes. Show it on a plot."
      ]
    },
    {
      "cell_type": "code",
      "execution_count": 38,
      "metadata": {
        "id": "yZ9zhlpYpamX",
        "colab": {
          "base_uri": "https://localhost:8080/"
        },
        "outputId": "ef96540b-9e57-49a2-87f6-962e9776f4b5"
      },
      "outputs": [
        {
          "output_type": "stream",
          "name": "stdout",
          "text": [
            "resetting  l1\n",
            "resetting  l1\n",
            "resetting  l1\n",
            "resetting  l1\n",
            "resetting  l1\n",
            "resetting  l1\n",
            "resetting  l1\n",
            "resetting  l1\n",
            "resetting  l1\n",
            "resetting  l1\n",
            "resetting  l1\n",
            "resetting  l1\n",
            "resetting  l1\n",
            "resetting  l1\n",
            "resetting  l1\n",
            "resetting  l1\n",
            "resetting  l1\n",
            "resetting  l1\n",
            "resetting  l1\n",
            "resetting  l1\n",
            "resetting  l1\n",
            "resetting  l1\n",
            "resetting  l1\n",
            "resetting  l1\n",
            "resetting  l1\n",
            "resetting  l1\n",
            "resetting  l1\n",
            "resetting  l1\n",
            "resetting  l1\n",
            "resetting  l1\n",
            "resetting  l1\n",
            "resetting  l1\n",
            "resetting  l1\n",
            "resetting  l1\n",
            "resetting  l1\n",
            "resetting  l1\n",
            "resetting  l1\n",
            "resetting  l1\n",
            "resetting  l1\n",
            "resetting  l1\n",
            "resetting  l1\n",
            "resetting  l1\n",
            "resetting  l1\n",
            "resetting  l1\n",
            "resetting  l1\n",
            "resetting  l1\n",
            "resetting  l1\n",
            "resetting  l1\n",
            "resetting  l1\n",
            "resetting  l1\n",
            "resetting  l1\n",
            "resetting  l1\n",
            "resetting  l1\n",
            "resetting  l1\n",
            "resetting  l1\n",
            "resetting  l1\n",
            "resetting  l1\n",
            "resetting  l1\n",
            "resetting  l1\n",
            "resetting  l1\n",
            "resetting  l1\n",
            "resetting  l1\n",
            "resetting  l1\n",
            "resetting  l1\n",
            "resetting  l1\n",
            "resetting  l1\n",
            "resetting  l1\n",
            "resetting  l1\n",
            "resetting  l1\n",
            "resetting  l1\n",
            "resetting  l1\n",
            "resetting  l1\n",
            "resetting  l1\n",
            "resetting  l1\n",
            "resetting  l1\n",
            "resetting  l1\n",
            "resetting  l1\n",
            "resetting  l1\n",
            "resetting  l1\n",
            "resetting  l1\n",
            "resetting  l1\n",
            "resetting  l1\n",
            "resetting  l1\n",
            "resetting  l1\n",
            "resetting  l1\n",
            "resetting  l1\n",
            "resetting  l1\n",
            "resetting  l1\n",
            "resetting  l1\n",
            "resetting  l1\n",
            "resetting  l1\n",
            "resetting  l1\n",
            "resetting  l1\n",
            "resetting  l1\n",
            "resetting  l1\n",
            "resetting  l1\n",
            "resetting  l1\n",
            "resetting  l1\n",
            "resetting  l1\n",
            "resetting  l1\n",
            "resetting  l1\n",
            "resetting  l1\n",
            "resetting  l1\n",
            "resetting  l1\n",
            "resetting  l1\n",
            "resetting  l1\n",
            "resetting  l1\n",
            "resetting  l1\n",
            "resetting  l1\n",
            "resetting  l1\n",
            "resetting  l1\n",
            "resetting  l1\n",
            "resetting  l1\n",
            "resetting  l1\n",
            "resetting  l1\n",
            "resetting  l1\n",
            "resetting  l1\n",
            "resetting  l1\n",
            "resetting  l1\n",
            "resetting  l1\n",
            "resetting  l1\n",
            "resetting  l1\n",
            "resetting  l1\n",
            "resetting  l1\n",
            "resetting  l1\n",
            "resetting  l1\n",
            "resetting  l1\n",
            "resetting  l1\n",
            "resetting  l1\n",
            "resetting  l1\n",
            "resetting  l1\n",
            "resetting  l1\n",
            "resetting  l1\n",
            "resetting  l1\n",
            "resetting  l1\n",
            "resetting  l1\n",
            "resetting  l1\n",
            "resetting  l1\n",
            "resetting  l1\n",
            "resetting  l1\n",
            "resetting  l1\n",
            "resetting  l1\n",
            "resetting  l1\n",
            "resetting  l1\n",
            "resetting  l1\n",
            "resetting  l1\n",
            "resetting  l1\n",
            "resetting  l1\n",
            "resetting  l1\n",
            "resetting  l1\n",
            "resetting  l1\n",
            "resetting  l1\n",
            "resetting  l1\n",
            "resetting  l1\n",
            "resetting  l1\n",
            "resetting  l1\n",
            "resetting  l1\n",
            "resetting  l1\n",
            "resetting  l1\n",
            "resetting  l1\n",
            "resetting  l1\n",
            "resetting  l1\n",
            "resetting  l1\n",
            "resetting  l1\n",
            "resetting  l1\n",
            "resetting  l1\n",
            "resetting  l1\n",
            "resetting  l1\n",
            "resetting  l1\n",
            "resetting  l1\n",
            "resetting  l1\n",
            "resetting  l1\n",
            "resetting  l1\n",
            "resetting  l1\n",
            "resetting  l1\n",
            "resetting  l1\n",
            "resetting  l1\n",
            "resetting  l1\n",
            "resetting  l1\n",
            "resetting  l1\n",
            "resetting  l1\n",
            "resetting  l1\n",
            "resetting  l1\n",
            "resetting  l1\n",
            "resetting  l1\n",
            "resetting  l1\n",
            "resetting  l1\n",
            "resetting  l1\n",
            "resetting  l1\n",
            "resetting  l1\n",
            "resetting  l1\n",
            "resetting  l1\n",
            "resetting  l1\n",
            "resetting  l1\n",
            "resetting  l1\n",
            "resetting  l1\n",
            "resetting  l1\n",
            "resetting  l1\n",
            "resetting  l1\n",
            "resetting  l1\n",
            "resetting  l1\n",
            "resetting  l1\n",
            "resetting  l1\n",
            "resetting  l1\n",
            "resetting  l1\n",
            "resetting  l1\n",
            "resetting  l1\n",
            "resetting  l1\n",
            "resetting  l1\n",
            "resetting  l1\n",
            "resetting  l1\n",
            "resetting  l1\n",
            "resetting  l1\n",
            "resetting  l1\n",
            "resetting  l1\n",
            "resetting  l1\n",
            "resetting  l1\n",
            "resetting  l1\n",
            "resetting  l1\n",
            "resetting  l1\n",
            "resetting  l1\n",
            "resetting  l1\n",
            "resetting  l1\n",
            "resetting  l1\n",
            "resetting  l1\n",
            "resetting  l1\n",
            "resetting  l1\n",
            "resetting  l1\n",
            "resetting  l1\n",
            "resetting  l1\n",
            "resetting  l1\n",
            "resetting  l1\n",
            "resetting  l1\n",
            "resetting  l1\n",
            "resetting  l1\n",
            "resetting  l1\n",
            "resetting  l1\n",
            "resetting  l1\n",
            "resetting  l1\n",
            "resetting  l1\n",
            "resetting  l1\n",
            "resetting  l1\n",
            "resetting  l1\n",
            "resetting  l1\n",
            "resetting  l1\n",
            "resetting  l1\n",
            "resetting  l1\n",
            "resetting  l1\n",
            "resetting  l1\n",
            "resetting  l1\n"
          ]
        }
      ],
      "source": [
        "# Your beautiful code here\n",
        "experiments_per_k = 10\n",
        "ks = [k for k in range(200, 5001, 200)]\n",
        "test_auc = np.zeros(len(ks))\n",
        "\n",
        "for i, k in enumerate(ks):\n",
        "  #  bow_vocabulary = list(\n",
        " #       map(lambda x: x[0],\n",
        "  #          sorted(Counter(sum(map(lambda x: x.split(), texts_train), [])).items(),\n",
        "  #                 key=lambda x: x[1], reverse=True)[:k]\n",
        "  #      )\n",
        "  #  )\n",
        "    bow = BoW(k)\n",
        "    bow.fit(texts_train)\n",
        "\n",
        "\n",
        "\n",
        "   # bow_vocabulary_np = np.array(bow_vocabulary)\n",
        "\n",
        "   # X_train_bow = np.stack(list(map(text_to_bow, texts_train)))\n",
        "   # X_test_bow = np.stack(list(map(text_to_bow, texts_test)))\n",
        "\n",
        "    X_train_bow = bow.transform(texts_train)\n",
        "    X_test_bow = bow.transform(texts_test)\n",
        "\n",
        "\n",
        "   # X_train_bow_torch = torch.from_numpy(X_train_bow)\n",
        "   # X_test_bow_torch = torch.from_numpy(X_test_bow)\n",
        "    X_train_bow_torch = torch.from_numpy(X_train_bow)\n",
        "    X_test_bow_torch = torch.from_numpy(X_test_bow)\n",
        "    #y_train_torch = torch.from_numpy(y_train)\n",
        "   # y_test_torch = torch.from_numpy(y_test)\n",
        "\n",
        "    for experiment in range(experiments_per_k):\n",
        "        #model = nn.Linear(len(bow.bow), 1)\n",
        "        model = nn.Sequential()\n",
        "        model.add_module('l1',nn.Linear(k, 2))\n",
        "       # model.add_module('sm',nn.LogSoftmax(dim=1))\n",
        "\n",
        "\n",
        "       # opt = optim.AdamW(model.parameters(), lr=1e-3)\n",
        "       # lr_scheduler = optim.lr_scheduler.ReduceLROnPlateau(opt, patience=10)\n",
        "        opt = optim.AdamW(model.parameters(), lr=1e-3)\n",
        "        lr_scheduler = optim.lr_scheduler.ReduceLROnPlateau(opt, patience=10) \n",
        "        \n",
        "        train_model(\n",
        "            model,\n",
        "            opt,\n",
        "            lr_scheduler,\n",
        "            X_train_bow_torch,\n",
        "            y_train_torch,\n",
        "            X_test_bow_torch,\n",
        "            y_test_torch,\n",
        "            n_iterations=500,\n",
        "            show_plots=False\n",
        "        )\n",
        "        \n",
        "        proba = model(X_test_bow_torch).detach().cpu().numpy()[:, 1]\n",
        "        auc = roc_auc_score(y_test, proba)\n",
        "   \n",
        "        test_auc[i] += auc / experiments_per_k"
      ]
    },
    {
      "cell_type": "code",
      "source": [
        "plt.plot(ks, test_auc)\n",
        "plt.title('Test ROC AUC score')\n",
        "plt.xlabel('Vocabulary size k')\n",
        "plt.ylabel('ROC AUC');"
      ],
      "metadata": {
        "colab": {
          "base_uri": "https://localhost:8080/",
          "height": 295
        },
        "id": "QWr7vkymyrit",
        "outputId": "af7d0e3c-a358-4a1e-f90a-7ded355c97d6"
      },
      "execution_count": 39,
      "outputs": [
        {
          "output_type": "display_data",
          "data": {
            "text/plain": [
              "<Figure size 432x288 with 1 Axes>"
            ],
            "image/png": "[encoded data removed]"
          },
          "metadata": {
            "needs_background": "light"
          }
        }
      ]
    },
    {
      "cell_type": "markdown",
      "metadata": {
        "id": "So7UJTIVpamX"
      },
      "source": [
        "### Step 2: implement TF-IDF features\n",
        "\n",
        "Not all words are equally useful. One can prioritize rare words and downscale words like \"and\"/\"or\" by using __tf-idf features__. This abbreviation stands for __text frequency/inverse document frequence__ and means exactly that:\n",
        "\n",
        "$$ feature_i = { Count(word_i \\in x) \\times { log {N \\over Count(word_i \\in D) + \\alpha} }}, $$\n",
        "\n",
        "\n",
        "where x is a single text, D is your dataset (a collection of texts), N is a total number of documents and $\\alpha$ is a smoothing hyperparameter (typically 1). \n",
        "And $Count(word_i \\in D)$ is the number of documents where $word_i$ appears.\n",
        "\n",
        "It may also be a good idea to normalize each data sample after computing tf-idf features.\n",
        "\n",
        "__Your task:__ implement tf-idf features, train a model and evaluate ROC curve. Compare it with basic BagOfWords model from above.\n",
        "\n",
        "__Please don't use sklearn/nltk builtin tf-idf vectorizers in your solution :)__ You can still use 'em for debugging though."
      ]
    },
    {
      "cell_type": "markdown",
      "metadata": {
        "id": "n5N51Sn_pamY"
      },
      "source": [
        "Blog post about implementing the TF-IDF features from scratch: https://triton.ml/blog/tf-idf-from-scratch"
      ]
    },
    {
      "cell_type": "code",
      "execution_count": 40,
      "metadata": {
        "id": "fjDgf37ApamY"
      },
      "outputs": [],
      "source": [
        "#from features import TfIdf\n",
        "\n",
        "# Your beautiful code here\n",
        "from collections import Counter\n",
        "\n",
        "from math import log\n",
        "        \n",
        "def get_tfidf_features(texts_train, texts_test):\n",
        "    dataset_word_count =  Counter(sum(map(lambda x: list(set(x.split())), texts_train), []))\n",
        "    words = list(dataset_word_count.keys())\n",
        "    \n",
        "    tfidf_features_train = np.zeros((len(texts_train), len(words)), dtype='float32')\n",
        "    \n",
        "    for i, text in enumerate(texts_train):\n",
        "        bag_of_words = text.split()\n",
        "        text_word_count = Counter(bag_of_words)\n",
        "        tfidf_features_train[i] = np.array([text_word_count[word] * log(len(texts_train) / (dataset_word_count[word] + 1)) for word in words])\n",
        "        \n",
        "    tfidf_features_test = np.zeros((len(texts_test), len(words)), dtype='float32')\n",
        "    \n",
        "    for i, text in enumerate(texts_test):\n",
        "        bag_of_words = text.split()\n",
        "        text_word_count = Counter(bag_of_words)\n",
        "        tfidf_features_test[i] = np.array([text_word_count[word] * log(len(texts_test) / (dataset_word_count[word] + 1)) for word in words])\n",
        "    return tfidf_features_train, tfidf_features_test\n",
        "\n"
      ]
    },
    {
      "cell_type": "markdown",
      "metadata": {
        "id": "1Jx55Z03pamY"
      },
      "source": [
        "Same stuff about moel and optimizers here (or just omit it, if you are using the same model as before)."
      ]
    },
    {
      "cell_type": "code",
      "execution_count": 41,
      "metadata": {
        "id": "RpchFtcApamZ"
      },
      "outputs": [],
      "source": [
        "### YOUR CODE HERE\n",
        "X_train_tfidf, X_test_tfidf = get_tfidf_features(texts_train, texts_test)"
      ]
    },
    {
      "cell_type": "code",
      "source": [
        "X_train_tfidf \n"
      ],
      "metadata": {
        "id": "obxYzujt1RtF",
        "colab": {
          "base_uri": "https://localhost:8080/"
        },
        "outputId": "4b83250c-15ff-4682-e51d-383625b2b48a"
      },
      "execution_count": 42,
      "outputs": [
        {
          "output_type": "execute_result",
          "data": {
            "text/plain": [
              "array([[  5.521461  ,   1.609438  ,   0.82098055, ...,   0.        ,\n",
              "          0.        ,   0.        ],\n",
              "       [  0.        ,   0.        ,   2.4629416 , ...,   0.        ,\n",
              "          0.        ,   0.        ],\n",
              "       [  0.        ,   0.        ,   0.        , ...,   0.        ,\n",
              "          0.        ,   0.        ],\n",
              "       ...,\n",
              "       [  0.        ,   0.        ,   0.82098055, ...,   0.        ,\n",
              "          0.        ,   0.        ],\n",
              "       [  0.        ,   0.        ,   0.        , ..., 193.25113   ,\n",
              "          0.        ,   0.        ],\n",
              "       [  0.        ,   1.609438  ,   0.82098055, ...,   0.        ,\n",
              "          5.521461  ,   5.521461  ]], dtype=float32)"
            ]
          },
          "metadata": {},
          "execution_count": 42
        }
      ]
    },
    {
      "cell_type": "code",
      "execution_count": 43,
      "metadata": {
        "id": "sl_h-vxIpamZ"
      },
      "outputs": [],
      "source": [
        "#X_train_tfidf_torch = ### YOUR CODE HERE\n",
        "#X_test_tfidf_torch = ### YOUR CODE HERE\n",
        "\n",
        "#y_train_torch = ### YOUR CODE HERE\n",
        "#y_test_torch = ### YOUR CODE HERE\n",
        "\n",
        "\n",
        "X_train_tfidf_torch = torch.from_numpy(X_train_tfidf)\n",
        "X_test_tfidf_torch = torch.from_numpy(X_test_tfidf)\n",
        "\n",
        "#model = nn.Linear(X_train_tfidf.shape[1], 1)\n",
        "model2 = nn.Sequential()\n",
        "\n",
        "#model.add_module('l1', ### YOUR CODE HERE\n",
        "### YOUR CODE HERE\n",
        "\n",
        "model2.add_module('l1',nn.Linear(X_train_tfidf.shape[1], 2))\n",
        "\n",
        "\n",
        "opt = optim.AdamW(model2.parameters(), lr=5e-4)\n",
        "lr_scheduler = optim.lr_scheduler.ReduceLROnPlateau(opt, patience=10)"
      ]
    },
    {
      "cell_type": "code",
      "source": [
        "train_model(\n",
        "            model2,\n",
        "            opt,\n",
        "            lr_scheduler,\n",
        "            X_train_tfidf_torch,\n",
        "            y_train_torch,\n",
        "            X_test_tfidf_torch,\n",
        "            y_test_torch,\n",
        "            n_iterations=500,\n",
        "            show_plots=False\n",
        "        )"
      ],
      "metadata": {
        "colab": {
          "base_uri": "https://localhost:8080/"
        },
        "id": "o1A7fJUf1uMt",
        "outputId": "17ecef78-924a-4045-c8c3-67ba72411457"
      },
      "execution_count": 44,
      "outputs": [
        {
          "output_type": "stream",
          "name": "stdout",
          "text": [
            "resetting  l1\n"
          ]
        },
        {
          "output_type": "execute_result",
          "data": {
            "text/plain": [
              "Sequential(\n",
              "  (l1): Linear(in_features=5722, out_features=2, bias=True)\n",
              ")"
            ]
          },
          "metadata": {},
          "execution_count": 44
        }
      ]
    },
    {
      "cell_type": "code",
      "source": [
        "train_model(    model2,    opt,    lr_scheduler,    X_train_tfidf_torch,    y_train_torch,    X_test_tfidf_torch,    y_test_torch,    n_iterations=100)"
      ],
      "metadata": {
        "colab": {
          "base_uri": "https://localhost:8080/",
          "height": 391
        },
        "id": "jAwW8Lgf0WIm",
        "outputId": "0d976251-55e8-475f-a925-1a48de279c95"
      },
      "execution_count": 45,
      "outputs": [
        {
          "output_type": "display_data",
          "data": {
            "text/plain": [
              "<Figure size 1080x360 with 2 Axes>"
            ],
            "image/png": "[encoded data removed]"
          },
          "metadata": {
            "needs_background": "light"
          }
        },
        {
          "output_type": "execute_result",
          "data": {
            "text/plain": [
              "Sequential(\n",
              "  (l1): Linear(in_features=5722, out_features=2, bias=True)\n",
              ")"
            ]
          },
          "metadata": {},
          "execution_count": 45
        }
      ]
    },
    {
      "cell_type": "markdown",
      "metadata": {
        "id": "PeX9yDXypama"
      },
      "source": [
        "Fit your model to the data. No not hesitate to vary number of iterations, learning rate and so on.\n",
        "\n",
        "_Note: due to very small dataset, increasing the complexity of the network might not be the best idea._"
      ]
    },
    {
      "cell_type": "markdown",
      "metadata": {
        "id": "Mv_Wvjgspama"
      },
      "source": [
        "### Step 3: Comparing it with Naive Bayes\n",
        "\n",
        "Naive Bayes classifier is a good choice for such small problems. Try to tune it for both BOW and TF-iDF features. Compare the results with Logistic Regression."
      ]
    },
    {
      "cell_type": "code",
      "execution_count": 46,
      "metadata": {
        "id": "Fv_dqoE9pama",
        "colab": {
          "base_uri": "https://localhost:8080/",
          "height": 265
        },
        "outputId": "7707e95a-2136-4d7b-8dea-efb8ddcb549a"
      },
      "outputs": [
        {
          "output_type": "display_data",
          "data": {
            "text/plain": [
              "<Figure size 432x288 with 1 Axes>"
            ],
            "image/png": "[encoded data removed]"
          },
          "metadata": {
            "needs_background": "light"
          }
        }
      ],
      "source": [
        "# Your beautiful code here\n",
        "from sklearn.naive_bayes import MultinomialNB\n",
        "\n",
        "model = MultinomialNB().fit(X_train_bow, y_train)\n",
        "\n",
        "for name, X, y in [('train', X_train_bow, y_train),('test ', X_test_bow, y_test)]:\n",
        "    proba = model.predict_proba(X)[:, 1]\n",
        "    auc = roc_auc_score(y, proba)\n",
        "    plt.plot(*roc_curve(y, proba)[:2], label='%s AUC=%.4f' % (name, auc))\n",
        "\n",
        "plt.plot([0, 1], [0, 1], '--', color='black',)\n",
        "plt.legend(fontsize='large')\n",
        "plt.grid()"
      ]
    },
    {
      "cell_type": "code",
      "execution_count": 47,
      "metadata": {
        "colab": {
          "base_uri": "https://localhost:8080/",
          "height": 265
        },
        "outputId": "a0fc9a19-1bde-4c9d-b70a-5bc78a505dcb",
        "id": "tAlnoWMQoCZs"
      },
      "outputs": [
        {
          "output_type": "display_data",
          "data": {
            "text/plain": [
              "<Figure size 432x288 with 1 Axes>"
            ],
            "image/png": "[encoded data removed]"
          },
          "metadata": {
            "needs_background": "light"
          }
        }
      ],
      "source": [
        " \n",
        "model = MultinomialNB().fit(X_train_tfidf, y_train)\n",
        "\n",
        "for name, X, y in [('train', X_train_tfidf, y_train), ('test ', X_test_tfidf, y_test)]:\n",
        "    proba = model.predict_proba(X)[:, 1]\n",
        "    auc = roc_auc_score(y, proba)\n",
        "    plt.plot(*roc_curve(y, proba)[:2], label='%s AUC=%.4f' % (name, auc))\n",
        "\n",
        "plt.plot([0, 1], [0, 1], '--', color='black',)\n",
        "plt.legend(fontsize='large')\n",
        "plt.grid()\n",
        "\n"
      ]
    },
    {
      "cell_type": "markdown",
      "metadata": {
        "id": "gStsotfSpamb"
      },
      "source": [
        "Shape some thoughts on the results you aquired. Which model has show the best performance? Did changing the learning rate/lr scheduler help?"
      ]
    },
    {
      "cell_type": "markdown",
      "metadata": {
        "id": "ra-qqeNcpamb"
      },
      "source": [
        "_Your beautiful thoughts here_\n",
        "\n",
        "Лог регрессия на pytorch и BOW фичами показывает лучший результат \n",
        " (ROC AUC 0.8407 на тесте). Изменение learning rate сильно влияет на результат. Наивный баейс немного хуже чем логрег и на TF-IDF и на BOW фичах (ROC AUC около 0.82 и 0.83 на тесте)."
      ]
    },
    {
      "cell_type": "markdown",
      "metadata": {
        "id": "R7abvxmLpamb"
      },
      "source": [
        "### Step 4: Using the external knowledge.\n",
        "\n",
        "Use the `gensim` word2vec pretrained model to translate words into vectors. Use several models with this new encoding technique. Compare the results, share your thoughts."
      ]
    },
    {
      "cell_type": "code",
      "source": [
        "w2v_model = model"
      ],
      "metadata": {
        "id": "6iFjjF8TU_0j"
      },
      "execution_count": 2,
      "outputs": []
    },
    {
      "cell_type": "code",
      "execution_count": null,
      "metadata": {
        "id": "7O0aoH62pamc"
      },
      "outputs": [],
      "source": [
        "# Your beautiful code here\n",
        "import gensim\n",
        "import gensim.downloader as api\n",
        "\n",
        "model = api.load(\"word2vec-google-news-300\")"
      ]
    },
    {
      "cell_type": "code",
      "source": [
        "def text_to_vec(text, w2v_model):\n",
        "    text_vec = np.zeros((300,), dtype=\"float32\")\n",
        "    n_words = 0\n",
        "    for word in text.split():\n",
        "        if word in w2v_model:\n",
        "            n_words = n_words + 1\n",
        "            text_vec += w2v_model[word]\n",
        "    \n",
        "    if n_words != 0:\n",
        "        text_vec /= n_words\n",
        "    return text_vec\n",
        "\n",
        "def texts_to_vecs(texts, w2v_model):\n",
        "    texts_vecs = np.zeros((len(texts), 300), dtype=\"float32\")\n",
        "    for i, text in enumerate(texts):\n",
        "        texts_vecs[i] = text_to_vec(text, w2v_model)\n",
        "    return texts_vecs"
      ],
      "metadata": {
        "id": "ZgchPw03XmNY"
      },
      "execution_count": 54,
      "outputs": []
    },
    {
      "cell_type": "code",
      "source": [
        "X_train_w2v = texts_to_vecs(texts_train, w2v_model)\n",
        "X_test_w2v = texts_to_vecs(texts_test, w2v_model)\n",
        "\n"
      ],
      "metadata": {
        "id": "3f6kkXFZY4ul"
      },
      "execution_count": 55,
      "outputs": []
    },
    {
      "cell_type": "code",
      "source": [
        "\n",
        "\n",
        "X_train_w2v_torch = torch.from_numpy(X_train_w2v)\n",
        "X_test_w2v_torch = torch.from_numpy(X_test_w2v )\n",
        "\n",
        "#model = nn.Linear(X_train_w2v.shape[1], 1)\n",
        "model = nn.Sequential()\n",
        "model.add_module('l1',nn.Linear(X_train_w2v.shape[1], 2))\n",
        "\n",
        "opt = optim.AdamW(model.parameters(), lr=1e-2)\n",
        "lr_scheduler = optim.lr_scheduler.ReduceLROnPlateau(opt, patience=10)\n",
        "\n",
        "#model.add_module('l1', ### YOUR CODE HERE\n",
        "### YOUR CODE HERE\n",
        "\n"
      ],
      "metadata": {
        "id": "LKQs69DxZAkn"
      },
      "execution_count": 74,
      "outputs": []
    },
    {
      "cell_type": "code",
      "source": [
        "\n",
        "train_model(\n",
        "    model,\n",
        "    opt,\n",
        "    lr_scheduler,\n",
        "    X_train_w2v_torch,\n",
        "    y_train_torch,\n",
        "    X_test_w2v_torch,\n",
        "    y_test_torch,\n",
        "    n_iterations=500\n",
        ")\n",
        "\n",
        "\n",
        "\n",
        "for name, X, y, model in [\n",
        "    ('train', X_train_w2v_torch, y_train, model),\n",
        "    ('test ', X_test_w2v_torch, y_test, model)\n",
        "]:\n",
        "    proba = model(X).detach().cpu().numpy()\n",
        "    auc = roc_auc_score(y, proba[:,1])\n",
        "    plt.plot(*roc_curve(y, proba[:,1])[:2], label='%s AUC=%.4f' % (name, auc))\n",
        "\n",
        "plt.plot([0, 1], [0, 1], '--', color='black',)\n",
        "plt.legend(fontsize='large')\n",
        "plt.grid()\n",
        "\n"
      ],
      "metadata": {
        "colab": {
          "base_uri": "https://localhost:8080/",
          "height": 584
        },
        "id": "_P7x50WBZCcK",
        "outputId": "fd5e2dbe-6af8-492c-9fa7-2fa7d459358f"
      },
      "execution_count": 75,
      "outputs": [
        {
          "output_type": "display_data",
          "data": {
            "text/plain": [
              "<Figure size 1080x360 with 2 Axes>"
            ],
            "image/png": "[encoded data removed]"
          },
          "metadata": {
            "needs_background": "light"
          }
        },
        {
          "output_type": "display_data",
          "data": {
            "text/plain": [
              "<Figure size 432x288 with 1 Axes>"
            ],
            "image/png": "[encoded data removed]"
          },
          "metadata": {
            "needs_background": "light"
          }
        }
      ]
    },
    {
      "cell_type": "markdown",
      "source": [
        "word2vec дает лучшее представление слов чем TF-IDF и BOW, его и надо использовать"
      ],
      "metadata": {
        "id": "UkpWNGL1Z2tV"
      }
    }
  ],
  "metadata": {
    "kernelspec": {
      "display_name": "Python 3",
      "language": "python",
      "name": "python3"
    },
    "language_info": {
      "codemirror_mode": {
        "name": "ipython",
        "version": 3
      },
      "file_extension": ".py",
      "mimetype": "text/x-python",
      "name": "python",
      "nbconvert_exporter": "python",
      "pygments_lexer": "ipython3",
      "version": "3.6.9"
    },
    "colab": {
      "name": "assignment1_01_Word_Vectors.ipynb",
      "provenance": [],
      "collapsed_sections": [],
      "include_colab_link": true
    },
    "accelerator": "GPU"
  },
  "nbformat": 4,
  "nbformat_minor": 0
}